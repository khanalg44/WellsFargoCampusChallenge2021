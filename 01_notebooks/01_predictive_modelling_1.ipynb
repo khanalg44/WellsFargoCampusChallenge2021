{
 "cells": [
  {
   "cell_type": "markdown",
   "id": "5a5fdfb3",
   "metadata": {},
   "source": [
    "# Wells Fargo Challenge\n",
    "\n",
    "- https://www.mindsumo.com/contests/campus-analytics-challenge-2021\n",
    "\n",
    "### To Complete a Submission:\n",
    "\n",
    "Build a classification model for predicting elder fraud in the digital payments space as described in Rule 4, which:\n",
    "\n",
    "- Handles missing variables\n",
    "- Maximizes the F1 score\n",
    "- Uses the given data set\n",
    "- Includes suitable encoding schemes\n",
    "- Has the least set of feature variables\n",
    "\n",
    "### Resources\n",
    "- https://github.com/pdglenn/WellsFargoAnalyticsChallenge"
   ]
  },
  {
   "cell_type": "code",
   "execution_count": 1,
   "id": "69046927",
   "metadata": {},
   "outputs": [],
   "source": [
    "import pandas as pd\n",
    "import numpy as np\n",
    "import pylab as plt\n",
    "import seaborn as sns\n",
    "\n",
    "data_dir = \"./dataset/\"\n",
    "\n",
    "# following few lines are to supress the pandas warnings\n",
    "import warnings\n",
    "warnings.simplefilter(action='ignore', category=FutureWarning)\n",
    "warnings.simplefilter(action='ignore', category=UserWarning)\n",
    "\n",
    "pd.options.mode.chained_assignment = None \n",
    "pd.options.display.max_columns = 20\n",
    "np.set_printoptions(suppress=True) \n",
    "\n",
    "data_dir = \"./dataset/\"\n",
    "image_dir = \"./images/\"\n"
   ]
  },
  {
   "cell_type": "markdown",
   "id": "e9833041",
   "metadata": {},
   "source": [
    "## Loading the data\n",
    "\n",
    "**Note** `pd.read_excel` gave me an errow while reading the `xlsx` file so had to install `openpyxl` using `pip3 install openpyxl` and give `engine=openpyxl` as an extra arguement."
   ]
  },
  {
   "cell_type": "code",
   "execution_count": 2,
   "id": "cbcd0cab",
   "metadata": {},
   "outputs": [],
   "source": [
    "#!pip3 install openpyxl"
   ]
  },
  {
   "cell_type": "code",
   "execution_count": 3,
   "id": "8a179eb2",
   "metadata": {},
   "outputs": [
    {
     "data": {
      "text/html": [
       "<div>\n",
       "<style scoped>\n",
       "    .dataframe tbody tr th:only-of-type {\n",
       "        vertical-align: middle;\n",
       "    }\n",
       "\n",
       "    .dataframe tbody tr th {\n",
       "        vertical-align: top;\n",
       "    }\n",
       "\n",
       "    .dataframe thead th {\n",
       "        text-align: right;\n",
       "    }\n",
       "</style>\n",
       "<table border=\"1\" class=\"dataframe\">\n",
       "  <thead>\n",
       "    <tr style=\"text-align: right;\">\n",
       "      <th></th>\n",
       "      <th>TRAN_AMT</th>\n",
       "      <th>ACCT_PRE_TRAN_AVAIL_BAL</th>\n",
       "      <th>CUST_AGE</th>\n",
       "      <th>OPEN_ACCT_CT</th>\n",
       "      <th>WF_dvc_age</th>\n",
       "      <th>PWD_UPDT_TS</th>\n",
       "      <th>CARR_NAME</th>\n",
       "      <th>RGN_NAME</th>\n",
       "      <th>STATE_PRVNC_TXT</th>\n",
       "      <th>ALERT_TRGR_CD</th>\n",
       "      <th>...</th>\n",
       "      <th>CUST_STATE</th>\n",
       "      <th>PH_NUM_UPDT_TS</th>\n",
       "      <th>CUST_SINCE_DT</th>\n",
       "      <th>TRAN_TS</th>\n",
       "      <th>TRAN_DT</th>\n",
       "      <th>ACTN_CD</th>\n",
       "      <th>ACTN_INTNL_TXT</th>\n",
       "      <th>TRAN_TYPE_CD</th>\n",
       "      <th>ACTVY_DT</th>\n",
       "      <th>FRAUD_NONFRAUD</th>\n",
       "    </tr>\n",
       "  </thead>\n",
       "  <tbody>\n",
       "    <tr>\n",
       "      <th>0</th>\n",
       "      <td>5.38</td>\n",
       "      <td>23619.91</td>\n",
       "      <td>47</td>\n",
       "      <td>4</td>\n",
       "      <td>2777</td>\n",
       "      <td>1/16/2018 11:3:58</td>\n",
       "      <td>cox communications inc.</td>\n",
       "      <td>southwest</td>\n",
       "      <td>nevada</td>\n",
       "      <td>MOBL</td>\n",
       "      <td>...</td>\n",
       "      <td>NV</td>\n",
       "      <td>2/24/2021 15:55:10</td>\n",
       "      <td>1993-01-06</td>\n",
       "      <td>5/3/2021 18:3:58</td>\n",
       "      <td>5/3/2021</td>\n",
       "      <td>SCHPMT</td>\n",
       "      <td>P2P_COMMIT</td>\n",
       "      <td>P2P</td>\n",
       "      <td>5/3/2021</td>\n",
       "      <td>Non-Fraud</td>\n",
       "    </tr>\n",
       "    <tr>\n",
       "      <th>1</th>\n",
       "      <td>65.19</td>\n",
       "      <td>0.00</td>\n",
       "      <td>45</td>\n",
       "      <td>5</td>\n",
       "      <td>2721</td>\n",
       "      <td>NaN</td>\n",
       "      <td>charter communications</td>\n",
       "      <td>southwest</td>\n",
       "      <td>california</td>\n",
       "      <td>MOBL</td>\n",
       "      <td>...</td>\n",
       "      <td>CA</td>\n",
       "      <td>NaN</td>\n",
       "      <td>1971-01-07</td>\n",
       "      <td>1/13/2021 19:19:37</td>\n",
       "      <td>1/13/2021</td>\n",
       "      <td>SCHPMT</td>\n",
       "      <td>P2P_COMMIT</td>\n",
       "      <td>P2P</td>\n",
       "      <td>1/13/2021</td>\n",
       "      <td>Non-Fraud</td>\n",
       "    </tr>\n",
       "  </tbody>\n",
       "</table>\n",
       "<p>2 rows × 24 columns</p>\n",
       "</div>"
      ],
      "text/plain": [
       "   TRAN_AMT  ACCT_PRE_TRAN_AVAIL_BAL  CUST_AGE  OPEN_ACCT_CT  WF_dvc_age  \\\n",
       "0      5.38                 23619.91        47             4        2777   \n",
       "1     65.19                     0.00        45             5        2721   \n",
       "\n",
       "         PWD_UPDT_TS                CARR_NAME   RGN_NAME STATE_PRVNC_TXT  \\\n",
       "0  1/16/2018 11:3:58  cox communications inc.  southwest          nevada   \n",
       "1                NaN   charter communications  southwest      california   \n",
       "\n",
       "  ALERT_TRGR_CD  ... CUST_STATE      PH_NUM_UPDT_TS CUST_SINCE_DT  \\\n",
       "0          MOBL  ...         NV  2/24/2021 15:55:10    1993-01-06   \n",
       "1          MOBL  ...         CA                 NaN    1971-01-07   \n",
       "\n",
       "              TRAN_TS    TRAN_DT ACTN_CD ACTN_INTNL_TXT TRAN_TYPE_CD  \\\n",
       "0    5/3/2021 18:3:58   5/3/2021  SCHPMT     P2P_COMMIT          P2P   \n",
       "1  1/13/2021 19:19:37  1/13/2021  SCHPMT     P2P_COMMIT          P2P   \n",
       "\n",
       "    ACTVY_DT FRAUD_NONFRAUD  \n",
       "0   5/3/2021      Non-Fraud  \n",
       "1  1/13/2021      Non-Fraud  \n",
       "\n",
       "[2 rows x 24 columns]"
      ]
     },
     "execution_count": 3,
     "metadata": {},
     "output_type": "execute_result"
    }
   ],
   "source": [
    "# load the file\n",
    "df_orig = pd.read_excel(data_dir+\"trainset.xlsx\", engine='openpyxl')\n",
    "df_orig.head(2)"
   ]
  },
  {
   "cell_type": "code",
   "execution_count": 4,
   "id": "878d2fec",
   "metadata": {},
   "outputs": [
    {
     "name": "stdout",
     "output_type": "stream",
     "text": [
      "Original data shape: (14000, 24)\n"
     ]
    }
   ],
   "source": [
    "print (\"Original data shape:\", df_orig.shape)"
   ]
  },
  {
   "cell_type": "code",
   "execution_count": 5,
   "id": "0f00fc73",
   "metadata": {
    "scrolled": false
   },
   "outputs": [
    {
     "name": "stdout",
     "output_type": "stream",
     "text": [
      "<class 'pandas.core.frame.DataFrame'>\n",
      "RangeIndex: 14000 entries, 0 to 13999\n",
      "Data columns (total 24 columns):\n",
      " #   Column                   Non-Null Count  Dtype         \n",
      "---  ------                   --------------  -----         \n",
      " 0   TRAN_AMT                 14000 non-null  float64       \n",
      " 1   ACCT_PRE_TRAN_AVAIL_BAL  14000 non-null  float64       \n",
      " 2   CUST_AGE                 14000 non-null  int64         \n",
      " 3   OPEN_ACCT_CT             14000 non-null  int64         \n",
      " 4   WF_dvc_age               14000 non-null  int64         \n",
      " 5   PWD_UPDT_TS              10875 non-null  object        \n",
      " 6   CARR_NAME                11291 non-null  object        \n",
      " 7   RGN_NAME                 11291 non-null  object        \n",
      " 8   STATE_PRVNC_TXT          11291 non-null  object        \n",
      " 9   ALERT_TRGR_CD            14000 non-null  object        \n",
      " 10  DVC_TYPE_TXT             12239 non-null  object        \n",
      " 11  AUTHC_PRIM_TYPE_CD       14000 non-null  object        \n",
      " 12  AUTHC_SCNDRY_STAT_TXT    13926 non-null  object        \n",
      " 13  CUST_ZIP                 14000 non-null  int64         \n",
      " 14  CUST_STATE               13964 non-null  object        \n",
      " 15  PH_NUM_UPDT_TS           6939 non-null   object        \n",
      " 16  CUST_SINCE_DT            14000 non-null  datetime64[ns]\n",
      " 17  TRAN_TS                  14000 non-null  object        \n",
      " 18  TRAN_DT                  14000 non-null  object        \n",
      " 19  ACTN_CD                  14000 non-null  object        \n",
      " 20  ACTN_INTNL_TXT           14000 non-null  object        \n",
      " 21  TRAN_TYPE_CD             14000 non-null  object        \n",
      " 22  ACTVY_DT                 14000 non-null  object        \n",
      " 23  FRAUD_NONFRAUD           14000 non-null  object        \n",
      "dtypes: datetime64[ns](1), float64(2), int64(4), object(17)\n",
      "memory usage: 2.6+ MB\n"
     ]
    }
   ],
   "source": [
    "#information of the dataset\n",
    "df_orig.info()"
   ]
  },
  {
   "cell_type": "code",
   "execution_count": 6,
   "id": "c0c13d07",
   "metadata": {},
   "outputs": [
    {
     "data": {
      "text/plain": [
       "array(['Non-Fraud', 'Fraud'], dtype=object)"
      ]
     },
     "execution_count": 6,
     "metadata": {},
     "output_type": "execute_result"
    }
   ],
   "source": [
    "# check the target classes\n",
    "df_orig[\"FRAUD_NONFRAUD\"].unique()"
   ]
  },
  {
   "cell_type": "markdown",
   "id": "e5c34a9f",
   "metadata": {},
   "source": [
    "## Train test split\n",
    "\n",
    "Before doing any data visualization let's set some test data aside and use them to score the model later on."
   ]
  },
  {
   "cell_type": "code",
   "execution_count": 7,
   "id": "b8681d93",
   "metadata": {},
   "outputs": [],
   "source": [
    "from sklearn.model_selection import train_test_split\n",
    "from sklearn.preprocessing import StandardScaler\n",
    "\n",
    "# stratify the target column so that the distribution look similar in the train and test data\n",
    "df_train0, df_test0 = train_test_split(df_orig,\n",
    "                               test_size = .2,\n",
    "                               random_state = 8848,\n",
    "                               shuffle = True,\n",
    "                               stratify = df_orig[\"FRAUD_NONFRAUD\"])"
   ]
  },
  {
   "cell_type": "code",
   "execution_count": 8,
   "id": "a1a5ee18",
   "metadata": {},
   "outputs": [],
   "source": [
    "df = df_train0.copy()"
   ]
  },
  {
   "cell_type": "code",
   "execution_count": 9,
   "id": "187e2b92",
   "metadata": {},
   "outputs": [
    {
     "data": {
      "text/html": [
       "<div>\n",
       "<style scoped>\n",
       "    .dataframe tbody tr th:only-of-type {\n",
       "        vertical-align: middle;\n",
       "    }\n",
       "\n",
       "    .dataframe tbody tr th {\n",
       "        vertical-align: top;\n",
       "    }\n",
       "\n",
       "    .dataframe thead th {\n",
       "        text-align: right;\n",
       "    }\n",
       "</style>\n",
       "<table border=\"1\" class=\"dataframe\">\n",
       "  <thead>\n",
       "    <tr style=\"text-align: right;\">\n",
       "      <th></th>\n",
       "      <th>TRAN_AMT</th>\n",
       "      <th>ACCT_PRE_TRAN_AVAIL_BAL</th>\n",
       "      <th>CUST_AGE</th>\n",
       "      <th>OPEN_ACCT_CT</th>\n",
       "      <th>WF_dvc_age</th>\n",
       "      <th>PWD_UPDT_TS</th>\n",
       "      <th>CARR_NAME</th>\n",
       "      <th>RGN_NAME</th>\n",
       "      <th>STATE_PRVNC_TXT</th>\n",
       "      <th>ALERT_TRGR_CD</th>\n",
       "      <th>...</th>\n",
       "      <th>CUST_STATE</th>\n",
       "      <th>PH_NUM_UPDT_TS</th>\n",
       "      <th>CUST_SINCE_DT</th>\n",
       "      <th>TRAN_TS</th>\n",
       "      <th>TRAN_DT</th>\n",
       "      <th>ACTN_CD</th>\n",
       "      <th>ACTN_INTNL_TXT</th>\n",
       "      <th>TRAN_TYPE_CD</th>\n",
       "      <th>ACTVY_DT</th>\n",
       "      <th>FRAUD_NONFRAUD</th>\n",
       "    </tr>\n",
       "  </thead>\n",
       "  <tbody>\n",
       "    <tr>\n",
       "      <th>2413</th>\n",
       "      <td>487.93</td>\n",
       "      <td>3714.91</td>\n",
       "      <td>43</td>\n",
       "      <td>5</td>\n",
       "      <td>1037</td>\n",
       "      <td>NaN</td>\n",
       "      <td>NaN</td>\n",
       "      <td>NaN</td>\n",
       "      <td>NaN</td>\n",
       "      <td>MOBL</td>\n",
       "      <td>...</td>\n",
       "      <td>CO</td>\n",
       "      <td>5/0/2020 12:33:41</td>\n",
       "      <td>1988-01-11</td>\n",
       "      <td>4/13/2021 5:2:29</td>\n",
       "      <td>4/13/2021</td>\n",
       "      <td>SCHPMT</td>\n",
       "      <td>P2P_COMMIT</td>\n",
       "      <td>P2P</td>\n",
       "      <td>4/13/2021</td>\n",
       "      <td>Fraud</td>\n",
       "    </tr>\n",
       "    <tr>\n",
       "      <th>1003</th>\n",
       "      <td>4.84</td>\n",
       "      <td>0.00</td>\n",
       "      <td>53</td>\n",
       "      <td>5</td>\n",
       "      <td>305</td>\n",
       "      <td>4/12/2017 15:54:53</td>\n",
       "      <td>NaN</td>\n",
       "      <td>NaN</td>\n",
       "      <td>NaN</td>\n",
       "      <td>MOBL</td>\n",
       "      <td>...</td>\n",
       "      <td>TX</td>\n",
       "      <td>NaN</td>\n",
       "      <td>1987-04-05</td>\n",
       "      <td>4/29/2021 22:54:53</td>\n",
       "      <td>4/29/2021</td>\n",
       "      <td>SCHPMT</td>\n",
       "      <td>P2P_COMMIT</td>\n",
       "      <td>P2P</td>\n",
       "      <td>4/29/2021</td>\n",
       "      <td>Non-Fraud</td>\n",
       "    </tr>\n",
       "  </tbody>\n",
       "</table>\n",
       "<p>2 rows × 24 columns</p>\n",
       "</div>"
      ],
      "text/plain": [
       "      TRAN_AMT  ACCT_PRE_TRAN_AVAIL_BAL  CUST_AGE  OPEN_ACCT_CT  WF_dvc_age  \\\n",
       "2413    487.93                  3714.91        43             5        1037   \n",
       "1003      4.84                     0.00        53             5         305   \n",
       "\n",
       "             PWD_UPDT_TS CARR_NAME RGN_NAME STATE_PRVNC_TXT ALERT_TRGR_CD  \\\n",
       "2413                 NaN       NaN      NaN             NaN          MOBL   \n",
       "1003  4/12/2017 15:54:53       NaN      NaN             NaN          MOBL   \n",
       "\n",
       "      ... CUST_STATE     PH_NUM_UPDT_TS CUST_SINCE_DT             TRAN_TS  \\\n",
       "2413  ...         CO  5/0/2020 12:33:41    1988-01-11    4/13/2021 5:2:29   \n",
       "1003  ...         TX                NaN    1987-04-05  4/29/2021 22:54:53   \n",
       "\n",
       "        TRAN_DT ACTN_CD ACTN_INTNL_TXT TRAN_TYPE_CD   ACTVY_DT FRAUD_NONFRAUD  \n",
       "2413  4/13/2021  SCHPMT     P2P_COMMIT          P2P  4/13/2021          Fraud  \n",
       "1003  4/29/2021  SCHPMT     P2P_COMMIT          P2P  4/29/2021      Non-Fraud  \n",
       "\n",
       "[2 rows x 24 columns]"
      ]
     },
     "execution_count": 9,
     "metadata": {},
     "output_type": "execute_result"
    }
   ],
   "source": [
    "df.head(2)"
   ]
  },
  {
   "cell_type": "code",
   "execution_count": 10,
   "id": "433af641",
   "metadata": {},
   "outputs": [
    {
     "name": "stdout",
     "output_type": "stream",
     "text": [
      "<class 'pandas.core.frame.DataFrame'>\n",
      "Int64Index: 11200 entries, 2413 to 114\n",
      "Data columns (total 24 columns):\n",
      " #   Column                   Non-Null Count  Dtype         \n",
      "---  ------                   --------------  -----         \n",
      " 0   TRAN_AMT                 11200 non-null  float64       \n",
      " 1   ACCT_PRE_TRAN_AVAIL_BAL  11200 non-null  float64       \n",
      " 2   CUST_AGE                 11200 non-null  int64         \n",
      " 3   OPEN_ACCT_CT             11200 non-null  int64         \n",
      " 4   WF_dvc_age               11200 non-null  int64         \n",
      " 5   PWD_UPDT_TS              8684 non-null   object        \n",
      " 6   CARR_NAME                9022 non-null   object        \n",
      " 7   RGN_NAME                 9022 non-null   object        \n",
      " 8   STATE_PRVNC_TXT          9022 non-null   object        \n",
      " 9   ALERT_TRGR_CD            11200 non-null  object        \n",
      " 10  DVC_TYPE_TXT             9805 non-null   object        \n",
      " 11  AUTHC_PRIM_TYPE_CD       11200 non-null  object        \n",
      " 12  AUTHC_SCNDRY_STAT_TXT    11140 non-null  object        \n",
      " 13  CUST_ZIP                 11200 non-null  int64         \n",
      " 14  CUST_STATE               11172 non-null  object        \n",
      " 15  PH_NUM_UPDT_TS           5579 non-null   object        \n",
      " 16  CUST_SINCE_DT            11200 non-null  datetime64[ns]\n",
      " 17  TRAN_TS                  11200 non-null  object        \n",
      " 18  TRAN_DT                  11200 non-null  object        \n",
      " 19  ACTN_CD                  11200 non-null  object        \n",
      " 20  ACTN_INTNL_TXT           11200 non-null  object        \n",
      " 21  TRAN_TYPE_CD             11200 non-null  object        \n",
      " 22  ACTVY_DT                 11200 non-null  object        \n",
      " 23  FRAUD_NONFRAUD           11200 non-null  object        \n",
      "dtypes: datetime64[ns](1), float64(2), int64(4), object(17)\n",
      "memory usage: 2.1+ MB\n"
     ]
    }
   ],
   "source": [
    "df.info()"
   ]
  },
  {
   "cell_type": "code",
   "execution_count": 11,
   "id": "63c553b8",
   "metadata": {},
   "outputs": [
    {
     "data": {
      "text/plain": [
       "(11200, 24)"
      ]
     },
     "execution_count": 11,
     "metadata": {},
     "output_type": "execute_result"
    }
   ],
   "source": [
    "df.shape"
   ]
  },
  {
   "cell_type": "code",
   "execution_count": 12,
   "id": "403f3288",
   "metadata": {},
   "outputs": [],
   "source": [
    "# find numerical and categorical columns\n",
    "nume_cols = list(df.select_dtypes(include=\"number\").columns)\n",
    "cate_cols = list(df.select_dtypes(exclude=\"number\").columns)\n",
    "cate_cols.remove('FRAUD_NONFRAUD')"
   ]
  },
  {
   "cell_type": "code",
   "execution_count": 13,
   "id": "6090d649",
   "metadata": {},
   "outputs": [
    {
     "name": "stdout",
     "output_type": "stream",
     "text": [
      "Numeric Columns:\n",
      " ['TRAN_AMT', 'ACCT_PRE_TRAN_AVAIL_BAL', 'CUST_AGE', 'OPEN_ACCT_CT', 'WF_dvc_age', 'CUST_ZIP']\n",
      "\n",
      "Categorical Columns:\n",
      " ['PWD_UPDT_TS', 'CARR_NAME', 'RGN_NAME', 'STATE_PRVNC_TXT', 'ALERT_TRGR_CD', 'DVC_TYPE_TXT', 'AUTHC_PRIM_TYPE_CD', 'AUTHC_SCNDRY_STAT_TXT', 'CUST_STATE', 'PH_NUM_UPDT_TS', 'CUST_SINCE_DT', 'TRAN_TS', 'TRAN_DT', 'ACTN_CD', 'ACTN_INTNL_TXT', 'TRAN_TYPE_CD', 'ACTVY_DT']\n"
     ]
    }
   ],
   "source": [
    "print (\"Numeric Columns:\\n\", nume_cols)\n",
    "print (\"\")\n",
    "print (\"Categorical Columns:\\n\", cate_cols)"
   ]
  },
  {
   "cell_type": "code",
   "execution_count": 14,
   "id": "389fd007",
   "metadata": {},
   "outputs": [
    {
     "data": {
      "text/html": [
       "<div>\n",
       "<style scoped>\n",
       "    .dataframe tbody tr th:only-of-type {\n",
       "        vertical-align: middle;\n",
       "    }\n",
       "\n",
       "    .dataframe tbody tr th {\n",
       "        vertical-align: top;\n",
       "    }\n",
       "\n",
       "    .dataframe thead th {\n",
       "        text-align: right;\n",
       "    }\n",
       "</style>\n",
       "<table border=\"1\" class=\"dataframe\">\n",
       "  <thead>\n",
       "    <tr style=\"text-align: right;\">\n",
       "      <th></th>\n",
       "      <th>TRAN_AMT</th>\n",
       "      <th>ACCT_PRE_TRAN_AVAIL_BAL</th>\n",
       "      <th>CUST_AGE</th>\n",
       "      <th>OPEN_ACCT_CT</th>\n",
       "      <th>WF_dvc_age</th>\n",
       "      <th>CUST_ZIP</th>\n",
       "    </tr>\n",
       "  </thead>\n",
       "  <tbody>\n",
       "    <tr>\n",
       "      <th>2413</th>\n",
       "      <td>487.93</td>\n",
       "      <td>3714.91</td>\n",
       "      <td>43</td>\n",
       "      <td>5</td>\n",
       "      <td>1037</td>\n",
       "      <td>80234</td>\n",
       "    </tr>\n",
       "    <tr>\n",
       "      <th>1003</th>\n",
       "      <td>4.84</td>\n",
       "      <td>0.00</td>\n",
       "      <td>53</td>\n",
       "      <td>5</td>\n",
       "      <td>305</td>\n",
       "      <td>75232</td>\n",
       "    </tr>\n",
       "  </tbody>\n",
       "</table>\n",
       "</div>"
      ],
      "text/plain": [
       "      TRAN_AMT  ACCT_PRE_TRAN_AVAIL_BAL  CUST_AGE  OPEN_ACCT_CT  WF_dvc_age  \\\n",
       "2413    487.93                  3714.91        43             5        1037   \n",
       "1003      4.84                     0.00        53             5         305   \n",
       "\n",
       "      CUST_ZIP  \n",
       "2413     80234  \n",
       "1003     75232  "
      ]
     },
     "execution_count": 14,
     "metadata": {},
     "output_type": "execute_result"
    }
   ],
   "source": [
    "df[nume_cols].head(2)"
   ]
  },
  {
   "cell_type": "code",
   "execution_count": 15,
   "id": "1c41c842",
   "metadata": {},
   "outputs": [],
   "source": [
    "nume_cols.remove('CUST_ZIP')\n",
    "cate_cols.append('CUST_ZIP')"
   ]
  },
  {
   "cell_type": "code",
   "execution_count": 16,
   "id": "4a7dc478",
   "metadata": {},
   "outputs": [
    {
     "name": "stdout",
     "output_type": "stream",
     "text": [
      "Numeric Columns:\n",
      " ['TRAN_AMT', 'ACCT_PRE_TRAN_AVAIL_BAL', 'CUST_AGE', 'OPEN_ACCT_CT', 'WF_dvc_age']\n",
      "\n",
      "Categorical Columns:\n",
      " ['PWD_UPDT_TS', 'CARR_NAME', 'RGN_NAME', 'STATE_PRVNC_TXT', 'ALERT_TRGR_CD', 'DVC_TYPE_TXT', 'AUTHC_PRIM_TYPE_CD', 'AUTHC_SCNDRY_STAT_TXT', 'CUST_STATE', 'PH_NUM_UPDT_TS', 'CUST_SINCE_DT', 'TRAN_TS', 'TRAN_DT', 'ACTN_CD', 'ACTN_INTNL_TXT', 'TRAN_TYPE_CD', 'ACTVY_DT', 'CUST_ZIP']\n"
     ]
    }
   ],
   "source": [
    "print (\"Numeric Columns:\\n\", nume_cols)\n",
    "print (\"\")\n",
    "print (\"Categorical Columns:\\n\", cate_cols)"
   ]
  },
  {
   "cell_type": "code",
   "execution_count": 17,
   "id": "0c5b3198",
   "metadata": {},
   "outputs": [
    {
     "data": {
      "text/html": [
       "<div>\n",
       "<style scoped>\n",
       "    .dataframe tbody tr th:only-of-type {\n",
       "        vertical-align: middle;\n",
       "    }\n",
       "\n",
       "    .dataframe tbody tr th {\n",
       "        vertical-align: top;\n",
       "    }\n",
       "\n",
       "    .dataframe thead th {\n",
       "        text-align: right;\n",
       "    }\n",
       "</style>\n",
       "<table border=\"1\" class=\"dataframe\">\n",
       "  <thead>\n",
       "    <tr style=\"text-align: right;\">\n",
       "      <th></th>\n",
       "      <th>TRAN_AMT</th>\n",
       "      <th>ACCT_PRE_TRAN_AVAIL_BAL</th>\n",
       "      <th>CUST_AGE</th>\n",
       "      <th>OPEN_ACCT_CT</th>\n",
       "      <th>WF_dvc_age</th>\n",
       "    </tr>\n",
       "  </thead>\n",
       "  <tbody>\n",
       "    <tr>\n",
       "      <th>2413</th>\n",
       "      <td>487.93</td>\n",
       "      <td>3714.91</td>\n",
       "      <td>43</td>\n",
       "      <td>5</td>\n",
       "      <td>1037</td>\n",
       "    </tr>\n",
       "    <tr>\n",
       "      <th>1003</th>\n",
       "      <td>4.84</td>\n",
       "      <td>0.00</td>\n",
       "      <td>53</td>\n",
       "      <td>5</td>\n",
       "      <td>305</td>\n",
       "    </tr>\n",
       "    <tr>\n",
       "      <th>8660</th>\n",
       "      <td>494.94</td>\n",
       "      <td>2525.50</td>\n",
       "      <td>70</td>\n",
       "      <td>9</td>\n",
       "      <td>583</td>\n",
       "    </tr>\n",
       "    <tr>\n",
       "      <th>6349</th>\n",
       "      <td>0.01</td>\n",
       "      <td>0.00</td>\n",
       "      <td>70</td>\n",
       "      <td>6</td>\n",
       "      <td>467</td>\n",
       "    </tr>\n",
       "    <tr>\n",
       "      <th>1860</th>\n",
       "      <td>488.36</td>\n",
       "      <td>4344.55</td>\n",
       "      <td>38</td>\n",
       "      <td>4</td>\n",
       "      <td>0</td>\n",
       "    </tr>\n",
       "  </tbody>\n",
       "</table>\n",
       "</div>"
      ],
      "text/plain": [
       "      TRAN_AMT  ACCT_PRE_TRAN_AVAIL_BAL  CUST_AGE  OPEN_ACCT_CT  WF_dvc_age\n",
       "2413    487.93                  3714.91        43             5        1037\n",
       "1003      4.84                     0.00        53             5         305\n",
       "8660    494.94                  2525.50        70             9         583\n",
       "6349      0.01                     0.00        70             6         467\n",
       "1860    488.36                  4344.55        38             4           0"
      ]
     },
     "execution_count": 17,
     "metadata": {},
     "output_type": "execute_result"
    }
   ],
   "source": [
    "df[nume_cols].head(5)"
   ]
  },
  {
   "cell_type": "code",
   "execution_count": 18,
   "id": "39b979da",
   "metadata": {},
   "outputs": [
    {
     "data": {
      "text/plain": [
       "{'TRAN_AMT': 162.07,\n",
       " 'ACCT_PRE_TRAN_AVAIL_BAL': 2396.1549999999997,\n",
       " 'CUST_AGE': 59.0,\n",
       " 'OPEN_ACCT_CT': 5.0,\n",
       " 'WF_dvc_age': 366.5,\n",
       " 'PWD_UPDT_TS': '5/18/2020 4:7:20',\n",
       " 'CARR_NAME': 'cox communications inc.',\n",
       " 'RGN_NAME': 'southwest',\n",
       " 'STATE_PRVNC_TXT': 'california',\n",
       " 'ALERT_TRGR_CD': 'MOBL',\n",
       " 'DVC_TYPE_TXT': 'MOBILE',\n",
       " 'AUTHC_PRIM_TYPE_CD': 'UN_PWD',\n",
       " 'AUTHC_SCNDRY_STAT_TXT': 'ALLOW',\n",
       " 'CUST_ZIP': 77459,\n",
       " 'CUST_STATE': 'CA',\n",
       " 'PH_NUM_UPDT_TS': '7/8/2019 6:45:37',\n",
       " 'CUST_SINCE_DT': Timestamp('1997-08-01 00:00:00'),\n",
       " 'TRAN_TS': '2/3/2021 9:0:51',\n",
       " 'TRAN_DT': '2/28/2021',\n",
       " 'ACTN_CD': 'SCHPMT',\n",
       " 'ACTN_INTNL_TXT': 'P2P_COMMIT',\n",
       " 'TRAN_TYPE_CD': 'P2P',\n",
       " 'ACTVY_DT': '2/28/2021'}"
      ]
     },
     "execution_count": 18,
     "metadata": {},
     "output_type": "execute_result"
    }
   ],
   "source": [
    "impute_vals={}\n",
    "\n",
    "for col in df.columns:\n",
    "    if col in nume_cols:\n",
    "        impute_vals[col] = df[col].median()\n",
    "    elif col in cate_cols:\n",
    "        impute_vals[col] = df[col].mode()[0]\n",
    "        \n",
    "impute_vals"
   ]
  },
  {
   "cell_type": "code",
   "execution_count": 19,
   "id": "a5f03de5",
   "metadata": {},
   "outputs": [],
   "source": [
    "cols_to_drop = ['PH_NUM_UPDT_TS', 'PWD_UPDT_TS', 'CARR_NAME', 'RGN_NAME', 'STATE_PRVNC_TXT']\n",
    "nume_cols    = [c for c in nume_cols if c not in cols_to_drop]\n",
    "cate_cols    = [c for c in cate_cols if c not in cols_to_drop]"
   ]
  },
  {
   "cell_type": "code",
   "execution_count": 20,
   "id": "2384ab89",
   "metadata": {},
   "outputs": [],
   "source": [
    "def impute_data(df, impute_dict=impute_vals):\n",
    "    \"\"\"\n",
    "    this function takes in a dataframe and list of columns which have missing values\n",
    "    then imputes those columns using the precomputed values.\n",
    "    \"\"\"\n",
    "    for col in list(impute_dict.keys()):\n",
    "        df[col] = df[col].fillna(impute_dict[col])\n",
    "    return df"
   ]
  },
  {
   "cell_type": "code",
   "execution_count": 21,
   "id": "2d9a7e19",
   "metadata": {},
   "outputs": [],
   "source": [
    "# impute the columns : cols_to_impute\n",
    "df=impute_data(df)"
   ]
  },
  {
   "cell_type": "code",
   "execution_count": 22,
   "id": "6638c391",
   "metadata": {},
   "outputs": [
    {
     "data": {
      "text/plain": [
       "TRAN_AMT                   0\n",
       "ACCT_PRE_TRAN_AVAIL_BAL    0\n",
       "CUST_AGE                   0\n",
       "OPEN_ACCT_CT               0\n",
       "WF_dvc_age                 0\n",
       "PWD_UPDT_TS                0\n",
       "CARR_NAME                  0\n",
       "RGN_NAME                   0\n",
       "STATE_PRVNC_TXT            0\n",
       "ALERT_TRGR_CD              0\n",
       "DVC_TYPE_TXT               0\n",
       "AUTHC_PRIM_TYPE_CD         0\n",
       "AUTHC_SCNDRY_STAT_TXT      0\n",
       "CUST_ZIP                   0\n",
       "CUST_STATE                 0\n",
       "PH_NUM_UPDT_TS             0\n",
       "CUST_SINCE_DT              0\n",
       "TRAN_TS                    0\n",
       "TRAN_DT                    0\n",
       "ACTN_CD                    0\n",
       "ACTN_INTNL_TXT             0\n",
       "TRAN_TYPE_CD               0\n",
       "ACTVY_DT                   0\n",
       "FRAUD_NONFRAUD             0\n",
       "dtype: int64"
      ]
     },
     "execution_count": 22,
     "metadata": {},
     "output_type": "execute_result"
    }
   ],
   "source": [
    "df.isnull().sum()"
   ]
  },
  {
   "cell_type": "code",
   "execution_count": 23,
   "id": "43dfd2fd",
   "metadata": {},
   "outputs": [
    {
     "data": {
      "text/html": [
       "<div>\n",
       "<style scoped>\n",
       "    .dataframe tbody tr th:only-of-type {\n",
       "        vertical-align: middle;\n",
       "    }\n",
       "\n",
       "    .dataframe tbody tr th {\n",
       "        vertical-align: top;\n",
       "    }\n",
       "\n",
       "    .dataframe thead th {\n",
       "        text-align: right;\n",
       "    }\n",
       "</style>\n",
       "<table border=\"1\" class=\"dataframe\">\n",
       "  <thead>\n",
       "    <tr style=\"text-align: right;\">\n",
       "      <th></th>\n",
       "      <th>TRAN_AMT</th>\n",
       "      <th>ACCT_PRE_TRAN_AVAIL_BAL</th>\n",
       "      <th>CUST_AGE</th>\n",
       "      <th>OPEN_ACCT_CT</th>\n",
       "      <th>WF_dvc_age</th>\n",
       "    </tr>\n",
       "  </thead>\n",
       "  <tbody>\n",
       "    <tr>\n",
       "      <th>2413</th>\n",
       "      <td>487.93</td>\n",
       "      <td>3714.91</td>\n",
       "      <td>43</td>\n",
       "      <td>5</td>\n",
       "      <td>1037</td>\n",
       "    </tr>\n",
       "    <tr>\n",
       "      <th>1003</th>\n",
       "      <td>4.84</td>\n",
       "      <td>0.00</td>\n",
       "      <td>53</td>\n",
       "      <td>5</td>\n",
       "      <td>305</td>\n",
       "    </tr>\n",
       "  </tbody>\n",
       "</table>\n",
       "</div>"
      ],
      "text/plain": [
       "      TRAN_AMT  ACCT_PRE_TRAN_AVAIL_BAL  CUST_AGE  OPEN_ACCT_CT  WF_dvc_age\n",
       "2413    487.93                  3714.91        43             5        1037\n",
       "1003      4.84                     0.00        53             5         305"
      ]
     },
     "execution_count": 23,
     "metadata": {},
     "output_type": "execute_result"
    }
   ],
   "source": [
    "df[nume_cols].head(2)"
   ]
  },
  {
   "cell_type": "markdown",
   "id": "b28d659f",
   "metadata": {},
   "source": [
    "## Feature Transformation\n",
    "\n",
    "- Convert the categorical featurs into small number of categories when possible"
   ]
  },
  {
   "cell_type": "code",
   "execution_count": 24,
   "id": "a36c9dff",
   "metadata": {},
   "outputs": [],
   "source": [
    "def wrangle_column_data(df):\n",
    "    #CUST_STATE\n",
    "    # keep only CO, TX, MN, AZ and convert rest into OTHER\n",
    "    df[\"CUST_STATE\"] = df[\"CUST_STATE\"].apply(lambda x: x if x in [\"CO\", \"TX\", \"MN\", \"AZ\"] else \"OTHER\")\n",
    "    #OPEN_ACCT_CT\n",
    "    #keep only the [2,9] and convert others to 10\n",
    "    df[\"OPEN_ACCT_CT\"] = df[\"OPEN_ACCT_CT\"].apply(lambda x: x if x in range(1,13) else 13)\n",
    "    return df"
   ]
  },
  {
   "cell_type": "code",
   "execution_count": 25,
   "id": "8f08d747",
   "metadata": {},
   "outputs": [],
   "source": [
    "df=wrangle_column_data(df)"
   ]
  },
  {
   "cell_type": "code",
   "execution_count": 26,
   "id": "d1d5cb4c",
   "metadata": {},
   "outputs": [
    {
     "data": {
      "text/plain": [
       "['TRAN_AMT',\n",
       " 'ACCT_PRE_TRAN_AVAIL_BAL',\n",
       " 'CUST_AGE',\n",
       " 'OPEN_ACCT_CT',\n",
       " 'WF_dvc_age']"
      ]
     },
     "execution_count": 26,
     "metadata": {},
     "output_type": "execute_result"
    }
   ],
   "source": [
    "nume_cols"
   ]
  },
  {
   "cell_type": "code",
   "execution_count": 27,
   "id": "4f7d8aa1",
   "metadata": {},
   "outputs": [],
   "source": [
    "cate_cols_to_keep = ['ALERT_TRGR_CD', \"CUST_STATE\"]"
   ]
  },
  {
   "cell_type": "code",
   "execution_count": 28,
   "id": "140ebf82",
   "metadata": {
    "scrolled": true
   },
   "outputs": [
    {
     "data": {
      "text/html": [
       "<div>\n",
       "<style scoped>\n",
       "    .dataframe tbody tr th:only-of-type {\n",
       "        vertical-align: middle;\n",
       "    }\n",
       "\n",
       "    .dataframe tbody tr th {\n",
       "        vertical-align: top;\n",
       "    }\n",
       "\n",
       "    .dataframe thead th {\n",
       "        text-align: right;\n",
       "    }\n",
       "</style>\n",
       "<table border=\"1\" class=\"dataframe\">\n",
       "  <thead>\n",
       "    <tr style=\"text-align: right;\">\n",
       "      <th></th>\n",
       "      <th>ALERT_TRGR_CD</th>\n",
       "      <th>CUST_STATE</th>\n",
       "    </tr>\n",
       "  </thead>\n",
       "  <tbody>\n",
       "    <tr>\n",
       "      <th>2413</th>\n",
       "      <td>MOBL</td>\n",
       "      <td>CO</td>\n",
       "    </tr>\n",
       "    <tr>\n",
       "      <th>1003</th>\n",
       "      <td>MOBL</td>\n",
       "      <td>TX</td>\n",
       "    </tr>\n",
       "    <tr>\n",
       "      <th>8660</th>\n",
       "      <td>MOBL</td>\n",
       "      <td>TX</td>\n",
       "    </tr>\n",
       "    <tr>\n",
       "      <th>6349</th>\n",
       "      <td>ONLN</td>\n",
       "      <td>MN</td>\n",
       "    </tr>\n",
       "    <tr>\n",
       "      <th>1860</th>\n",
       "      <td>MOBL</td>\n",
       "      <td>AZ</td>\n",
       "    </tr>\n",
       "  </tbody>\n",
       "</table>\n",
       "</div>"
      ],
      "text/plain": [
       "     ALERT_TRGR_CD CUST_STATE\n",
       "2413          MOBL         CO\n",
       "1003          MOBL         TX\n",
       "8660          MOBL         TX\n",
       "6349          ONLN         MN\n",
       "1860          MOBL         AZ"
      ]
     },
     "execution_count": 28,
     "metadata": {},
     "output_type": "execute_result"
    }
   ],
   "source": [
    "df[cate_cols_to_keep].head()"
   ]
  },
  {
   "cell_type": "markdown",
   "id": "8d9560f4",
   "metadata": {},
   "source": [
    "## Build a model with only Numerical features"
   ]
  },
  {
   "cell_type": "code",
   "execution_count": 29,
   "id": "26fa984e",
   "metadata": {},
   "outputs": [],
   "source": [
    "# map Fraud to 1 and Non-Fraud to 0 in the dataframe for both train and test data\n",
    "df[\"FRAUD_NONFRAUD\"] = df[\"FRAUD_NONFRAUD\"].map({\"Fraud\":1, \"Non-Fraud\":0})"
   ]
  },
  {
   "cell_type": "code",
   "execution_count": 30,
   "id": "be67f722",
   "metadata": {},
   "outputs": [],
   "source": [
    "X_train1, y_train1 = df[nume_cols], df[\"FRAUD_NONFRAUD\"]"
   ]
  },
  {
   "cell_type": "code",
   "execution_count": 31,
   "id": "cb0a1992",
   "metadata": {},
   "outputs": [
    {
     "name": "stdout",
     "output_type": "stream",
     "text": [
      "missing values in test data:\n",
      " TRAN_AMT                   0\n",
      "ACCT_PRE_TRAN_AVAIL_BAL    0\n",
      "CUST_AGE                   0\n",
      "OPEN_ACCT_CT               0\n",
      "WF_dvc_age                 0\n",
      "dtype: int64\n"
     ]
    }
   ],
   "source": [
    "# prepare test data\n",
    "df_test = df_test0.copy()\n",
    "print (\"missing values in test data:\\n\", df_test[nume_cols].isnull().sum() )\n",
    "df_test[\"FRAUD_NONFRAUD\"] = df_test[\"FRAUD_NONFRAUD\"].map({\"Fraud\":1,\"Non-Fraud\":0})\n",
    "X_test1,  y_test1  = df_test[nume_cols], df_test[\"FRAUD_NONFRAUD\"]"
   ]
  },
  {
   "cell_type": "code",
   "execution_count": 32,
   "id": "cd05be2e",
   "metadata": {},
   "outputs": [
    {
     "data": {
      "text/plain": [
       "((11200, 5), (11200,), (2800, 5), (2800,))"
      ]
     },
     "execution_count": 32,
     "metadata": {},
     "output_type": "execute_result"
    }
   ],
   "source": [
    "X_train1.shape, y_train1.shape, X_test1.shape, y_test1.shape"
   ]
  },
  {
   "cell_type": "markdown",
   "id": "bf131bc3",
   "metadata": {},
   "source": [
    "### Base Model: Logistic Regression, Random Forest, XGBoost"
   ]
  },
  {
   "cell_type": "code",
   "execution_count": 33,
   "id": "5534918f",
   "metadata": {},
   "outputs": [],
   "source": [
    "from sklearn.linear_model import LogisticRegression\n",
    "from sklearn.model_selection import GridSearchCV\n",
    "from sklearn.ensemble import RandomForestClassifier, VotingClassifier\n",
    "from xgboost import XGBClassifier\n",
    "from sklearn.metrics import accuracy_score, f1_score, precision_score, recall_score\n",
    "from sklearn.metrics import classification_report\n",
    "from sklearn.metrics import roc_auc_score, plot_roc_curve"
   ]
  },
  {
   "cell_type": "code",
   "execution_count": 34,
   "id": "f94662ce",
   "metadata": {},
   "outputs": [],
   "source": [
    "class Model_training:\n",
    "    def __init__(self, model, X_train, y_train, X_test, y_test, savename=\"Fig\"):\n",
    "        self.model = model\n",
    "        self.X_train = X_train\n",
    "        self.y_train = y_train\n",
    "        self.X_test  = X_test\n",
    "        self.y_test  = y_test\n",
    "        self.savename = savename\n",
    "        \n",
    "        self.model.fit(self.X_train, self.y_train)\n",
    "    \n",
    "    def print_metrics(self):\n",
    "        round_to_pct = lambda x: np.round(100*x, 2)\n",
    "        y_pred = self.model.predict(self.X_test)\n",
    "        ac = round_to_pct(accuracy_score(self.y_test, y_pred))\n",
    "        f1 = round_to_pct(f1_score(self.y_test, y_pred))\n",
    "        pr = round_to_pct(precision_score(self.y_test, y_pred))\n",
    "        re = round_to_pct(recall_score(self.y_test, y_pred))\n",
    "        print (f\"Accuracy = {ac}% F1 Score= {f1}% \\nPrecision={pr}% Recall= {re}%\")\n",
    "        print (classification_report(self.y_test, y_pred))\n",
    "        return (self.model, (ac, f1, pr, re))\n",
    "        \n",
    "    def displot(self):\n",
    "        pr=self.model.predict_proba(self.X_test)        \n",
    "        roc_auc = np.round(roc_auc_score(self.y_test,\n",
    "                                         self.model.predict_proba(self.X_test)[:, 1]), 2)\n",
    "\n",
    "        pr_df = pd.DataFrame({'pred_0':pr[:,0], \n",
    "                              'pred_1':pr[:,1], \n",
    "                              'y': self.y_test})\n",
    "\n",
    "        ax=sns.displot(data=pr_df, \n",
    "                       x='pred_1', \n",
    "                       hue='y', \n",
    "                       alpha=0.8, \n",
    "                       kind=\"kde\",\n",
    "                       height = 3.5, \n",
    "                       aspect=1.8);\n",
    "        \n",
    "        plt.xlabel(\"Prob. Positive Predictions\", fontsize=16)\n",
    "        plt.text(0.2, 2, \"ROC_AUC=\"+str(roc_auc), fontsize=16)\n",
    "        plt.ylabel(\"Density\", fontsize=16)\n",
    "        \n",
    "        plt.yticks(fontsize=16);\n",
    "        plt.xticks(fontsize=16);\n",
    "        figname = \"images/displot_\"+self.savename+\"_nb1.png\"\n",
    "        plt.savefig(figname, dpi=300, bbox_inches='tight')\n",
    "\n",
    "    def feature_importance(self):\n",
    "\n",
    "        df_imp = pd.DataFrame({\"Feature\":self.X_train.columns, \n",
    "                               \"Feature Importance\":self.model.feature_importances_})\n",
    "        \n",
    "        df_imp = df_imp.sort_values(by=['Feature Importance'],\n",
    "                                    axis=0,\n",
    "                                    ascending=True)\n",
    "        \n",
    "        df_imp.plot(kind='barh',\n",
    "                    x='Feature', \n",
    "                    y='Feature Importance',\n",
    "                    color=\"C2\", figsize=(8,5));\n",
    "        \n",
    "        plt.grid(axis='x')\n",
    "        plt.yticks(fontsize=16);\n",
    "        plt.ylabel('');\n",
    "        plt.xticks(fontsize=16);\n",
    "        plt.legend(loc='best',fontsize=16);\n",
    "        \n",
    "        figname = \"images/feat_imp_\"+self.savename+\"_nb1.png\"\n",
    "        plt.savefig(figname, dpi=300, bbox_inches='tight')\n",
    "        \n",
    "    def plot_roc_curve(self):\n",
    "        roc_auc = np.round(roc_auc_score(self.y_test,\n",
    "                                         self.model.predict_proba(self.X_test)[:, 1]), 2)\n",
    "        label_name = self.savename +\"\\n AUC = \"+str(roc_auc)\n",
    "        \n",
    "        plot_roc_curve(self.model, self.X_test, self.y_test,\n",
    "                       lw=3., color='C2', label=label_name)\n",
    "        plt.xlabel(\"False Positive Rate\", fontsize=16)\n",
    "        plt.ylabel(\"True Positive Rate\", fontsize=16)\n",
    "        plt.xticks(fontsize=16);\n",
    "        plt.yticks(fontsize=16);\n",
    "        plt.legend(loc=\"center\", fontsize=14);\n",
    "        plt.axvline(x=0, color='k', ls='--', lw=1)\n",
    "        plt.axhline(y=0, color='k', ls='--', lw=1)\n",
    "        plt.axhline(y=1, color='k', ls='--', lw=1)\n",
    "        \n",
    "        figname = \"images/roc_curve_\"+self.savename+\"_nb1.png\"\n",
    "        plt.savefig(figname, dpi=300, bbox_inches='tight')"
   ]
  },
  {
   "cell_type": "code",
   "execution_count": 35,
   "id": "8184846a",
   "metadata": {},
   "outputs": [
    {
     "name": "stdout",
     "output_type": "stream",
     "text": [
      "Accuracy = 93.64% F1 Score= 88.81% \n",
      "Precision=93.26% Recall= 84.75%\n",
      "              precision    recall  f1-score   support\n",
      "\n",
      "           0       0.94      0.97      0.96      1967\n",
      "           1       0.93      0.85      0.89       833\n",
      "\n",
      "    accuracy                           0.94      2800\n",
      "   macro avg       0.94      0.91      0.92      2800\n",
      "weighted avg       0.94      0.94      0.94      2800\n",
      "\n"
     ]
    },
    {
     "data": {
      "image/png": "[encoded data removed]",
      "text/plain": [
       "<Figure size 495.975x252 with 1 Axes>"
      ]
     },
     "metadata": {
      "needs_background": "light"
     },
     "output_type": "display_data"
    },
    {
     "data": {
      "image/png": "[encoded data removed]",
      "text/plain": [
       "<Figure size 432x288 with 1 Axes>"
      ]
     },
     "metadata": {
      "needs_background": "light"
     },
     "output_type": "display_data"
    },
    {
     "data": {
      "image/png": "[encoded data removed]",
      "text/plain": [
       "<Figure size 576x360 with 1 Axes>"
      ]
     },
     "metadata": {
      "needs_background": "light"
     },
     "output_type": "display_data"
    }
   ],
   "source": [
    "model_rf = RandomForestClassifier(max_depth=10,\n",
    "                                  random_state=8848)\n",
    "\n",
    "mod = Model_training(model_rf, \n",
    "                     X_train1, y_train1,\n",
    "                     X_test1, y_test1,\n",
    "                     \"Random_Forest\")\n",
    "mod_tr, _= mod.print_metrics()\n",
    "mod.displot()\n",
    "mod.plot_roc_curve()\n",
    "mod.feature_importance()"
   ]
  },
  {
   "cell_type": "markdown",
   "id": "6cb1816c",
   "metadata": {},
   "source": [
    "For a base model: F1 score  ~ 88% is a great result."
   ]
  },
  {
   "cell_type": "code",
   "execution_count": 36,
   "id": "5f39e4e1",
   "metadata": {},
   "outputs": [
    {
     "name": "stdout",
     "output_type": "stream",
     "text": [
      "Fitting 5 folds for each of 6 candidates, totalling 30 fits\n"
     ]
    },
    {
     "name": "stderr",
     "output_type": "stream",
     "text": [
      "[Parallel(n_jobs=1)]: Using backend SequentialBackend with 1 concurrent workers.\n",
      "[Parallel(n_jobs=1)]: Done  30 out of  30 | elapsed:   32.0s finished\n"
     ]
    },
    {
     "name": "stdout",
     "output_type": "stream",
     "text": [
      "Accuracy = 93.57% F1 Score= 88.78% \n",
      "Precision=92.35% Recall= 85.47%\n",
      "              precision    recall  f1-score   support\n",
      "\n",
      "           0       0.94      0.97      0.95      1967\n",
      "           1       0.92      0.85      0.89       833\n",
      "\n",
      "    accuracy                           0.94      2800\n",
      "   macro avg       0.93      0.91      0.92      2800\n",
      "weighted avg       0.94      0.94      0.93      2800\n",
      "\n"
     ]
    },
    {
     "data": {
      "image/png": "[encoded data removed]",
      "text/plain": [
       "<Figure size 495.975x252 with 1 Axes>"
      ]
     },
     "metadata": {
      "needs_background": "light"
     },
     "output_type": "display_data"
    }
   ],
   "source": [
    "model_rf_gs = GridSearchCV(RandomForestClassifier(),\n",
    "                           param_grid={'max_depth':[8, 9, 10, 11, 12, 14]},\n",
    "                           scoring ='f1',\n",
    "                           verbose=1)\n",
    "\n",
    "mod2 = Model_training(model_rf_gs,\n",
    "                      X_train1, y_train1, X_test1, y_test1,\n",
    "                      \"random_forest_grid_search\")\n",
    "mod_tr, _= mod2.print_metrics()\n",
    "mod2.displot()"
   ]
  },
  {
   "cell_type": "code",
   "execution_count": 37,
   "id": "ea85b05b",
   "metadata": {},
   "outputs": [
    {
     "data": {
      "text/plain": [
       "{'max_depth': 14}"
      ]
     },
     "execution_count": 37,
     "metadata": {},
     "output_type": "execute_result"
    }
   ],
   "source": [
    "mod_tr.best_params_"
   ]
  },
  {
   "cell_type": "code",
   "execution_count": 38,
   "id": "681e0542",
   "metadata": {},
   "outputs": [
    {
     "name": "stdout",
     "output_type": "stream",
     "text": [
      "Accuracy = 70.86% F1 Score= 23.02% \n",
      "Precision=53.74% Recall= 14.65%\n",
      "              precision    recall  f1-score   support\n",
      "\n",
      "           0       0.72      0.95      0.82      1967\n",
      "           1       0.54      0.15      0.23       833\n",
      "\n",
      "    accuracy                           0.71      2800\n",
      "   macro avg       0.63      0.55      0.53      2800\n",
      "weighted avg       0.67      0.71      0.64      2800\n",
      "\n"
     ]
    },
    {
     "data": {
      "image/png": "[encoded data removed]",
      "text/plain": [
       "<Figure size 495.975x252 with 1 Axes>"
      ]
     },
     "metadata": {
      "needs_background": "light"
     },
     "output_type": "display_data"
    }
   ],
   "source": [
    "model_lr = LogisticRegression(max_iter=5000)\n",
    "mod3 = Model_training(model_lr, X_train1, y_train1, X_test1, y_test1, \"logistic_regression\")\n",
    "mod_tr, _= mod3.print_metrics()\n",
    "mod3.displot()"
   ]
  },
  {
   "cell_type": "code",
   "execution_count": 39,
   "id": "4a52e305",
   "metadata": {},
   "outputs": [
    {
     "name": "stdout",
     "output_type": "stream",
     "text": [
      "Accuracy = 93.14% F1 Score= 88.13% \n",
      "Precision=90.83% Recall= 85.59%\n",
      "              precision    recall  f1-score   support\n",
      "\n",
      "           0       0.94      0.96      0.95      1967\n",
      "           1       0.91      0.86      0.88       833\n",
      "\n",
      "    accuracy                           0.93      2800\n",
      "   macro avg       0.92      0.91      0.92      2800\n",
      "weighted avg       0.93      0.93      0.93      2800\n",
      "\n"
     ]
    },
    {
     "data": {
      "image/png": "[encoded data removed]",
      "text/plain": [
       "<Figure size 495.975x252 with 1 Axes>"
      ]
     },
     "metadata": {
      "needs_background": "light"
     },
     "output_type": "display_data"
    },
    {
     "data": {
      "image/png": "[encoded data removed]",
      "text/plain": [
       "<Figure size 576x360 with 1 Axes>"
      ]
     },
     "metadata": {
      "needs_background": "light"
     },
     "output_type": "display_data"
    }
   ],
   "source": [
    "xgb = XGBClassifier(verbosity=1,\n",
    "                    use_label_encoder=False, \n",
    "                    max_depth=10, \n",
    "                    eval_metric = \"logloss\")\n",
    "\n",
    "mod4 = Model_training(xgb, X_train1, y_train1, X_test1, y_test1, \"xgb\")\n",
    "mod_tr, _= mod4.print_metrics()\n",
    "mod4.displot()\n",
    "mod4.feature_importance()"
   ]
  },
  {
   "cell_type": "code",
   "execution_count": 40,
   "id": "088af791",
   "metadata": {},
   "outputs": [
    {
     "name": "stdout",
     "output_type": "stream",
     "text": [
      "Accuracy = 92.93% F1 Score= 87.78% \n",
      "Precision=90.34% Recall= 85.35%\n",
      "              precision    recall  f1-score   support\n",
      "\n",
      "           0       0.94      0.96      0.95      1967\n",
      "           1       0.90      0.85      0.88       833\n",
      "\n",
      "    accuracy                           0.93      2800\n",
      "   macro avg       0.92      0.91      0.91      2800\n",
      "weighted avg       0.93      0.93      0.93      2800\n",
      "\n"
     ]
    },
    {
     "data": {
      "image/png": "[encoded data removed]",
      "text/plain": [
       "<Figure size 495.975x252 with 1 Axes>"
      ]
     },
     "metadata": {
      "needs_background": "light"
     },
     "output_type": "display_data"
    }
   ],
   "source": [
    "xgb_gs = GridSearchCV(XGBClassifier(),\n",
    "                      param_grid={'max_depth':[8, 9, 10, 11, 12, 14],\n",
    "                                  'eval_metric' :[\"logloss\"],\n",
    "                                  'reg_alpha':[0.1, 0.5]},\n",
    "                      scoring = 'f1',\n",
    "                      verbose = 0 )\n",
    "\n",
    "mod5 = Model_training(xgb_gs, X_train1, y_train1, X_test1, y_test1, \"xgb_grid_search\")\n",
    "mod_tr, _= mod5.print_metrics()\n",
    "mod5.displot()"
   ]
  },
  {
   "cell_type": "code",
   "execution_count": 41,
   "id": "8fd275ca",
   "metadata": {},
   "outputs": [
    {
     "data": {
      "text/plain": [
       "{'eval_metric': 'logloss', 'max_depth': 11, 'reg_alpha': 0.1}"
      ]
     },
     "execution_count": 41,
     "metadata": {},
     "output_type": "execute_result"
    }
   ],
   "source": [
    "mod_tr.best_params_"
   ]
  },
  {
   "cell_type": "code",
   "execution_count": null,
   "id": "d8f6e29d",
   "metadata": {},
   "outputs": [],
   "source": []
  },
  {
   "cell_type": "code",
   "execution_count": null,
   "id": "873d4e25",
   "metadata": {},
   "outputs": [],
   "source": []
  },
  {
   "cell_type": "code",
   "execution_count": null,
   "id": "d24ce91c",
   "metadata": {},
   "outputs": [],
   "source": []
  },
  {
   "cell_type": "code",
   "execution_count": null,
   "id": "505af5ec",
   "metadata": {},
   "outputs": [],
   "source": []
  },
  {
   "cell_type": "markdown",
   "id": "6eec6adc",
   "metadata": {},
   "source": [
    "## Deep learning models"
   ]
  },
  {
   "cell_type": "code",
   "execution_count": 42,
   "id": "801508c9",
   "metadata": {},
   "outputs": [],
   "source": [
    "from tensorflow.keras.models import Sequential\n",
    "from tensorflow.keras.optimizers import Adam\n",
    "from tensorflow.keras.layers import Dense, Dropout, Flatten\n",
    "from tensorflow.keras.layers import Conv1D, MaxPooling1D, GlobalMaxPool1D, BatchNormalization\n",
    "from tensorflow.keras import backend as K"
   ]
  },
  {
   "cell_type": "code",
   "execution_count": 43,
   "id": "e473d737",
   "metadata": {},
   "outputs": [],
   "source": [
    "# this piece of code copied from \n",
    "#https://neptune.ai/blog/implementing-the-macro-f1-score-in-keras\n",
    "def custom_f1(y_true, y_pred):    \n",
    "    def recall_m(y_true, y_pred):\n",
    "        TP = K.sum(K.round(K.clip(y_true * y_pred, 0, 1)))\n",
    "        Positives = K.sum(K.round(K.clip(y_true, 0, 1)))\n",
    "        \n",
    "        recall = TP / (Positives+K.epsilon())    \n",
    "        return recall \n",
    "    \n",
    "    def precision_m(y_true, y_pred):\n",
    "        TP = K.sum(K.round(K.clip(y_true * y_pred, 0, 1)))\n",
    "        Pred_Positives = K.sum(K.round(K.clip(y_pred, 0, 1)))\n",
    "    \n",
    "        precision = TP / (Pred_Positives+K.epsilon())\n",
    "        return precision \n",
    "    \n",
    "    precision, recall = precision_m(y_true, y_pred), recall_m(y_true, y_pred)\n",
    "    \n",
    "    return 2*((precision*recall)/(precision+recall+K.epsilon()))"
   ]
  },
  {
   "cell_type": "code",
   "execution_count": 44,
   "id": "710c258d",
   "metadata": {},
   "outputs": [],
   "source": [
    "def make_model_dense(X_train, y_train):\n",
    "    model = Sequential()\n",
    "    model.add(Dense(1, input_shape=(X_train.shape[1],), activation='relu'))\n",
    "    model.add(Dropout(0.25))\n",
    "    model.add(Dense(1, activation='relu'))\n",
    "    opt = Adam(learning_rate=0.001)\n",
    "    model.compile(loss='binary_crossentropy',\n",
    "                  optimizer=opt,\n",
    "                  metrics=custom_f1)\n",
    "    return model"
   ]
  },
  {
   "cell_type": "code",
   "execution_count": 45,
   "id": "664f883b",
   "metadata": {},
   "outputs": [
    {
     "name": "stdout",
     "output_type": "stream",
     "text": [
      "Model: \"sequential\"\n",
      "_________________________________________________________________\n",
      "Layer (type)                 Output Shape              Param #   \n",
      "=================================================================\n",
      "dense (Dense)                (None, 1)                 6         \n",
      "_________________________________________________________________\n",
      "dropout (Dropout)            (None, 1)                 0         \n",
      "_________________________________________________________________\n",
      "dense_1 (Dense)              (None, 1)                 2         \n",
      "=================================================================\n",
      "Total params: 8\n",
      "Trainable params: 8\n",
      "Non-trainable params: 0\n",
      "_________________________________________________________________\n"
     ]
    }
   ],
   "source": [
    "model_dnn = make_model_dense(X_train1, y_train1)\n",
    "model_dnn.summary()"
   ]
  },
  {
   "cell_type": "code",
   "execution_count": 46,
   "id": "6d23ff8e",
   "metadata": {},
   "outputs": [],
   "source": [
    "history_dnn = model_dnn.fit(X_train1, y_train1,\n",
    "                            validation_data=(X_test1, y_test1),\n",
    "                            epochs=20,\n",
    "                            batch_size=32,\n",
    "                            verbose=0)"
   ]
  },
  {
   "cell_type": "code",
   "execution_count": 47,
   "id": "c45b9cc5",
   "metadata": {
    "scrolled": true
   },
   "outputs": [
    {
     "data": {
      "text/plain": [
       "[<matplotlib.lines.Line2D at 0x158570490>]"
      ]
     },
     "execution_count": 47,
     "metadata": {},
     "output_type": "execute_result"
    },
    {
     "data": {
      "image/png": "[encoded data removed]",
      "text/plain": [
       "<Figure size 432x288 with 1 Axes>"
      ]
     },
     "metadata": {
      "needs_background": "light"
     },
     "output_type": "display_data"
    }
   ],
   "source": [
    "plt.plot(history_dnn.history['val_custom_f1'])\n",
    "plt.plot(history_dnn.history['val_loss'])"
   ]
  },
  {
   "cell_type": "markdown",
   "id": "fd025451",
   "metadata": {},
   "source": [
    "## Modeling including categorical features"
   ]
  },
  {
   "cell_type": "code",
   "execution_count": 48,
   "id": "bc536426",
   "metadata": {},
   "outputs": [],
   "source": [
    "import category_encoders as ce"
   ]
  },
  {
   "cell_type": "code",
   "execution_count": 49,
   "id": "f64e858d",
   "metadata": {},
   "outputs": [],
   "source": [
    "df2 = df_train0.copy()\n",
    "df2[\"FRAUD_NONFRAUD\"] =  df2[\"FRAUD_NONFRAUD\"].map({\"Fraud\":1, \"Non-Fraud\":0})\n",
    "df2 = impute_data(df2)\n",
    "df2 = wrangle_column_data(df2)"
   ]
  },
  {
   "cell_type": "code",
   "execution_count": 50,
   "id": "0bf5a04e",
   "metadata": {},
   "outputs": [],
   "source": [
    "encoder = ce.OneHotEncoder()\n",
    "df2_tr_cat = encoder.fit_transform(df[cate_cols_to_keep])\n",
    "df2_tr_join = pd.concat( [df2[nume_cols], df2_tr_cat], axis=1)\n",
    "X_train2 = df2_tr_join.values\n",
    "y_train2 = df2[\"FRAUD_NONFRAUD\"].values"
   ]
  },
  {
   "cell_type": "code",
   "execution_count": 51,
   "id": "136307da",
   "metadata": {},
   "outputs": [],
   "source": [
    "# test data\n",
    "\n",
    "df2_te = df_test0.copy()\n",
    "df2_te[\"FRAUD_NONFRAUD\"] = df2_te[\"FRAUD_NONFRAUD\"].map({\"Fraud\":1, \"Non-Fraud\":0})\n",
    "df2_te = impute_data(df2_te)\n",
    "df2_te = wrangle_column_data(df2_te)"
   ]
  },
  {
   "cell_type": "code",
   "execution_count": 52,
   "id": "ebe5dccf",
   "metadata": {},
   "outputs": [],
   "source": [
    "df2_te_cat = encoder.transform(df2_te[cate_cols_to_keep])\n",
    "df2_te_join = pd.concat( [df2_te[nume_cols], df2_te_cat], axis=1)\n",
    "X_test2 = df2_te_join.values\n",
    "y_test2 = df2_te[\"FRAUD_NONFRAUD\"].values"
   ]
  },
  {
   "cell_type": "code",
   "execution_count": 53,
   "id": "f980de07",
   "metadata": {},
   "outputs": [
    {
     "data": {
      "text/plain": [
       "((11200, 12), (11200,), (2800, 12), (2800,))"
      ]
     },
     "execution_count": 53,
     "metadata": {},
     "output_type": "execute_result"
    }
   ],
   "source": [
    "X_train2.shape, y_train2.shape, X_test2.shape, y_test2.shape"
   ]
  },
  {
   "cell_type": "code",
   "execution_count": 54,
   "id": "eb2f344e",
   "metadata": {},
   "outputs": [
    {
     "name": "stdout",
     "output_type": "stream",
     "text": [
      "Accuracy = 92.93% F1 Score= 87.78% \n",
      "Precision=90.34% Recall= 85.35%\n",
      "              precision    recall  f1-score   support\n",
      "\n",
      "           0       0.94      0.96      0.95      1967\n",
      "           1       0.90      0.85      0.88       833\n",
      "\n",
      "    accuracy                           0.93      2800\n",
      "   macro avg       0.92      0.91      0.91      2800\n",
      "weighted avg       0.93      0.93      0.93      2800\n",
      "\n"
     ]
    },
    {
     "data": {
      "image/png": "[encoded data removed]",
      "text/plain": [
       "<Figure size 495.975x252 with 1 Axes>"
      ]
     },
     "metadata": {
      "needs_background": "light"
     },
     "output_type": "display_data"
    }
   ],
   "source": [
    "xgb = XGBClassifier(verbosity=1,\n",
    "                    max_depth=10,\n",
    "                    eval_metric = \"logloss\")\n",
    "\n",
    "mod6 = Model_training(xgb, X_train2, y_train2, X_test2, y_test2)\n",
    "mod_trained, _ = mod5.print_metrics()\n",
    "mod6.displot()"
   ]
  },
  {
   "cell_type": "code",
   "execution_count": null,
   "id": "41d4d786",
   "metadata": {},
   "outputs": [],
   "source": []
  },
  {
   "cell_type": "code",
   "execution_count": 55,
   "id": "40e4749a",
   "metadata": {},
   "outputs": [],
   "source": [
    "from sklearn.svm import SVC"
   ]
  },
  {
   "cell_type": "code",
   "execution_count": 56,
   "id": "82d5fd83",
   "metadata": {
    "scrolled": false
   },
   "outputs": [
    {
     "name": "stdout",
     "output_type": "stream",
     "text": [
      "Accuracy = 92.93% F1 Score= 87.78% \n",
      "Precision=90.34% Recall= 85.35%\n",
      "              precision    recall  f1-score   support\n",
      "\n",
      "           0       0.94      0.96      0.95      1967\n",
      "           1       0.90      0.85      0.88       833\n",
      "\n",
      "    accuracy                           0.93      2800\n",
      "   macro avg       0.92      0.91      0.91      2800\n",
      "weighted avg       0.93      0.93      0.93      2800\n",
      "\n"
     ]
    },
    {
     "data": {
      "image/png": "[encoded data removed]",
      "text/plain": [
       "<Figure size 495.975x252 with 1 Axes>"
      ]
     },
     "metadata": {
      "needs_background": "light"
     },
     "output_type": "display_data"
    }
   ],
   "source": [
    "svm = SVC(gamma='auto')\n",
    "mod = Model_training(xgb_gs, X_train1, y_train1, X_test1, y_test1)\n",
    "mod_tr, _= mod.print_metrics()\n",
    "mod.displot()"
   ]
  },
  {
   "cell_type": "code",
   "execution_count": 57,
   "id": "aab9a84a",
   "metadata": {},
   "outputs": [],
   "source": [
    "def train_svm_gs():\n",
    "    svm_gs = GridSearchCV(SVC(),\n",
    "                          param_grid={'C':[0.1, 0.5, 1.0],\n",
    "                                      'kernel':['poly', 'rbf'],\n",
    "                                      'gamma': ['scale', 'auto']},\n",
    "                          scoring = 'f1',\n",
    "                          verbose = 1 )\n",
    "    \n",
    "    mod = Model_training(svm_gs, X_train1, y_train1, X_test1, y_test1)\n",
    "    mod_tr, _= mod.print_metrics()\n",
    "    mod.displot()\n",
    "    \n",
    "#this takes a little long time so think before running\n",
    "#train_svm_gs()"
   ]
  },
  {
   "cell_type": "markdown",
   "id": "8fe7b1f3",
   "metadata": {},
   "source": [
    "## Voting Classifier"
   ]
  },
  {
   "cell_type": "code",
   "execution_count": 58,
   "id": "41739cd3",
   "metadata": {},
   "outputs": [],
   "source": [
    "clf1 = LogisticRegression(multi_class='multinomial', random_state=1)\n",
    "clf2 = RandomForestClassifier(max_depth=10,\n",
    "                              random_state=8848)\n",
    "\n",
    "clf3 = XGBClassifier(verbosity=1,\n",
    "                    max_depth=13,\n",
    "                    eval_metric = \"logloss\")\n",
    "\n",
    "clf_voting = VotingClassifier(\n",
    "    estimators=[('rf', clf2), ('xgb', clf3)],\n",
    "    voting='soft')"
   ]
  },
  {
   "cell_type": "code",
   "execution_count": 59,
   "id": "dcd2e81d",
   "metadata": {},
   "outputs": [
    {
     "name": "stdout",
     "output_type": "stream",
     "text": [
      "Accuracy = 93.46% F1 Score= 88.58% \n",
      "Precision=92.21% Recall= 85.23%\n",
      "              precision    recall  f1-score   support\n",
      "\n",
      "           0       0.94      0.97      0.95      1967\n",
      "           1       0.92      0.85      0.89       833\n",
      "\n",
      "    accuracy                           0.93      2800\n",
      "   macro avg       0.93      0.91      0.92      2800\n",
      "weighted avg       0.93      0.93      0.93      2800\n",
      "\n"
     ]
    },
    {
     "data": {
      "image/png": "[encoded data removed]",
      "text/plain": [
       "<Figure size 495.975x252 with 1 Axes>"
      ]
     },
     "metadata": {
      "needs_background": "light"
     },
     "output_type": "display_data"
    },
    {
     "data": {
      "image/png": "[encoded data removed]",
      "text/plain": [
       "<Figure size 432x288 with 1 Axes>"
      ]
     },
     "metadata": {
      "needs_background": "light"
     },
     "output_type": "display_data"
    }
   ],
   "source": [
    "mod8 = Model_training(clf_voting, X_train1, y_train1, X_test1, y_test1, \"Voting Classifier\")\n",
    "mod_tr, _= mod8.print_metrics()\n",
    "mod8.displot()\n",
    "mod8.plot_roc_curve()\n",
    "#mod8.feature_importance()"
   ]
  },
  {
   "cell_type": "code",
   "execution_count": null,
   "id": "ab19315a",
   "metadata": {},
   "outputs": [],
   "source": []
  },
  {
   "cell_type": "code",
   "execution_count": null,
   "id": "a891bf63",
   "metadata": {},
   "outputs": [],
   "source": []
  }
 ],
 "metadata": {
  "kernelspec": {
   "display_name": "Python 3",
   "language": "python",
   "name": "python3"
  },
  "language_info": {
   "codemirror_mode": {
    "name": "ipython",
    "version": 3
   },
   "file_extension": ".py",
   "mimetype": "text/x-python",
   "name": "python",
   "nbconvert_exporter": "python",
   "pygments_lexer": "ipython3",
   "version": "3.9.5"
  }
 },
 "nbformat": 4,
 "nbformat_minor": 5
}
