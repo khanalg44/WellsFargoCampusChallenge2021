{
 "cells": [
  {
   "cell_type": "markdown",
   "id": "5a5fdfb3",
   "metadata": {},
   "source": [
    "# Wells Fargo Challenge\n",
    "\n",
    "- https://www.mindsumo.com/contests/campus-analytics-challenge-2021\n",
    "\n",
    "### To Complete a Submission:\n",
    "\n",
    "Build a classification model for predicting elder fraud in the digital payments space as described in Rule 4, which:\n",
    "\n",
    "- Handles missing variables\n",
    "- Maximizes the F1 score\n",
    "- Uses the given data set\n",
    "- Includes suitable encoding schemes\n",
    "- Has the least set of feature variables\n",
    "\n",
    "### Resources\n",
    "- https://github.com/pdglenn/WellsFargoAnalyticsChallenge"
   ]
  },
  {
   "cell_type": "code",
   "execution_count": 1,
   "id": "69046927",
   "metadata": {},
   "outputs": [],
   "source": [
    "import pandas as pd\n",
    "import numpy as np\n",
    "import pylab as plt\n",
    "import seaborn as sns\n",
    "\n",
    "# following few lines are to supress the pandas warnings\n",
    "import warnings\n",
    "warnings.simplefilter(action='ignore', category=FutureWarning)\n",
    "warnings.simplefilter(action='ignore', category=UserWarning)\n",
    "\n",
    "pd.options.mode.chained_assignment = None \n",
    "pd.options.display.max_columns = 20\n",
    "np.set_printoptions(suppress=True) \n",
    "\n",
    "data_dir = \"../dataset/\"\n",
    "image_dir = \"../images/\"\n"
   ]
  },
  {
   "cell_type": "markdown",
   "id": "e9833041",
   "metadata": {},
   "source": [
    "## Loading the data"
   ]
  },
  {
   "cell_type": "code",
   "execution_count": 2,
   "id": "8a179eb2",
   "metadata": {},
   "outputs": [
    {
     "data": {
      "text/html": [
       "<div>\n",
       "<style scoped>\n",
       "    .dataframe tbody tr th:only-of-type {\n",
       "        vertical-align: middle;\n",
       "    }\n",
       "\n",
       "    .dataframe tbody tr th {\n",
       "        vertical-align: top;\n",
       "    }\n",
       "\n",
       "    .dataframe thead th {\n",
       "        text-align: right;\n",
       "    }\n",
       "</style>\n",
       "<table border=\"1\" class=\"dataframe\">\n",
       "  <thead>\n",
       "    <tr style=\"text-align: right;\">\n",
       "      <th></th>\n",
       "      <th>TRAN_AMT</th>\n",
       "      <th>ACCT_PRE_TRAN_AVAIL_BAL</th>\n",
       "      <th>CUST_AGE</th>\n",
       "      <th>OPEN_ACCT_CT</th>\n",
       "      <th>WF_dvc_age</th>\n",
       "      <th>PWD_UPDT_TS</th>\n",
       "      <th>CARR_NAME</th>\n",
       "      <th>RGN_NAME</th>\n",
       "      <th>STATE_PRVNC_TXT</th>\n",
       "      <th>ALERT_TRGR_CD</th>\n",
       "      <th>...</th>\n",
       "      <th>CUST_STATE</th>\n",
       "      <th>PH_NUM_UPDT_TS</th>\n",
       "      <th>CUST_SINCE_DT</th>\n",
       "      <th>TRAN_TS</th>\n",
       "      <th>TRAN_DT</th>\n",
       "      <th>ACTN_CD</th>\n",
       "      <th>ACTN_INTNL_TXT</th>\n",
       "      <th>TRAN_TYPE_CD</th>\n",
       "      <th>ACTVY_DT</th>\n",
       "      <th>FRAUD_NONFRAUD</th>\n",
       "    </tr>\n",
       "  </thead>\n",
       "  <tbody>\n",
       "    <tr>\n",
       "      <th>0</th>\n",
       "      <td>5.38</td>\n",
       "      <td>23619.91</td>\n",
       "      <td>47</td>\n",
       "      <td>4</td>\n",
       "      <td>2777</td>\n",
       "      <td>1/16/2018 11:3:58</td>\n",
       "      <td>cox communications inc.</td>\n",
       "      <td>southwest</td>\n",
       "      <td>nevada</td>\n",
       "      <td>MOBL</td>\n",
       "      <td>...</td>\n",
       "      <td>NV</td>\n",
       "      <td>2/24/2021 15:55:10</td>\n",
       "      <td>1993-01-06</td>\n",
       "      <td>5/3/2021 18:3:58</td>\n",
       "      <td>5/3/2021</td>\n",
       "      <td>SCHPMT</td>\n",
       "      <td>P2P_COMMIT</td>\n",
       "      <td>P2P</td>\n",
       "      <td>5/3/2021</td>\n",
       "      <td>Non-Fraud</td>\n",
       "    </tr>\n",
       "    <tr>\n",
       "      <th>1</th>\n",
       "      <td>65.19</td>\n",
       "      <td>0.00</td>\n",
       "      <td>45</td>\n",
       "      <td>5</td>\n",
       "      <td>2721</td>\n",
       "      <td>NaN</td>\n",
       "      <td>charter communications</td>\n",
       "      <td>southwest</td>\n",
       "      <td>california</td>\n",
       "      <td>MOBL</td>\n",
       "      <td>...</td>\n",
       "      <td>CA</td>\n",
       "      <td>NaN</td>\n",
       "      <td>1971-01-07</td>\n",
       "      <td>1/13/2021 19:19:37</td>\n",
       "      <td>1/13/2021</td>\n",
       "      <td>SCHPMT</td>\n",
       "      <td>P2P_COMMIT</td>\n",
       "      <td>P2P</td>\n",
       "      <td>1/13/2021</td>\n",
       "      <td>Non-Fraud</td>\n",
       "    </tr>\n",
       "  </tbody>\n",
       "</table>\n",
       "<p>2 rows × 24 columns</p>\n",
       "</div>"
      ],
      "text/plain": [
       "   TRAN_AMT  ACCT_PRE_TRAN_AVAIL_BAL  CUST_AGE  OPEN_ACCT_CT  WF_dvc_age  \\\n",
       "0      5.38                 23619.91        47             4        2777   \n",
       "1     65.19                     0.00        45             5        2721   \n",
       "\n",
       "         PWD_UPDT_TS                CARR_NAME   RGN_NAME STATE_PRVNC_TXT  \\\n",
       "0  1/16/2018 11:3:58  cox communications inc.  southwest          nevada   \n",
       "1                NaN   charter communications  southwest      california   \n",
       "\n",
       "  ALERT_TRGR_CD  ... CUST_STATE      PH_NUM_UPDT_TS CUST_SINCE_DT  \\\n",
       "0          MOBL  ...         NV  2/24/2021 15:55:10    1993-01-06   \n",
       "1          MOBL  ...         CA                 NaN    1971-01-07   \n",
       "\n",
       "              TRAN_TS    TRAN_DT ACTN_CD ACTN_INTNL_TXT TRAN_TYPE_CD  \\\n",
       "0    5/3/2021 18:3:58   5/3/2021  SCHPMT     P2P_COMMIT          P2P   \n",
       "1  1/13/2021 19:19:37  1/13/2021  SCHPMT     P2P_COMMIT          P2P   \n",
       "\n",
       "    ACTVY_DT FRAUD_NONFRAUD  \n",
       "0   5/3/2021      Non-Fraud  \n",
       "1  1/13/2021      Non-Fraud  \n",
       "\n",
       "[2 rows x 24 columns]"
      ]
     },
     "execution_count": 2,
     "metadata": {},
     "output_type": "execute_result"
    }
   ],
   "source": [
    "# load the file\n",
    "df_orig = pd.read_excel(data_dir+\"trainset.xlsx\", engine='openpyxl')\n",
    "df_orig.head(2)"
   ]
  },
  {
   "cell_type": "markdown",
   "id": "e5c34a9f",
   "metadata": {},
   "source": [
    "## Train test split\n",
    "\n",
    "Before doing any data visualization let's set some test data aside and use them to score the model later on."
   ]
  },
  {
   "cell_type": "code",
   "execution_count": 3,
   "id": "b8681d93",
   "metadata": {},
   "outputs": [],
   "source": [
    "from sklearn.model_selection import train_test_split\n",
    "from sklearn.preprocessing import StandardScaler\n",
    "\n",
    "# stratify the target column so that the distribution look similar in the train and test data\n",
    "df_train0, df_test0 = train_test_split(df_orig,\n",
    "                               test_size = .2,\n",
    "                               random_state = 8848,\n",
    "                               shuffle = True,\n",
    "                               stratify = df_orig[\"FRAUD_NONFRAUD\"])"
   ]
  },
  {
   "cell_type": "markdown",
   "id": "f9c57826",
   "metadata": {},
   "source": [
    "## Feature Engineering, Transformation and Data Imputation\n",
    "\n",
    "- Generate New features from the given date and time features"
   ]
  },
  {
   "cell_type": "code",
   "execution_count": 4,
   "id": "d67c78e4",
   "metadata": {},
   "outputs": [],
   "source": [
    "def convert_date_format(x):\n",
    "    if len(str(x).split(\"/\"))>1:\n",
    "        m,d,y=str(x).strip().split()[0].split(\"/\")\n",
    "        if d=='0':\n",
    "            d='1'\n",
    "        elif d=='31':\n",
    "            d='30'\n",
    "        return \"-\".join([y,m,d])\n",
    "    else:\n",
    "        return str(x).split()[0]\n",
    "\n",
    "def feature_engineering(df):\n",
    "    # conver the _DT columns to pandas datetime\n",
    "    cols_DT = [c for c in df.columns if \"_DT\" in c]\n",
    "    df[cols_DT] = df[cols_DT].apply(pd.to_datetime)\n",
    "    # convert the TRAN_Timestamp to only hour\n",
    "    df[\"TRAN_HOUR\"]=pd.to_datetime(df['TRAN_TS']).dt.strftime(\"%H\")\n",
    "    # Fill the Nulls for Phone update by the cust_since_date and keep only date\n",
    "    df[\"PH_NUM_UPDT_DT\"]=pd.to_datetime(df[\"PH_NUM_UPDT_TS\"].fillna(df[\"CUST_SINCE_DT\"]).apply(convert_date_format))\n",
    "    # Fill the Nulls for pwd update by the cust_since_date and keep only date\n",
    "    df[\"PWD_UPDT_DT\"]=pd.to_datetime(df[\"PWD_UPDT_TS\"].fillna(df[\"CUST_SINCE_DT\"]).apply(convert_date_format))\n",
    "    # Num of days between TRAN_DATE and PWD_UPDATE_DAYS\n",
    "    df[\"PWD_UPDT_DAYS\"] = (df[\"TRAN_DT\"]-df[\"PWD_UPDT_DT\"]).dt.days\n",
    "    \n",
    "    # Num of days between TRAN_DATE and PHONE_NUM_UPDATE_DAYS\n",
    "    df[\"PH_NUM_UPDT_DAYS\"] = (df[\"TRAN_DT\"]-df[\"PH_NUM_UPDT_DT\"]).dt.days\n",
    "    \n",
    "    # Num of days between TRAN_DATE and CUST_SINCE_DATE\n",
    "    df[\"TRAN_DAYS\"] = (df[\"TRAN_DT\"] - df[\"CUST_SINCE_DT\"]).dt.days\n",
    "    # Num of days between PWD update and phone number update\n",
    "    df[\"PH_NUM_PWD_DAYS\"]=df[\"PH_NUM_UPDT_DAYS\"] - df[\"PWD_UPDT_DAYS\"]\n",
    "    return df"
   ]
  },
  {
   "cell_type": "code",
   "execution_count": 5,
   "id": "4a262644",
   "metadata": {},
   "outputs": [],
   "source": [
    "def get_imputation_values(df):\n",
    "    \n",
    "    # find numerical and categorical columns\n",
    "    nume_cols = list(df.select_dtypes(include=\"number\").columns)\n",
    "    cate_cols = list(df.select_dtypes(exclude=\"number\").columns)\n",
    "    nume_cols.remove('CUST_ZIP')\n",
    "    cate_cols.append('CUST_ZIP')\n",
    "    nume_cols.remove('FRAUD_NONFRAUD')\n",
    "   \n",
    "    impute_vals={}\n",
    "\n",
    "    for col in df.columns:\n",
    "        if col in nume_cols:\n",
    "            impute_vals[col] = df[col].median()\n",
    "        elif col in cate_cols:\n",
    "            impute_vals[col] = df[col].mode()[0]\n",
    "    return nume_cols, cate_cols, impute_vals"
   ]
  },
  {
   "cell_type": "code",
   "execution_count": 6,
   "id": "2384ab89",
   "metadata": {},
   "outputs": [],
   "source": [
    "def impute_data(df, impute_dict):\n",
    "    \"\"\"\n",
    "    this function takes in a dataframe and list of columns which have missing values\n",
    "    then imputes those columns using the precomputed values.\n",
    "    \"\"\"\n",
    "    for col in list(impute_dict.keys()):\n",
    "        df[col] = df[col].fillna(impute_dict[col])\n",
    "    return df"
   ]
  },
  {
   "cell_type": "code",
   "execution_count": 7,
   "id": "a36c9dff",
   "metadata": {},
   "outputs": [],
   "source": [
    "def transform_cate_data(df):\n",
    "    #CUST_STATE\n",
    "    # keep only CO, TX, MN, AZ and convert rest into OTHER\n",
    "    df[\"CUST_STATE\"] = df[\"CUST_STATE\"].apply(lambda x: x if x in [\"CO\", \"TX\", \"MN\", \"AZ\"] else \"OTHER\")\n",
    "    #OPEN_ACCT_CT\n",
    "    #keep only the [2,9] and convert others to 10\n",
    "    df[\"OPEN_ACCT_CT\"] = df[\"OPEN_ACCT_CT\"].apply(lambda x: x if x in range(1,13) else 13)\n",
    "    return df"
   ]
  },
  {
   "cell_type": "markdown",
   "id": "01d58b4f",
   "metadata": {},
   "source": [
    "## Modelling"
   ]
  },
  {
   "cell_type": "code",
   "execution_count": 8,
   "id": "fa3bdf93",
   "metadata": {},
   "outputs": [],
   "source": [
    "from sklearn.linear_model import LogisticRegression\n",
    "from sklearn.model_selection import GridSearchCV, cross_val_score\n",
    "from sklearn.ensemble import RandomForestClassifier, VotingClassifier\n",
    "from xgboost import XGBClassifier\n",
    "from catboost import CatBoostClassifier\n",
    "from lightgbm import LGBMClassifier\n",
    "\n",
    "from sklearn.metrics import accuracy_score, f1_score, precision_score, recall_score\n",
    "from sklearn.metrics import classification_report, roc_auc_score, plot_roc_curve"
   ]
  },
  {
   "cell_type": "code",
   "execution_count": 9,
   "id": "eea1f0f3",
   "metadata": {},
   "outputs": [],
   "source": [
    "class Model_training:\n",
    "    def __init__(self, model, X_train, y_train, X_test, y_test, savename=\"Fig\"):\n",
    "        self.model = model\n",
    "        self.X_train = X_train\n",
    "        self.y_train = y_train\n",
    "        self.X_test  = X_test\n",
    "        self.y_test  = y_test\n",
    "        self.savename = savename\n",
    "        self.model.fit(self.X_train, self.y_train)\n",
    "        \n",
    "    def print_metrics(self):\n",
    "        round_to_pct = lambda x: np.round(100*x, 2)\n",
    "        y_pred = self.model.predict(self.X_test)\n",
    "        ac = round_to_pct(accuracy_score(self.y_test, y_pred))\n",
    "        f1 = round_to_pct(f1_score(self.y_test, y_pred))\n",
    "        pr = round_to_pct(precision_score(self.y_test, y_pred))\n",
    "        re = round_to_pct(recall_score(self.y_test, y_pred))\n",
    "        print (f\"Accuracy = {ac}% F1 Score= {f1}% \\nPrecision={pr}% Recall= {re}%\")\n",
    "        print (classification_report(self.y_test, y_pred))\n",
    "        return (self.model, (ac, f1, pr, re))\n",
    "        \n",
    "    def displot(self):\n",
    "        pr=self.model.predict_proba(self.X_test)        \n",
    "        roc_auc = np.round(roc_auc_score(self.y_test,\n",
    "                                         self.model.predict_proba(self.X_test)[:, 1]), 2)\n",
    "\n",
    "        pr_df = pd.DataFrame({'pred_0':pr[:,0], \n",
    "                              'pred_1':pr[:,1], \n",
    "                              'y': self.y_test})\n",
    "\n",
    "        ax=sns.displot(data=pr_df, \n",
    "                       x='pred_1', \n",
    "                       hue='y', \n",
    "                       alpha=0.8, \n",
    "                       kind=\"kde\",\n",
    "                       height = 3.5, \n",
    "                       aspect=1.8);\n",
    "        \n",
    "        plt.xlabel(\"Prob. Positive Predictions\", fontsize=16)\n",
    "        plt.text(0.2, 2, \"ROC_AUC=\"+str(roc_auc), fontsize=16)\n",
    "        plt.ylabel(\"Density\", fontsize=16)\n",
    "        \n",
    "        plt.yticks(fontsize=16);\n",
    "        plt.xticks(fontsize=16);\n",
    "        figname = image_dir+\"nb5_displot_\"+self.savename+\"_nb3.png\"\n",
    "        plt.savefig(figname, dpi=300, bbox_inches='tight')\n",
    "\n",
    "    def feature_importance(self):\n",
    "\n",
    "        try:\n",
    "            mod = self.model.base_estimator\n",
    "            #mod.feature_importances_\n",
    "        except:\n",
    "            mod = self.model.best_estimator_\n",
    "            \n",
    "        df_imp = pd.DataFrame({\"Feature\":self.X_train.columns, \n",
    "                               \"Feature Importance\":mod.feature_importances_})\n",
    "\n",
    "        #df_imp = pd.DataFrame({\"Feature\":self.X_train.columns, \n",
    "        #                       \"Feature Importance\":self.model.feature_importances_})\n",
    "        \n",
    "        df_imp = df_imp.sort_values(by=['Feature Importance'],\n",
    "                                    axis=0,\n",
    "                                    ascending=True)\n",
    "        \n",
    "        df_imp.plot(kind='barh',\n",
    "                    x='Feature', \n",
    "                    y='Feature Importance',\n",
    "                    color=\"C2\", figsize=(8,5));\n",
    "        \n",
    "        plt.grid(axis='x')\n",
    "        plt.yticks(fontsize=16);\n",
    "        plt.ylabel('');\n",
    "        plt.xticks(fontsize=16);\n",
    "        plt.legend(loc='best',fontsize=16);\n",
    "        \n",
    "        figname = image_dir+\"nb5_feat_imp_\"+self.savename+\"_nb3.png\"\n",
    "        plt.savefig(figname, dpi=300, bbox_inches='tight')\n",
    "        \n",
    "    def plot_roc_curve(self):\n",
    "        roc_auc = np.round(roc_auc_score(self.y_test,\n",
    "                                         self.model.predict_proba(self.X_test)[:, 1]), 2)\n",
    "        label_name = self.savename +\"\\nAUC = \"+str(roc_auc)\n",
    "        \n",
    "        plot_roc_curve(self.model, self.X_test, self.y_test,\n",
    "                       lw=3., color='C2', label=label_name)\n",
    "        plt.title(\"ROC Curve\", fontsize=18)\n",
    "        plt.xlabel(\"False Positive Rate\", fontsize=16)\n",
    "        plt.ylabel(\"True Positive Rate\", fontsize=16)\n",
    "        plt.xticks(fontsize=16);\n",
    "        plt.yticks(fontsize=16);\n",
    "        plt.legend(loc=\"center\", fontsize=14);\n",
    "        plt.axvline(x=0, color='k', ls='--', lw=1)\n",
    "        plt.axhline(y=0, color='k', ls='--', lw=1)\n",
    "        plt.axhline(y=1, color='k', ls='--', lw=1)\n",
    "        \n",
    "        figname = image_dir+\"nb5_roc_curve_\"+self.savename+\"_nb3.png\"\n",
    "        plt.savefig(figname, dpi=300, bbox_inches='tight')"
   ]
  },
  {
   "cell_type": "markdown",
   "id": "fd025451",
   "metadata": {},
   "source": [
    "## Modeling 3: Numerical [given + engineered] + Categorical features"
   ]
  },
  {
   "cell_type": "code",
   "execution_count": 10,
   "id": "bc536426",
   "metadata": {},
   "outputs": [],
   "source": [
    "import category_encoders as ce"
   ]
  },
  {
   "cell_type": "code",
   "execution_count": 11,
   "id": "f64e858d",
   "metadata": {},
   "outputs": [],
   "source": [
    "df2 = df_train0.copy()\n",
    "df2[\"FRAUD_NONFRAUD\"] =  df2[\"FRAUD_NONFRAUD\"].map({\"Fraud\":1, \"Non-Fraud\":0})\n",
    "df2 = feature_engineering(df2)\n",
    "nume_cols, cate_cols, impute_vals = get_imputation_values(df2)\n",
    "df2 = impute_data(df2, impute_vals)\n",
    "df2 = transform_cate_data(df2)"
   ]
  },
  {
   "cell_type": "code",
   "execution_count": 12,
   "id": "0b7d82ce",
   "metadata": {},
   "outputs": [],
   "source": [
    "cate_cols_to_keep = ['ALERT_TRGR_CD', \"CUST_STATE\"]"
   ]
  },
  {
   "cell_type": "code",
   "execution_count": 13,
   "id": "0bf5a04e",
   "metadata": {},
   "outputs": [],
   "source": [
    "encoder = ce.OneHotEncoder()\n",
    "df2_tr_cat = encoder.fit_transform(df2[cate_cols_to_keep])\n",
    "df2_tr_join = pd.concat( [df2[nume_cols], df2_tr_cat], axis=1)\n",
    "X_train2 = df2_tr_join\n",
    "y_train2 = df2[\"FRAUD_NONFRAUD\"]"
   ]
  },
  {
   "cell_type": "code",
   "execution_count": 14,
   "id": "d0574891",
   "metadata": {},
   "outputs": [],
   "source": [
    "df2_te = df_test0.copy()\n",
    "df2_te[\"FRAUD_NONFRAUD\"] =  df2_te[\"FRAUD_NONFRAUD\"].map({\"Fraud\":1, \"Non-Fraud\":0})\n",
    "df2_te = feature_engineering(df2_te)\n",
    "df2_te = impute_data(df2_te, impute_dict=impute_vals)\n",
    "df2_te = transform_cate_data(df2_te)"
   ]
  },
  {
   "cell_type": "code",
   "execution_count": 15,
   "id": "ebe5dccf",
   "metadata": {},
   "outputs": [],
   "source": [
    "df2_te_cat = encoder.transform(df2_te[cate_cols_to_keep])\n",
    "df2_te_join = pd.concat( [df2_te[nume_cols], df2_te_cat], axis=1)\n",
    "X_test2 = df2_te_join\n",
    "y_test2 = df2_te[\"FRAUD_NONFRAUD\"]"
   ]
  },
  {
   "cell_type": "code",
   "execution_count": 16,
   "id": "f980de07",
   "metadata": {},
   "outputs": [
    {
     "data": {
      "text/plain": [
       "((11200, 16), (11200,), (2800, 16), (2800,))"
      ]
     },
     "execution_count": 16,
     "metadata": {},
     "output_type": "execute_result"
    }
   ],
   "source": [
    "X_train2.shape, y_train2.shape, X_test2.shape, y_test2.shape"
   ]
  },
  {
   "cell_type": "code",
   "execution_count": 17,
   "id": "5621f68a",
   "metadata": {},
   "outputs": [
    {
     "data": {
      "text/plain": [
       "False"
      ]
     },
     "execution_count": 17,
     "metadata": {},
     "output_type": "execute_result"
    }
   ],
   "source": [
    "\"FRAUD_NONFRAUD\" in list(X_test2.columns)"
   ]
  },
  {
   "cell_type": "code",
   "execution_count": 18,
   "id": "f49dbb98",
   "metadata": {},
   "outputs": [
    {
     "data": {
      "text/html": [
       "<div>\n",
       "<style scoped>\n",
       "    .dataframe tbody tr th:only-of-type {\n",
       "        vertical-align: middle;\n",
       "    }\n",
       "\n",
       "    .dataframe tbody tr th {\n",
       "        vertical-align: top;\n",
       "    }\n",
       "\n",
       "    .dataframe thead th {\n",
       "        text-align: right;\n",
       "    }\n",
       "</style>\n",
       "<table border=\"1\" class=\"dataframe\">\n",
       "  <thead>\n",
       "    <tr style=\"text-align: right;\">\n",
       "      <th></th>\n",
       "      <th>TRAN_AMT</th>\n",
       "      <th>ACCT_PRE_TRAN_AVAIL_BAL</th>\n",
       "      <th>CUST_AGE</th>\n",
       "      <th>OPEN_ACCT_CT</th>\n",
       "      <th>WF_dvc_age</th>\n",
       "      <th>PWD_UPDT_DAYS</th>\n",
       "      <th>PH_NUM_UPDT_DAYS</th>\n",
       "      <th>TRAN_DAYS</th>\n",
       "      <th>PH_NUM_PWD_DAYS</th>\n",
       "      <th>ALERT_TRGR_CD_1</th>\n",
       "      <th>ALERT_TRGR_CD_2</th>\n",
       "      <th>CUST_STATE_1</th>\n",
       "      <th>CUST_STATE_2</th>\n",
       "      <th>CUST_STATE_3</th>\n",
       "      <th>CUST_STATE_4</th>\n",
       "      <th>CUST_STATE_5</th>\n",
       "    </tr>\n",
       "  </thead>\n",
       "  <tbody>\n",
       "    <tr>\n",
       "      <th>2413</th>\n",
       "      <td>487.93</td>\n",
       "      <td>3714.91</td>\n",
       "      <td>43</td>\n",
       "      <td>5</td>\n",
       "      <td>1037</td>\n",
       "      <td>12146</td>\n",
       "      <td>347</td>\n",
       "      <td>12146</td>\n",
       "      <td>-11799</td>\n",
       "      <td>1</td>\n",
       "      <td>0</td>\n",
       "      <td>1</td>\n",
       "      <td>0</td>\n",
       "      <td>0</td>\n",
       "      <td>0</td>\n",
       "      <td>0</td>\n",
       "    </tr>\n",
       "    <tr>\n",
       "      <th>1003</th>\n",
       "      <td>4.84</td>\n",
       "      <td>0.00</td>\n",
       "      <td>53</td>\n",
       "      <td>5</td>\n",
       "      <td>305</td>\n",
       "      <td>1478</td>\n",
       "      <td>12443</td>\n",
       "      <td>12443</td>\n",
       "      <td>10965</td>\n",
       "      <td>1</td>\n",
       "      <td>0</td>\n",
       "      <td>0</td>\n",
       "      <td>1</td>\n",
       "      <td>0</td>\n",
       "      <td>0</td>\n",
       "      <td>0</td>\n",
       "    </tr>\n",
       "  </tbody>\n",
       "</table>\n",
       "</div>"
      ],
      "text/plain": [
       "      TRAN_AMT  ACCT_PRE_TRAN_AVAIL_BAL  CUST_AGE  OPEN_ACCT_CT  WF_dvc_age  \\\n",
       "2413    487.93                  3714.91        43             5        1037   \n",
       "1003      4.84                     0.00        53             5         305   \n",
       "\n",
       "      PWD_UPDT_DAYS  PH_NUM_UPDT_DAYS  TRAN_DAYS  PH_NUM_PWD_DAYS  \\\n",
       "2413          12146               347      12146           -11799   \n",
       "1003           1478             12443      12443            10965   \n",
       "\n",
       "      ALERT_TRGR_CD_1  ALERT_TRGR_CD_2  CUST_STATE_1  CUST_STATE_2  \\\n",
       "2413                1                0             1             0   \n",
       "1003                1                0             0             1   \n",
       "\n",
       "      CUST_STATE_3  CUST_STATE_4  CUST_STATE_5  \n",
       "2413             0             0             0  \n",
       "1003             0             0             0  "
      ]
     },
     "execution_count": 18,
     "metadata": {},
     "output_type": "execute_result"
    }
   ],
   "source": [
    "X_train2.head(2)"
   ]
  },
  {
   "cell_type": "code",
   "execution_count": 20,
   "id": "621cfc3f",
   "metadata": {},
   "outputs": [
    {
     "name": "stdout",
     "output_type": "stream",
     "text": [
      "Accuracy = 94.5% F1 Score= 90.48% \n",
      "Precision=93.25% Recall= 87.88%\n",
      "              precision    recall  f1-score   support\n",
      "\n",
      "           0       0.95      0.97      0.96      1967\n",
      "           1       0.93      0.88      0.90       833\n",
      "\n",
      "    accuracy                           0.94      2800\n",
      "   macro avg       0.94      0.93      0.93      2800\n",
      "weighted avg       0.94      0.94      0.94      2800\n",
      "\n",
      "Best parameters: {'learning_rate': 0.1, 'max_depth': 8}\n"
     ]
    },
    {
     "data": {
      "image/png": "[encoded data removed]",
      "text/plain": [
       "<Figure size 495.975x252 with 1 Axes>"
      ]
     },
     "metadata": {
      "needs_background": "light"
     },
     "output_type": "display_data"
    },
    {
     "data": {
      "image/png": "[encoded data removed]",
      "text/plain": [
       "<Figure size 432x288 with 1 Axes>"
      ]
     },
     "metadata": {
      "needs_background": "light"
     },
     "output_type": "display_data"
    },
    {
     "data": {
      "image/png": "[encoded data removed]",
      "text/plain": [
       "<Figure size 576x360 with 1 Axes>"
      ]
     },
     "metadata": {
      "needs_background": "light"
     },
     "output_type": "display_data"
    }
   ],
   "source": [
    "lgb_gs = GridSearchCV(LGBMClassifier(),\n",
    "                      param_grid={'max_depth':[8, 9, 10, 11, 12, 13, 14],\n",
    "                                  'learning_rate':[0.1, 0.5]},\n",
    "                      scoring = 'f1',\n",
    "                      verbose = 0)\n",
    "\n",
    "mod = Model_training(lgb_gs, X_train2, y_train2, X_test2, y_test2, \"LightGBM\")\n",
    "mod_tr, _= mod.print_metrics()\n",
    "print (\"Best parameters:\", mod_tr.best_params_)\n",
    "mod.displot()\n",
    "mod.plot_roc_curve()\n",
    "mod.feature_importance()"
   ]
  },
  {
   "cell_type": "code",
   "execution_count": 23,
   "id": "c485cacc",
   "metadata": {},
   "outputs": [
    {
     "name": "stdout",
     "output_type": "stream",
     "text": [
      "Accuracy = 94.5% F1 Score= 90.48% \n",
      "Precision=93.25% Recall= 87.88%\n",
      "              precision    recall  f1-score   support\n",
      "\n",
      "           0       0.95      0.97      0.96      1967\n",
      "           1       0.93      0.88      0.90       833\n",
      "\n",
      "    accuracy                           0.94      2800\n",
      "   macro avg       0.94      0.93      0.93      2800\n",
      "weighted avg       0.94      0.94      0.94      2800\n",
      "\n"
     ]
    },
    {
     "data": {
      "image/png": "[encoded data removed]",
      "text/plain": [
       "<Figure size 495.975x252 with 1 Axes>"
      ]
     },
     "metadata": {
      "needs_background": "light"
     },
     "output_type": "display_data"
    },
    {
     "data": {
      "image/png": "[encoded data removed]",
      "text/plain": [
       "<Figure size 432x288 with 1 Axes>"
      ]
     },
     "metadata": {
      "needs_background": "light"
     },
     "output_type": "display_data"
    }
   ],
   "source": [
    "lgb = LGBMClassifier(learning_rate= 0.1, max_depth= 8)\n",
    "mod = Model_training(lgb, X_train2, y_train2, X_test2, y_test2, \"LightGBM1\")\n",
    "mod_tr, _= mod.print_metrics()\n",
    "mod.displot()\n",
    "mod.plot_roc_curve()"
   ]
  },
  {
   "cell_type": "markdown",
   "id": "8aa9229a",
   "metadata": {},
   "source": [
    "## Prepare the test set"
   ]
  },
  {
   "cell_type": "code",
   "execution_count": 26,
   "id": "fa5e22f8",
   "metadata": {},
   "outputs": [
    {
     "data": {
      "text/html": [
       "<div>\n",
       "<style scoped>\n",
       "    .dataframe tbody tr th:only-of-type {\n",
       "        vertical-align: middle;\n",
       "    }\n",
       "\n",
       "    .dataframe tbody tr th {\n",
       "        vertical-align: top;\n",
       "    }\n",
       "\n",
       "    .dataframe thead th {\n",
       "        text-align: right;\n",
       "    }\n",
       "</style>\n",
       "<table border=\"1\" class=\"dataframe\">\n",
       "  <thead>\n",
       "    <tr style=\"text-align: right;\">\n",
       "      <th></th>\n",
       "      <th>dataset_id</th>\n",
       "      <th>TRAN_AMT</th>\n",
       "      <th>ACCT_PRE_TRAN_AVAIL_BAL</th>\n",
       "      <th>CUST_AGE</th>\n",
       "      <th>OPEN_ACCT_CT</th>\n",
       "      <th>WF_dvc_age</th>\n",
       "      <th>PWD_UPDT_TS</th>\n",
       "      <th>CARR_NAME</th>\n",
       "      <th>RGN_NAME</th>\n",
       "      <th>STATE_PRVNC_TXT</th>\n",
       "      <th>...</th>\n",
       "      <th>CUST_ZIP</th>\n",
       "      <th>CUST_STATE</th>\n",
       "      <th>PH_NUM_UPDT_TS</th>\n",
       "      <th>CUST_SINCE_DT</th>\n",
       "      <th>TRAN_TS</th>\n",
       "      <th>TRAN_DT</th>\n",
       "      <th>ACTN_CD</th>\n",
       "      <th>ACTN_INTNL_TXT</th>\n",
       "      <th>TRAN_TYPE_CD</th>\n",
       "      <th>ACTVY_DT</th>\n",
       "    </tr>\n",
       "  </thead>\n",
       "  <tbody>\n",
       "    <tr>\n",
       "      <th>0</th>\n",
       "      <td>1</td>\n",
       "      <td>54.25</td>\n",
       "      <td>0.0</td>\n",
       "      <td>23</td>\n",
       "      <td>4</td>\n",
       "      <td>634</td>\n",
       "      <td>9/18/2020 9:33:44</td>\n",
       "      <td>charter communications inc</td>\n",
       "      <td>southwest</td>\n",
       "      <td>california</td>\n",
       "      <td>...</td>\n",
       "      <td>55414</td>\n",
       "      <td>MN</td>\n",
       "      <td>7/8/2018 9:45:37</td>\n",
       "      <td>2011-02-19</td>\n",
       "      <td>1/8/2021 11:33:44</td>\n",
       "      <td>1/8/2021</td>\n",
       "      <td>SCHPMT</td>\n",
       "      <td>P2P_COMMIT</td>\n",
       "      <td>P2P</td>\n",
       "      <td>1/8/2021</td>\n",
       "    </tr>\n",
       "    <tr>\n",
       "      <th>1</th>\n",
       "      <td>2</td>\n",
       "      <td>110.30</td>\n",
       "      <td>0.0</td>\n",
       "      <td>56</td>\n",
       "      <td>3</td>\n",
       "      <td>1876</td>\n",
       "      <td>5/16/2021 17:2:31</td>\n",
       "      <td>comcast</td>\n",
       "      <td>mountain</td>\n",
       "      <td>colorado</td>\n",
       "      <td>...</td>\n",
       "      <td>77095</td>\n",
       "      <td>TX</td>\n",
       "      <td>NaN</td>\n",
       "      <td>2001-11-20</td>\n",
       "      <td>2/27/2021 7:2:31</td>\n",
       "      <td>2/27/2021</td>\n",
       "      <td>SCHPMT</td>\n",
       "      <td>P2P_COMMIT</td>\n",
       "      <td>P2P</td>\n",
       "      <td>2/27/2021</td>\n",
       "    </tr>\n",
       "  </tbody>\n",
       "</table>\n",
       "<p>2 rows × 24 columns</p>\n",
       "</div>"
      ],
      "text/plain": [
       "   dataset_id  TRAN_AMT  ACCT_PRE_TRAN_AVAIL_BAL  CUST_AGE  OPEN_ACCT_CT  \\\n",
       "0           1     54.25                      0.0        23             4   \n",
       "1           2    110.30                      0.0        56             3   \n",
       "\n",
       "   WF_dvc_age        PWD_UPDT_TS                   CARR_NAME   RGN_NAME  \\\n",
       "0         634  9/18/2020 9:33:44  charter communications inc  southwest   \n",
       "1        1876  5/16/2021 17:2:31                     comcast   mountain   \n",
       "\n",
       "  STATE_PRVNC_TXT  ... CUST_ZIP CUST_STATE    PH_NUM_UPDT_TS CUST_SINCE_DT  \\\n",
       "0      california  ...    55414         MN  7/8/2018 9:45:37    2011-02-19   \n",
       "1        colorado  ...    77095         TX               NaN    2001-11-20   \n",
       "\n",
       "             TRAN_TS    TRAN_DT ACTN_CD ACTN_INTNL_TXT TRAN_TYPE_CD   ACTVY_DT  \n",
       "0  1/8/2021 11:33:44   1/8/2021  SCHPMT     P2P_COMMIT          P2P   1/8/2021  \n",
       "1   2/27/2021 7:2:31  2/27/2021  SCHPMT     P2P_COMMIT          P2P  2/27/2021  \n",
       "\n",
       "[2 rows x 24 columns]"
      ]
     },
     "execution_count": 26,
     "metadata": {},
     "output_type": "execute_result"
    }
   ],
   "source": [
    "# load the file\n",
    "df_test_orig = pd.read_excel(data_dir+\"testset.xlsx\", engine='openpyxl')\n",
    "df_test_orig.head(2)"
   ]
  },
  {
   "cell_type": "code",
   "execution_count": 27,
   "id": "29ba504b",
   "metadata": {},
   "outputs": [],
   "source": [
    "df_test = feature_engineering(df_test_orig)"
   ]
  },
  {
   "cell_type": "code",
   "execution_count": 28,
   "id": "95ad3cbb",
   "metadata": {},
   "outputs": [
    {
     "data": {
      "text/html": [
       "<div>\n",
       "<style scoped>\n",
       "    .dataframe tbody tr th:only-of-type {\n",
       "        vertical-align: middle;\n",
       "    }\n",
       "\n",
       "    .dataframe tbody tr th {\n",
       "        vertical-align: top;\n",
       "    }\n",
       "\n",
       "    .dataframe thead th {\n",
       "        text-align: right;\n",
       "    }\n",
       "</style>\n",
       "<table border=\"1\" class=\"dataframe\">\n",
       "  <thead>\n",
       "    <tr style=\"text-align: right;\">\n",
       "      <th></th>\n",
       "      <th>dataset_id</th>\n",
       "      <th>TRAN_AMT</th>\n",
       "      <th>ACCT_PRE_TRAN_AVAIL_BAL</th>\n",
       "      <th>CUST_AGE</th>\n",
       "      <th>OPEN_ACCT_CT</th>\n",
       "      <th>WF_dvc_age</th>\n",
       "      <th>PWD_UPDT_TS</th>\n",
       "      <th>CARR_NAME</th>\n",
       "      <th>RGN_NAME</th>\n",
       "      <th>STATE_PRVNC_TXT</th>\n",
       "      <th>...</th>\n",
       "      <th>ACTN_INTNL_TXT</th>\n",
       "      <th>TRAN_TYPE_CD</th>\n",
       "      <th>ACTVY_DT</th>\n",
       "      <th>TRAN_HOUR</th>\n",
       "      <th>PH_NUM_UPDT_DT</th>\n",
       "      <th>PWD_UPDT_DT</th>\n",
       "      <th>PWD_UPDT_DAYS</th>\n",
       "      <th>PH_NUM_UPDT_DAYS</th>\n",
       "      <th>TRAN_DAYS</th>\n",
       "      <th>PH_NUM_PWD_DAYS</th>\n",
       "    </tr>\n",
       "  </thead>\n",
       "  <tbody>\n",
       "    <tr>\n",
       "      <th>0</th>\n",
       "      <td>1</td>\n",
       "      <td>54.25</td>\n",
       "      <td>0.0</td>\n",
       "      <td>23</td>\n",
       "      <td>4</td>\n",
       "      <td>634</td>\n",
       "      <td>9/18/2020 9:33:44</td>\n",
       "      <td>charter communications inc</td>\n",
       "      <td>southwest</td>\n",
       "      <td>california</td>\n",
       "      <td>...</td>\n",
       "      <td>P2P_COMMIT</td>\n",
       "      <td>P2P</td>\n",
       "      <td>2021-01-08</td>\n",
       "      <td>11</td>\n",
       "      <td>2018-07-08</td>\n",
       "      <td>2020-09-18</td>\n",
       "      <td>112</td>\n",
       "      <td>915</td>\n",
       "      <td>3611</td>\n",
       "      <td>803</td>\n",
       "    </tr>\n",
       "    <tr>\n",
       "      <th>1</th>\n",
       "      <td>2</td>\n",
       "      <td>110.30</td>\n",
       "      <td>0.0</td>\n",
       "      <td>56</td>\n",
       "      <td>3</td>\n",
       "      <td>1876</td>\n",
       "      <td>5/16/2021 17:2:31</td>\n",
       "      <td>comcast</td>\n",
       "      <td>mountain</td>\n",
       "      <td>colorado</td>\n",
       "      <td>...</td>\n",
       "      <td>P2P_COMMIT</td>\n",
       "      <td>P2P</td>\n",
       "      <td>2021-02-27</td>\n",
       "      <td>07</td>\n",
       "      <td>2001-11-20</td>\n",
       "      <td>2021-05-16</td>\n",
       "      <td>-78</td>\n",
       "      <td>7039</td>\n",
       "      <td>7039</td>\n",
       "      <td>7117</td>\n",
       "    </tr>\n",
       "  </tbody>\n",
       "</table>\n",
       "<p>2 rows × 31 columns</p>\n",
       "</div>"
      ],
      "text/plain": [
       "   dataset_id  TRAN_AMT  ACCT_PRE_TRAN_AVAIL_BAL  CUST_AGE  OPEN_ACCT_CT  \\\n",
       "0           1     54.25                      0.0        23             4   \n",
       "1           2    110.30                      0.0        56             3   \n",
       "\n",
       "   WF_dvc_age        PWD_UPDT_TS                   CARR_NAME   RGN_NAME  \\\n",
       "0         634  9/18/2020 9:33:44  charter communications inc  southwest   \n",
       "1        1876  5/16/2021 17:2:31                     comcast   mountain   \n",
       "\n",
       "  STATE_PRVNC_TXT  ... ACTN_INTNL_TXT TRAN_TYPE_CD   ACTVY_DT TRAN_HOUR  \\\n",
       "0      california  ...     P2P_COMMIT          P2P 2021-01-08        11   \n",
       "1        colorado  ...     P2P_COMMIT          P2P 2021-02-27        07   \n",
       "\n",
       "   PH_NUM_UPDT_DT PWD_UPDT_DT PWD_UPDT_DAYS PH_NUM_UPDT_DAYS TRAN_DAYS  \\\n",
       "0      2018-07-08  2020-09-18           112              915      3611   \n",
       "1      2001-11-20  2021-05-16           -78             7039      7039   \n",
       "\n",
       "  PH_NUM_PWD_DAYS  \n",
       "0             803  \n",
       "1            7117  \n",
       "\n",
       "[2 rows x 31 columns]"
      ]
     },
     "execution_count": 28,
     "metadata": {},
     "output_type": "execute_result"
    }
   ],
   "source": [
    "df_test.head(2)"
   ]
  },
  {
   "cell_type": "code",
   "execution_count": 29,
   "id": "d664e37c",
   "metadata": {},
   "outputs": [],
   "source": [
    "df_test = impute_data(df_test, impute_vals)\n"
   ]
  },
  {
   "cell_type": "code",
   "execution_count": 30,
   "id": "2b858048",
   "metadata": {},
   "outputs": [],
   "source": [
    "df_test = transform_cate_data(df_test)"
   ]
  },
  {
   "cell_type": "code",
   "execution_count": 31,
   "id": "60c85c61",
   "metadata": {},
   "outputs": [],
   "source": [
    "df_test_cat = encoder.transform(df_test[cate_cols_to_keep])\n",
    "df_test_join = pd.concat( [df_test[nume_cols], df_test_cat], axis=1)\n",
    "X_test = df_test_join"
   ]
  },
  {
   "cell_type": "code",
   "execution_count": 32,
   "id": "4df7d6b7",
   "metadata": {},
   "outputs": [
    {
     "name": "stdout",
     "output_type": "stream",
     "text": [
      "(6000, 16)\n"
     ]
    },
    {
     "data": {
      "text/html": [
       "<div>\n",
       "<style scoped>\n",
       "    .dataframe tbody tr th:only-of-type {\n",
       "        vertical-align: middle;\n",
       "    }\n",
       "\n",
       "    .dataframe tbody tr th {\n",
       "        vertical-align: top;\n",
       "    }\n",
       "\n",
       "    .dataframe thead th {\n",
       "        text-align: right;\n",
       "    }\n",
       "</style>\n",
       "<table border=\"1\" class=\"dataframe\">\n",
       "  <thead>\n",
       "    <tr style=\"text-align: right;\">\n",
       "      <th></th>\n",
       "      <th>TRAN_AMT</th>\n",
       "      <th>ACCT_PRE_TRAN_AVAIL_BAL</th>\n",
       "      <th>CUST_AGE</th>\n",
       "      <th>OPEN_ACCT_CT</th>\n",
       "      <th>WF_dvc_age</th>\n",
       "      <th>PWD_UPDT_DAYS</th>\n",
       "      <th>PH_NUM_UPDT_DAYS</th>\n",
       "      <th>TRAN_DAYS</th>\n",
       "      <th>PH_NUM_PWD_DAYS</th>\n",
       "      <th>ALERT_TRGR_CD_1</th>\n",
       "      <th>ALERT_TRGR_CD_2</th>\n",
       "      <th>CUST_STATE_1</th>\n",
       "      <th>CUST_STATE_2</th>\n",
       "      <th>CUST_STATE_3</th>\n",
       "      <th>CUST_STATE_4</th>\n",
       "      <th>CUST_STATE_5</th>\n",
       "    </tr>\n",
       "  </thead>\n",
       "  <tbody>\n",
       "    <tr>\n",
       "      <th>0</th>\n",
       "      <td>54.25</td>\n",
       "      <td>0.0</td>\n",
       "      <td>23</td>\n",
       "      <td>4</td>\n",
       "      <td>634</td>\n",
       "      <td>112</td>\n",
       "      <td>915</td>\n",
       "      <td>3611</td>\n",
       "      <td>803</td>\n",
       "      <td>1</td>\n",
       "      <td>0</td>\n",
       "      <td>0</td>\n",
       "      <td>0</td>\n",
       "      <td>1</td>\n",
       "      <td>0</td>\n",
       "      <td>0</td>\n",
       "    </tr>\n",
       "    <tr>\n",
       "      <th>1</th>\n",
       "      <td>110.30</td>\n",
       "      <td>0.0</td>\n",
       "      <td>56</td>\n",
       "      <td>3</td>\n",
       "      <td>1876</td>\n",
       "      <td>-78</td>\n",
       "      <td>7039</td>\n",
       "      <td>7039</td>\n",
       "      <td>7117</td>\n",
       "      <td>0</td>\n",
       "      <td>1</td>\n",
       "      <td>0</td>\n",
       "      <td>1</td>\n",
       "      <td>0</td>\n",
       "      <td>0</td>\n",
       "      <td>0</td>\n",
       "    </tr>\n",
       "  </tbody>\n",
       "</table>\n",
       "</div>"
      ],
      "text/plain": [
       "   TRAN_AMT  ACCT_PRE_TRAN_AVAIL_BAL  CUST_AGE  OPEN_ACCT_CT  WF_dvc_age  \\\n",
       "0     54.25                      0.0        23             4         634   \n",
       "1    110.30                      0.0        56             3        1876   \n",
       "\n",
       "   PWD_UPDT_DAYS  PH_NUM_UPDT_DAYS  TRAN_DAYS  PH_NUM_PWD_DAYS  \\\n",
       "0            112               915       3611              803   \n",
       "1            -78              7039       7039             7117   \n",
       "\n",
       "   ALERT_TRGR_CD_1  ALERT_TRGR_CD_2  CUST_STATE_1  CUST_STATE_2  CUST_STATE_3  \\\n",
       "0                1                0             0             0             1   \n",
       "1                0                1             0             1             0   \n",
       "\n",
       "   CUST_STATE_4  CUST_STATE_5  \n",
       "0             0             0  \n",
       "1             0             0  "
      ]
     },
     "execution_count": 32,
     "metadata": {},
     "output_type": "execute_result"
    }
   ],
   "source": [
    "print ( X_test.shape )\n",
    "X_test.head(2)"
   ]
  },
  {
   "cell_type": "code",
   "execution_count": 36,
   "id": "d416db44",
   "metadata": {},
   "outputs": [
    {
     "data": {
      "text/plain": [
       "(6000,)"
      ]
     },
     "execution_count": 36,
     "metadata": {},
     "output_type": "execute_result"
    }
   ],
   "source": [
    "df_test_orig[\"dataset_id\"]"
   ]
  },
  {
   "cell_type": "code",
   "execution_count": 40,
   "id": "5605644c",
   "metadata": {},
   "outputs": [
    {
     "data": {
      "text/plain": [
       "array([0, 0, 0, ..., 0, 1, 0])"
      ]
     },
     "execution_count": 40,
     "metadata": {},
     "output_type": "execute_result"
    }
   ],
   "source": [
    "preds = mod_tr.predict(X_test)\n",
    "preds"
   ]
  },
  {
   "cell_type": "code",
   "execution_count": 42,
   "id": "3cfd079b",
   "metadata": {},
   "outputs": [],
   "source": [
    "preds_reversed = (preds+1)%2"
   ]
  },
  {
   "cell_type": "code",
   "execution_count": 43,
   "id": "ddc9e6bf",
   "metadata": {},
   "outputs": [
    {
     "data": {
      "text/plain": [
       "6000"
      ]
     },
     "execution_count": 43,
     "metadata": {},
     "output_type": "execute_result"
    }
   ],
   "source": [
    "# check\n",
    "(preds+preds_reversed).sum()"
   ]
  },
  {
   "cell_type": "markdown",
   "id": "02e08351",
   "metadata": {},
   "source": [
    "# NOTE\n",
    "\n",
    "The challenge note asks us to present the submission file with a mapping of `0 (FRAUD) and 1 (NonFraud)`. In the entire work I used the notation the other  way around.  `1 (FRAUD) and 0 (NonFraud)`.\n",
    "\n",
    "### So in the submission reverse the prediction values.\n"
   ]
  },
  {
   "cell_type": "code",
   "execution_count": 44,
   "id": "027cfe8e",
   "metadata": {},
   "outputs": [],
   "source": [
    "df_submit = pd.DataFrame({\"dataset_id\":df_test_orig[\"dataset_id\"].values, \n",
    "                          \"FRAUD_NONFRAUD\":preds_reversed})\n",
    "\n",
    "df_submit[\"FRAUD_NONFRAUD\"] =  df_submit[\"FRAUD_NONFRAUD\"].map({0:\"Fraud\", 1:\"Non-Fraud\"})"
   ]
  },
  {
   "cell_type": "code",
   "execution_count": 46,
   "id": "4c093736",
   "metadata": {},
   "outputs": [
    {
     "data": {
      "text/html": [
       "<div>\n",
       "<style scoped>\n",
       "    .dataframe tbody tr th:only-of-type {\n",
       "        vertical-align: middle;\n",
       "    }\n",
       "\n",
       "    .dataframe tbody tr th {\n",
       "        vertical-align: top;\n",
       "    }\n",
       "\n",
       "    .dataframe thead th {\n",
       "        text-align: right;\n",
       "    }\n",
       "</style>\n",
       "<table border=\"1\" class=\"dataframe\">\n",
       "  <thead>\n",
       "    <tr style=\"text-align: right;\">\n",
       "      <th></th>\n",
       "      <th>dataset_id</th>\n",
       "      <th>FRAUD_NONFRAUD</th>\n",
       "    </tr>\n",
       "  </thead>\n",
       "  <tbody>\n",
       "    <tr>\n",
       "      <th>0</th>\n",
       "      <td>1</td>\n",
       "      <td>Non-Fraud</td>\n",
       "    </tr>\n",
       "    <tr>\n",
       "      <th>1</th>\n",
       "      <td>2</td>\n",
       "      <td>Non-Fraud</td>\n",
       "    </tr>\n",
       "  </tbody>\n",
       "</table>\n",
       "</div>"
      ],
      "text/plain": [
       "   dataset_id FRAUD_NONFRAUD\n",
       "0           1      Non-Fraud\n",
       "1           2      Non-Fraud"
      ]
     },
     "execution_count": 46,
     "metadata": {},
     "output_type": "execute_result"
    }
   ],
   "source": [
    "df_submit.head(2)"
   ]
  },
  {
   "cell_type": "code",
   "execution_count": 47,
   "id": "c1aa0818",
   "metadata": {},
   "outputs": [],
   "source": [
    "df_submit.to_csv(\"submission.csv\")"
   ]
  },
  {
   "cell_type": "markdown",
   "id": "04b7b987",
   "metadata": {},
   "source": [
    "## Versions of the packages used"
   ]
  },
  {
   "cell_type": "code",
   "execution_count": 61,
   "id": "00eb4c9a",
   "metadata": {},
   "outputs": [],
   "source": [
    "import matplotlib\n",
    "import sklearn, \n",
    "matplotlib.__version__, sklearn.__version__\n",
    "import xgboost, catboost, lightgbm\n"
   ]
  },
  {
   "cell_type": "code",
   "execution_count": 69,
   "id": "4899ee2d",
   "metadata": {},
   "outputs": [
    {
     "data": {
      "text/plain": [
       "'3.9.5'"
      ]
     },
     "execution_count": 69,
     "metadata": {},
     "output_type": "execute_result"
    }
   ],
   "source": [
    "from platform import python_version\n",
    "\n",
    "python_version()\n"
   ]
  },
  {
   "cell_type": "code",
   "execution_count": 70,
   "id": "84c37446",
   "metadata": {},
   "outputs": [
    {
     "name": "stdout",
     "output_type": "stream",
     "text": [
      "Package: pandas   \tVersion: 1.2.4\n",
      "Package: numpy   \tVersion: 1.19.5\n",
      "Package: matplotlib   \tVersion: 3.4.2\n",
      "Package: seaborn   \tVersion: 0.11.1\n",
      "Package: sklearn   \tVersion: 0.23.2\n",
      "Package: xgboost   \tVersion: 1.4.2\n",
      "Package: catboost   \tVersion: 1.0.0\n",
      "Package: lightgbm   \tVersion: 3.2.1\n",
      "Package: category_encoders   \tVersion: 2.2.2\n"
     ]
    }
   ],
   "source": [
    "packs = [[\"pandas\", pd], \n",
    "         [\"numpy\", np],\n",
    "         [\"matplotlib\", matplotlib],\n",
    "         [\"seaborn\", sns],\n",
    "         [\"sklearn\", sklearn],\n",
    "         [\"xgboost\", xgboost], \n",
    "         [\"catboost\", catboost], \n",
    "         [\"lightgbm\", lightgbm],\n",
    "         [\"category_encoders\", ce]\n",
    "        ]        \n",
    "\n",
    "for p_name, p in packs:\n",
    "    print (\"Package:\", p_name,\"  \\tVersion:\", p.__version__ )\n"
   ]
  },
  {
   "cell_type": "code",
   "execution_count": 71,
   "id": "2159a13a",
   "metadata": {},
   "outputs": [
    {
     "name": "stdout",
     "output_type": "stream",
     "text": [
      "pandas : 1.2.4\n",
      "numpy : 1.19.5\n",
      "matplotlib : 3.4.2\n",
      "seaborn : 0.11.1\n",
      "sklearn : 0.23.2\n",
      "xgboost : 1.4.2\n",
      "catboost : 1.0.0\n",
      "lightgbm : 3.2.1\n",
      "category_encoders : 2.2.2\n"
     ]
    }
   ],
   "source": [
    "for p_name, p in packs:\n",
    "    print (p_name,\":\", p.__version__ )\n"
   ]
  },
  {
   "cell_type": "code",
   "execution_count": null,
   "id": "659eee01",
   "metadata": {},
   "outputs": [],
   "source": []
  }
 ],
 "metadata": {
  "kernelspec": {
   "display_name": "Python 3",
   "language": "python",
   "name": "python3"
  },
  "language_info": {
   "codemirror_mode": {
    "name": "ipython",
    "version": 3
   },
   "file_extension": ".py",
   "mimetype": "text/x-python",
   "name": "python",
   "nbconvert_exporter": "python",
   "pygments_lexer": "ipython3",
   "version": "3.9.5"
  }
 },
 "nbformat": 4,
 "nbformat_minor": 5
}
