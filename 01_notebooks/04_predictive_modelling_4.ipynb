{
 "cells": [
  {
   "cell_type": "markdown",
   "id": "5a5fdfb3",
   "metadata": {},
   "source": [
    "# Wells Fargo Challenge\n",
    "\n",
    "- https://www.mindsumo.com/contests/campus-analytics-challenge-2021\n",
    "\n",
    "### To Complete a Submission:\n",
    "\n",
    "Build a classification model for predicting elder fraud in the digital payments space as described in Rule 4, which:\n",
    "\n",
    "- Handles missing variables\n",
    "- Maximizes the F1 score\n",
    "- Uses the given data set\n",
    "- Includes suitable encoding schemes\n",
    "- Has the least set of feature variables\n",
    "\n",
    "### Resources\n",
    "- https://github.com/pdglenn/WellsFargoAnalyticsChallenge"
   ]
  },
  {
   "cell_type": "code",
   "execution_count": 1,
   "id": "69046927",
   "metadata": {},
   "outputs": [],
   "source": [
    "import pandas as pd\n",
    "import numpy as np\n",
    "import pylab as plt\n",
    "import seaborn as sns\n",
    "\n",
    "data_dir = \"./dataset/\"\n",
    "\n",
    "# following few lines are to supress the pandas warnings\n",
    "import warnings\n",
    "warnings.simplefilter(action='ignore', category=FutureWarning)\n",
    "warnings.simplefilter(action='ignore', category=UserWarning)\n",
    "\n",
    "pd.options.mode.chained_assignment = None \n",
    "pd.options.display.max_columns = 20\n",
    "np.set_printoptions(suppress=True) \n",
    "\n",
    "data_dir = \"./dataset/\"\n",
    "image_dir = \"./images/\"\n"
   ]
  },
  {
   "cell_type": "markdown",
   "id": "e9833041",
   "metadata": {},
   "source": [
    "## Loading the data"
   ]
  },
  {
   "cell_type": "code",
   "execution_count": 2,
   "id": "8a179eb2",
   "metadata": {},
   "outputs": [
    {
     "data": {
      "text/html": [
       "<div>\n",
       "<style scoped>\n",
       "    .dataframe tbody tr th:only-of-type {\n",
       "        vertical-align: middle;\n",
       "    }\n",
       "\n",
       "    .dataframe tbody tr th {\n",
       "        vertical-align: top;\n",
       "    }\n",
       "\n",
       "    .dataframe thead th {\n",
       "        text-align: right;\n",
       "    }\n",
       "</style>\n",
       "<table border=\"1\" class=\"dataframe\">\n",
       "  <thead>\n",
       "    <tr style=\"text-align: right;\">\n",
       "      <th></th>\n",
       "      <th>TRAN_AMT</th>\n",
       "      <th>ACCT_PRE_TRAN_AVAIL_BAL</th>\n",
       "      <th>CUST_AGE</th>\n",
       "      <th>OPEN_ACCT_CT</th>\n",
       "      <th>WF_dvc_age</th>\n",
       "      <th>PWD_UPDT_TS</th>\n",
       "      <th>CARR_NAME</th>\n",
       "      <th>RGN_NAME</th>\n",
       "      <th>STATE_PRVNC_TXT</th>\n",
       "      <th>ALERT_TRGR_CD</th>\n",
       "      <th>...</th>\n",
       "      <th>CUST_STATE</th>\n",
       "      <th>PH_NUM_UPDT_TS</th>\n",
       "      <th>CUST_SINCE_DT</th>\n",
       "      <th>TRAN_TS</th>\n",
       "      <th>TRAN_DT</th>\n",
       "      <th>ACTN_CD</th>\n",
       "      <th>ACTN_INTNL_TXT</th>\n",
       "      <th>TRAN_TYPE_CD</th>\n",
       "      <th>ACTVY_DT</th>\n",
       "      <th>FRAUD_NONFRAUD</th>\n",
       "    </tr>\n",
       "  </thead>\n",
       "  <tbody>\n",
       "    <tr>\n",
       "      <th>0</th>\n",
       "      <td>5.38</td>\n",
       "      <td>23619.91</td>\n",
       "      <td>47</td>\n",
       "      <td>4</td>\n",
       "      <td>2777</td>\n",
       "      <td>1/16/2018 11:3:58</td>\n",
       "      <td>cox communications inc.</td>\n",
       "      <td>southwest</td>\n",
       "      <td>nevada</td>\n",
       "      <td>MOBL</td>\n",
       "      <td>...</td>\n",
       "      <td>NV</td>\n",
       "      <td>2/24/2021 15:55:10</td>\n",
       "      <td>1993-01-06</td>\n",
       "      <td>5/3/2021 18:3:58</td>\n",
       "      <td>5/3/2021</td>\n",
       "      <td>SCHPMT</td>\n",
       "      <td>P2P_COMMIT</td>\n",
       "      <td>P2P</td>\n",
       "      <td>5/3/2021</td>\n",
       "      <td>Non-Fraud</td>\n",
       "    </tr>\n",
       "    <tr>\n",
       "      <th>1</th>\n",
       "      <td>65.19</td>\n",
       "      <td>0.00</td>\n",
       "      <td>45</td>\n",
       "      <td>5</td>\n",
       "      <td>2721</td>\n",
       "      <td>NaN</td>\n",
       "      <td>charter communications</td>\n",
       "      <td>southwest</td>\n",
       "      <td>california</td>\n",
       "      <td>MOBL</td>\n",
       "      <td>...</td>\n",
       "      <td>CA</td>\n",
       "      <td>NaN</td>\n",
       "      <td>1971-01-07</td>\n",
       "      <td>1/13/2021 19:19:37</td>\n",
       "      <td>1/13/2021</td>\n",
       "      <td>SCHPMT</td>\n",
       "      <td>P2P_COMMIT</td>\n",
       "      <td>P2P</td>\n",
       "      <td>1/13/2021</td>\n",
       "      <td>Non-Fraud</td>\n",
       "    </tr>\n",
       "  </tbody>\n",
       "</table>\n",
       "<p>2 rows × 24 columns</p>\n",
       "</div>"
      ],
      "text/plain": [
       "   TRAN_AMT  ACCT_PRE_TRAN_AVAIL_BAL  CUST_AGE  OPEN_ACCT_CT  WF_dvc_age  \\\n",
       "0      5.38                 23619.91        47             4        2777   \n",
       "1     65.19                     0.00        45             5        2721   \n",
       "\n",
       "         PWD_UPDT_TS                CARR_NAME   RGN_NAME STATE_PRVNC_TXT  \\\n",
       "0  1/16/2018 11:3:58  cox communications inc.  southwest          nevada   \n",
       "1                NaN   charter communications  southwest      california   \n",
       "\n",
       "  ALERT_TRGR_CD  ... CUST_STATE      PH_NUM_UPDT_TS CUST_SINCE_DT  \\\n",
       "0          MOBL  ...         NV  2/24/2021 15:55:10    1993-01-06   \n",
       "1          MOBL  ...         CA                 NaN    1971-01-07   \n",
       "\n",
       "              TRAN_TS    TRAN_DT ACTN_CD ACTN_INTNL_TXT TRAN_TYPE_CD  \\\n",
       "0    5/3/2021 18:3:58   5/3/2021  SCHPMT     P2P_COMMIT          P2P   \n",
       "1  1/13/2021 19:19:37  1/13/2021  SCHPMT     P2P_COMMIT          P2P   \n",
       "\n",
       "    ACTVY_DT FRAUD_NONFRAUD  \n",
       "0   5/3/2021      Non-Fraud  \n",
       "1  1/13/2021      Non-Fraud  \n",
       "\n",
       "[2 rows x 24 columns]"
      ]
     },
     "execution_count": 2,
     "metadata": {},
     "output_type": "execute_result"
    }
   ],
   "source": [
    "# load the file\n",
    "df_orig = pd.read_excel(data_dir+\"trainset.xlsx\", engine='openpyxl')\n",
    "df_orig.head(2)"
   ]
  },
  {
   "cell_type": "markdown",
   "id": "e5c34a9f",
   "metadata": {},
   "source": [
    "## Train test split\n",
    "\n",
    "Before doing any data visualization let's set some test data aside and use them to score the model later on."
   ]
  },
  {
   "cell_type": "code",
   "execution_count": 3,
   "id": "b8681d93",
   "metadata": {},
   "outputs": [],
   "source": [
    "from sklearn.model_selection import train_test_split\n",
    "from sklearn.preprocessing import StandardScaler\n",
    "\n",
    "# stratify the target column so that the distribution look similar in the train and test data\n",
    "df_train0, df_test0 = train_test_split(df_orig,\n",
    "                               test_size = .2,\n",
    "                               random_state = 8848,\n",
    "                               shuffle = True,\n",
    "                               stratify = df_orig[\"FRAUD_NONFRAUD\"])"
   ]
  },
  {
   "cell_type": "markdown",
   "id": "f9c57826",
   "metadata": {},
   "source": [
    "## Feature Engineering, Transformation and Data Imputation\n",
    "\n",
    "- In cases where the PWD_update and PH_NUM_update are after the transaction date we risk using the future information to make a predictive modeling. This on one hand might improve the model performance for the training/test data but it has a risk of "
   ]
  },
  {
   "cell_type": "code",
   "execution_count": 4,
   "id": "6efb7152",
   "metadata": {},
   "outputs": [],
   "source": [
    "def convert_future_info_to_past(df, tran_date, pwd_phn_date, cust_since_date ):\n",
    "    # for cases where transaction date is after pwd_update/phone_num_update date\n",
    "    # then we'd get a -ve value\n",
    "    # so replace the -ve values by tran_date - cust_since_date\n",
    "    return np.where((df[tran_date]-df[pwd_phn_date]).dt.days <0,\n",
    "                    (df[tran_date]- df[cust_since_date]).dt.days, \n",
    "                    (df[tran_date]-df[pwd_phn_date]).dt.days)"
   ]
  },
  {
   "cell_type": "code",
   "execution_count": 5,
   "id": "d67c78e4",
   "metadata": {},
   "outputs": [],
   "source": [
    "def convert_date_format(x):\n",
    "    if len(str(x).split(\"/\"))>1:\n",
    "        m,d,y=str(x).strip().split()[0].split(\"/\")\n",
    "        if d=='0':\n",
    "            d='1'\n",
    "        elif d=='31':\n",
    "            d='30'\n",
    "        return \"-\".join([y,m,d])\n",
    "    else:\n",
    "        return str(x).split()[0]\n",
    "\n",
    "def feature_engineering(df):\n",
    "    # conver the _DT columns to pandas datetime\n",
    "    cols_DT = [c for c in df.columns if \"_DT\" in c]\n",
    "    df[cols_DT] = df[cols_DT].apply(pd.to_datetime)\n",
    "    # convert the TRAN_Timestamp to only hour\n",
    "    df[\"TRAN_HOUR\"]=pd.to_datetime(df['TRAN_TS']).dt.strftime(\"%H\")\n",
    "    # Fill the Nulls for Phone update by the cust_since_date and keep only date\n",
    "    df[\"PH_NUM_UPDT_DT\"]=pd.to_datetime(df[\"PH_NUM_UPDT_TS\"].fillna(df[\"CUST_SINCE_DT\"]).apply(convert_date_format))\n",
    "    # Fill the Nulls for pwd update by the cust_since_date and keep only date\n",
    "    df[\"PWD_UPDT_DT\"]=pd.to_datetime(df[\"PWD_UPDT_TS\"].fillna(df[\"CUST_SINCE_DT\"]).apply(convert_date_format))\n",
    "    # Num of days between TRAN_DATE and PWD_UPDATE_DAYS\n",
    "    df[\"PWD_UPDT_DAYS\"] = convert_future_info_to_past(df, \"TRAN_DT\",\n",
    "                                                      \"PWD_UPDT_DT\",\n",
    "                                                      \"CUST_SINCE_DT\")\n",
    "    \n",
    "    \n",
    "    #np.where( (df[\"TRAN_DT\"]-df[\"PWD_UPDT_DT\"]).dt.days <0,\n",
    "    #                               (df[\"TRAN_DT\"]- df[\"CUST_SINCE_DT\"]).dt.days, \n",
    "    #                               (df[\"TRAN_DT\"]-df[\"PWD_UPDT_DT\"]).dt.days\n",
    "    #                              )\n",
    "    \n",
    "    # Num of days between TRAN_DATE and PHONE_NUM_UPDATE_DAYS\n",
    "    df[\"PH_NUM_UPDT_DAYS\"] = convert_future_info_to_past(df, \"TRAN_DT\",\n",
    "                                                         \"PH_NUM_UPDT_DT\",\n",
    "                                                         \"CUST_SINCE_DT\")\n",
    "    \n",
    "    #np.where( (df[\"TRAN_DT\"]-df[\"PH_NUM_UPDT_DT\"]).dt.days <0,\n",
    "    #                                  (df[\"TRAN_DT\"]- df[\"CUST_SINCE_DT\"]).dt.days,\n",
    "    #                                  (df[\"TRAN_DT\"]-df[\"PH_NUM_UPDT_DT\"]).dt.days\n",
    "    #                                 )\n",
    "    \n",
    "    # Num of days between TRAN_DATE and CUST_SINCE_DATE\n",
    "    #df[\"TRAN_DAYS\"] = (df[\"TRAN_DT\"] - df[\"CUST_SINCE_DT\"]).dt.days\n",
    "    # Num of days between PWD update and phone number update\n",
    "    #df[\"PH_NUM_PWD_DAYS\"]=df[\"PH_NUM_UPDT_DAYS\"] - df[\"PWD_UPDT_DAYS\"]\n",
    "    df[\"RAND\"] =np.random.rand(df.shape[0])\n",
    "    return df"
   ]
  },
  {
   "cell_type": "code",
   "execution_count": 6,
   "id": "4a262644",
   "metadata": {},
   "outputs": [],
   "source": [
    "def get_imputation_values(df):\n",
    "    \n",
    "    # find numerical and categorical columns\n",
    "    nume_cols = list(df.select_dtypes(include=\"number\").columns)\n",
    "    cate_cols = list(df.select_dtypes(exclude=\"number\").columns)\n",
    "    nume_cols.remove('CUST_ZIP')\n",
    "    cate_cols.append('CUST_ZIP')\n",
    "    nume_cols.remove('FRAUD_NONFRAUD')\n",
    "   \n",
    "    impute_vals={}\n",
    "\n",
    "    for col in df.columns:\n",
    "        if col in nume_cols:\n",
    "            impute_vals[col] = df[col].median()\n",
    "        elif col in cate_cols:\n",
    "            impute_vals[col] = df[col].mode()[0]\n",
    "    return nume_cols, cate_cols, impute_vals"
   ]
  },
  {
   "cell_type": "code",
   "execution_count": 7,
   "id": "2384ab89",
   "metadata": {},
   "outputs": [],
   "source": [
    "def impute_data(df, impute_dict):\n",
    "    \"\"\"\n",
    "    this function takes in a dataframe and list of columns which have missing values\n",
    "    then imputes those columns using the precomputed values.\n",
    "    \"\"\"\n",
    "    for col in list(impute_dict.keys()):\n",
    "        df[col] = df[col].fillna(impute_dict[col])\n",
    "    return df"
   ]
  },
  {
   "cell_type": "code",
   "execution_count": 8,
   "id": "a36c9dff",
   "metadata": {},
   "outputs": [],
   "source": [
    "def transform_cate_data(df):\n",
    "    #CUST_STATE\n",
    "    # keep only CO, TX, MN, AZ and convert rest into OTHER\n",
    "    df[\"CUST_STATE\"] = df[\"CUST_STATE\"].apply(lambda x: x if x in [\"CO\", \"TX\", \"MN\", \"AZ\"] else \"OTHER\")\n",
    "    #OPEN_ACCT_CT\n",
    "    #keep only the [2,9] and convert others to 10\n",
    "    df[\"OPEN_ACCT_CT\"] = df[\"OPEN_ACCT_CT\"].apply(lambda x: x if x in range(1,13) else 13)\n",
    "    return df"
   ]
  },
  {
   "cell_type": "markdown",
   "id": "5b73608d",
   "metadata": {},
   "source": [
    "## Modelling"
   ]
  },
  {
   "cell_type": "code",
   "execution_count": 70,
   "id": "a1d4f350",
   "metadata": {},
   "outputs": [],
   "source": [
    "from sklearn.linear_model import LogisticRegression\n",
    "from sklearn.model_selection import GridSearchCV, cross_val_score\n",
    "from sklearn.ensemble import RandomForestClassifier, VotingClassifier\n",
    "from xgboost import XGBClassifier\n",
    "from lightgbm import LGBMClassifier\n",
    "from sklearn.metrics import accuracy_score, f1_score, precision_score, recall_score\n",
    "from sklearn.metrics import classification_report, roc_auc_score, plot_roc_curve"
   ]
  },
  {
   "cell_type": "code",
   "execution_count": 10,
   "id": "e1a2a1ca",
   "metadata": {},
   "outputs": [],
   "source": [
    "class Model_training:\n",
    "    def __init__(self, model, X_train, y_train, X_test, y_test, savename=\"Fig\"):\n",
    "        self.model = model\n",
    "        self.X_train = X_train\n",
    "        self.y_train = y_train\n",
    "        self.X_test  = X_test\n",
    "        self.y_test  = y_test\n",
    "        self.savename = savename\n",
    "        self.model.fit(self.X_train, self.y_train)\n",
    "        \n",
    "    def print_metrics(self):\n",
    "        round_to_pct = lambda x: np.round(100*x, 2)\n",
    "        y_pred = self.model.predict(self.X_test)\n",
    "        ac = round_to_pct(accuracy_score(self.y_test, y_pred))\n",
    "        f1 = round_to_pct(f1_score(self.y_test, y_pred))\n",
    "        pr = round_to_pct(precision_score(self.y_test, y_pred))\n",
    "        re = round_to_pct(recall_score(self.y_test, y_pred))\n",
    "        print (f\"Accuracy = {ac}% F1 Score= {f1}% \\nPrecision={pr}% Recall= {re}%\")\n",
    "        print (classification_report(self.y_test, y_pred))\n",
    "        return (self.model, (ac, f1, pr, re))\n",
    "        \n",
    "    def displot(self):\n",
    "        pr=self.model.predict_proba(self.X_test)        \n",
    "        roc_auc = np.round(roc_auc_score(self.y_test,\n",
    "                                         self.model.predict_proba(self.X_test)[:, 1]), 2)\n",
    "\n",
    "        pr_df = pd.DataFrame({'pred_0':pr[:,0], \n",
    "                              'pred_1':pr[:,1], \n",
    "                              'y': self.y_test})\n",
    "\n",
    "        ax=sns.displot(data=pr_df, \n",
    "                       x='pred_1', \n",
    "                       hue='y', \n",
    "                       alpha=0.8, \n",
    "                       kind=\"kde\",\n",
    "                       height = 3.5, \n",
    "                       aspect=1.8);\n",
    "        \n",
    "        plt.xlabel(\"Prob. Positive Predictions\", fontsize=16)\n",
    "        plt.text(0.2, 2, \"ROC_AUC=\"+str(roc_auc), fontsize=16)\n",
    "        plt.ylabel(\"Density\", fontsize=16)\n",
    "        \n",
    "        plt.yticks(fontsize=16);\n",
    "        plt.xticks(fontsize=16);\n",
    "        figname = \"images/displot_\"+self.savename+\".png\"\n",
    "        plt.savefig(figname, dpi=300, bbox_inches='tight')\n",
    "\n",
    "    def feature_importance(self):\n",
    "        # find the feature importance for both single model \n",
    "        # or a grid search cv model\n",
    "        try:\n",
    "            imp = self.model.feature_importances_\n",
    "        except:\n",
    "            imp = self.model.best_estimator_.feature_importances_\n",
    "\n",
    "        df_imp = pd.DataFrame({\"Feature\":self.X_train.columns, \n",
    "                               \"Feature Importance\":imp})\n",
    "        \n",
    "        df_imp = df_imp.sort_values(by=['Feature Importance'],\n",
    "                                    axis=0,\n",
    "                                    ascending=True)\n",
    "        \n",
    "        df_imp.plot(kind='barh',\n",
    "                    x='Feature', \n",
    "                    y='Feature Importance',\n",
    "                    color=\"C2\", figsize=(8,5));\n",
    "        \n",
    "        plt.grid(axis='x')\n",
    "        plt.yticks(fontsize=16);\n",
    "        plt.ylabel('');\n",
    "        plt.xticks(fontsize=16);\n",
    "        plt.legend(loc='best',fontsize=16);\n",
    "        \n",
    "        figname = \"images/feat_imp_\"+self.savename+\".png\"\n",
    "        plt.savefig(figname, dpi=300, bbox_inches='tight')\n",
    "        \n",
    "    def plot_roc_curve(self):\n",
    "        roc_auc = np.round(roc_auc_score(self.y_test,\n",
    "                                         self.model.predict_proba(self.X_test)[:, 1]), 2)\n",
    "        label_name = self.savename +\"\\nAUC = \"+str(roc_auc)\n",
    "        \n",
    "        plot_roc_curve(self.model, self.X_test, self.y_test,\n",
    "                       lw=3., color='C2', label=label_name)\n",
    "        plt.title(\"ROC Curve\", fontsize=18)\n",
    "        plt.xlabel(\"False Positive Rate\", fontsize=16)\n",
    "        plt.ylabel(\"True Positive Rate\", fontsize=16)\n",
    "        plt.xticks(fontsize=16);\n",
    "        plt.yticks(fontsize=16);\n",
    "        plt.legend(loc=\"center\", fontsize=14);\n",
    "        plt.axvline(x=0, color='k', ls='--', lw=1)\n",
    "        plt.axhline(y=0, color='k', ls='--', lw=1)\n",
    "        plt.axhline(y=1, color='k', ls='--', lw=1)\n",
    "        \n",
    "        figname = \"images/roc_curve_\"+self.savename+\".png\"\n",
    "        plt.savefig(figname, dpi=300, bbox_inches='tight')"
   ]
  },
  {
   "cell_type": "markdown",
   "id": "4958a3e5",
   "metadata": {},
   "source": [
    "## Modeling 1: Numerical features (Given only)"
   ]
  },
  {
   "cell_type": "code",
   "execution_count": 11,
   "id": "010936e8",
   "metadata": {},
   "outputs": [],
   "source": [
    "df1 = df_train0.copy()\n",
    "df1[\"FRAUD_NONFRAUD\"] =  df1[\"FRAUD_NONFRAUD\"].map({\"Fraud\":1, \"Non-Fraud\":0})\n",
    "df1 = feature_engineering(df1)\n",
    "nume_cols, cate_cols, impute_vals = get_imputation_values(df1)\n",
    "df1 = impute_data(df1, impute_vals)\n",
    "df1 = transform_cate_data(df1)"
   ]
  },
  {
   "cell_type": "code",
   "execution_count": 12,
   "id": "0e4b6958",
   "metadata": {},
   "outputs": [
    {
     "data": {
      "text/html": [
       "<div>\n",
       "<style scoped>\n",
       "    .dataframe tbody tr th:only-of-type {\n",
       "        vertical-align: middle;\n",
       "    }\n",
       "\n",
       "    .dataframe tbody tr th {\n",
       "        vertical-align: top;\n",
       "    }\n",
       "\n",
       "    .dataframe thead th {\n",
       "        text-align: right;\n",
       "    }\n",
       "</style>\n",
       "<table border=\"1\" class=\"dataframe\">\n",
       "  <thead>\n",
       "    <tr style=\"text-align: right;\">\n",
       "      <th></th>\n",
       "      <th>TRAN_AMT</th>\n",
       "      <th>ACCT_PRE_TRAN_AVAIL_BAL</th>\n",
       "      <th>CUST_AGE</th>\n",
       "      <th>OPEN_ACCT_CT</th>\n",
       "      <th>WF_dvc_age</th>\n",
       "      <th>PWD_UPDT_TS</th>\n",
       "      <th>CARR_NAME</th>\n",
       "      <th>RGN_NAME</th>\n",
       "      <th>STATE_PRVNC_TXT</th>\n",
       "      <th>ALERT_TRGR_CD</th>\n",
       "      <th>...</th>\n",
       "      <th>ACTN_INTNL_TXT</th>\n",
       "      <th>TRAN_TYPE_CD</th>\n",
       "      <th>ACTVY_DT</th>\n",
       "      <th>FRAUD_NONFRAUD</th>\n",
       "      <th>TRAN_HOUR</th>\n",
       "      <th>PH_NUM_UPDT_DT</th>\n",
       "      <th>PWD_UPDT_DT</th>\n",
       "      <th>PWD_UPDT_DAYS</th>\n",
       "      <th>PH_NUM_UPDT_DAYS</th>\n",
       "      <th>RAND</th>\n",
       "    </tr>\n",
       "  </thead>\n",
       "  <tbody>\n",
       "    <tr>\n",
       "      <th>2413</th>\n",
       "      <td>487.93</td>\n",
       "      <td>3714.91</td>\n",
       "      <td>43</td>\n",
       "      <td>5</td>\n",
       "      <td>1037</td>\n",
       "      <td>5/18/2020 4:7:20</td>\n",
       "      <td>cox communications inc.</td>\n",
       "      <td>southwest</td>\n",
       "      <td>california</td>\n",
       "      <td>MOBL</td>\n",
       "      <td>...</td>\n",
       "      <td>P2P_COMMIT</td>\n",
       "      <td>P2P</td>\n",
       "      <td>2021-04-13</td>\n",
       "      <td>1</td>\n",
       "      <td>05</td>\n",
       "      <td>2020-05-01</td>\n",
       "      <td>1988-01-11</td>\n",
       "      <td>12146</td>\n",
       "      <td>347</td>\n",
       "      <td>0.950346</td>\n",
       "    </tr>\n",
       "    <tr>\n",
       "      <th>1003</th>\n",
       "      <td>4.84</td>\n",
       "      <td>0.00</td>\n",
       "      <td>53</td>\n",
       "      <td>5</td>\n",
       "      <td>305</td>\n",
       "      <td>4/12/2017 15:54:53</td>\n",
       "      <td>cox communications inc.</td>\n",
       "      <td>southwest</td>\n",
       "      <td>california</td>\n",
       "      <td>MOBL</td>\n",
       "      <td>...</td>\n",
       "      <td>P2P_COMMIT</td>\n",
       "      <td>P2P</td>\n",
       "      <td>2021-04-29</td>\n",
       "      <td>0</td>\n",
       "      <td>22</td>\n",
       "      <td>1987-04-05</td>\n",
       "      <td>2017-04-12</td>\n",
       "      <td>1478</td>\n",
       "      <td>12443</td>\n",
       "      <td>0.730711</td>\n",
       "    </tr>\n",
       "  </tbody>\n",
       "</table>\n",
       "<p>2 rows × 30 columns</p>\n",
       "</div>"
      ],
      "text/plain": [
       "      TRAN_AMT  ACCT_PRE_TRAN_AVAIL_BAL  CUST_AGE  OPEN_ACCT_CT  WF_dvc_age  \\\n",
       "2413    487.93                  3714.91        43             5        1037   \n",
       "1003      4.84                     0.00        53             5         305   \n",
       "\n",
       "             PWD_UPDT_TS                CARR_NAME   RGN_NAME STATE_PRVNC_TXT  \\\n",
       "2413    5/18/2020 4:7:20  cox communications inc.  southwest      california   \n",
       "1003  4/12/2017 15:54:53  cox communications inc.  southwest      california   \n",
       "\n",
       "     ALERT_TRGR_CD  ... ACTN_INTNL_TXT TRAN_TYPE_CD   ACTVY_DT  \\\n",
       "2413          MOBL  ...     P2P_COMMIT          P2P 2021-04-13   \n",
       "1003          MOBL  ...     P2P_COMMIT          P2P 2021-04-29   \n",
       "\n",
       "      FRAUD_NONFRAUD TRAN_HOUR PH_NUM_UPDT_DT PWD_UPDT_DT PWD_UPDT_DAYS  \\\n",
       "2413               1        05     2020-05-01  1988-01-11         12146   \n",
       "1003               0        22     1987-04-05  2017-04-12          1478   \n",
       "\n",
       "     PH_NUM_UPDT_DAYS      RAND  \n",
       "2413              347  0.950346  \n",
       "1003            12443  0.730711  \n",
       "\n",
       "[2 rows x 30 columns]"
      ]
     },
     "execution_count": 12,
     "metadata": {},
     "output_type": "execute_result"
    }
   ],
   "source": [
    "df1.head(2)"
   ]
  },
  {
   "cell_type": "code",
   "execution_count": 13,
   "id": "9a5cccf5",
   "metadata": {},
   "outputs": [],
   "source": [
    "df1_te = df_test0.copy()\n",
    "df1_te[\"FRAUD_NONFRAUD\"] =  df1_te[\"FRAUD_NONFRAUD\"].map({\"Fraud\":1, \"Non-Fraud\":0})\n",
    "df1_te = feature_engineering(df1_te)\n",
    "df1_te = impute_data(df1_te, impute_dict=impute_vals)\n",
    "df1_te = transform_cate_data(df1_te)"
   ]
  },
  {
   "cell_type": "code",
   "execution_count": 42,
   "id": "5f77056a",
   "metadata": {},
   "outputs": [
    {
     "data": {
      "text/plain": [
       "['TRAN_AMT',\n",
       " 'ACCT_PRE_TRAN_AVAIL_BAL',\n",
       " 'CUST_AGE',\n",
       " 'OPEN_ACCT_CT',\n",
       " 'WF_dvc_age',\n",
       " 'PWD_UPDT_DAYS',\n",
       " 'PH_NUM_UPDT_DAYS',\n",
       " 'RAND']"
      ]
     },
     "execution_count": 42,
     "metadata": {},
     "output_type": "execute_result"
    }
   ],
   "source": [
    "nume_cols1 = list(df1.select_dtypes(include=\"number\").columns)\n",
    "nume_cols1.remove('CUST_ZIP')  \n",
    "nume_cols1.remove(\"FRAUD_NONFRAUD\")\n",
    "nume_cols1"
   ]
  },
  {
   "cell_type": "code",
   "execution_count": 43,
   "id": "e446300e",
   "metadata": {},
   "outputs": [
    {
     "data": {
      "text/plain": [
       "((11200, 8), (11200,), (2800, 8), (2800,))"
      ]
     },
     "execution_count": 43,
     "metadata": {},
     "output_type": "execute_result"
    }
   ],
   "source": [
    "X_train1, y_train1 = df1[nume_cols1], df1[\"FRAUD_NONFRAUD\"]\n",
    "X_test1,  y_test1  = df1_te[nume_cols1], df1_te[\"FRAUD_NONFRAUD\"]\n",
    "X_train1.shape, y_train1.shape, X_test1.shape, y_test1.shape"
   ]
  },
  {
   "cell_type": "code",
   "execution_count": 44,
   "id": "eaff51f9",
   "metadata": {},
   "outputs": [
    {
     "data": {
      "text/html": [
       "<div>\n",
       "<style scoped>\n",
       "    .dataframe tbody tr th:only-of-type {\n",
       "        vertical-align: middle;\n",
       "    }\n",
       "\n",
       "    .dataframe tbody tr th {\n",
       "        vertical-align: top;\n",
       "    }\n",
       "\n",
       "    .dataframe thead th {\n",
       "        text-align: right;\n",
       "    }\n",
       "</style>\n",
       "<table border=\"1\" class=\"dataframe\">\n",
       "  <thead>\n",
       "    <tr style=\"text-align: right;\">\n",
       "      <th></th>\n",
       "      <th>TRAN_AMT</th>\n",
       "      <th>ACCT_PRE_TRAN_AVAIL_BAL</th>\n",
       "      <th>CUST_AGE</th>\n",
       "      <th>OPEN_ACCT_CT</th>\n",
       "      <th>WF_dvc_age</th>\n",
       "      <th>PWD_UPDT_DAYS</th>\n",
       "      <th>PH_NUM_UPDT_DAYS</th>\n",
       "      <th>RAND</th>\n",
       "    </tr>\n",
       "  </thead>\n",
       "  <tbody>\n",
       "    <tr>\n",
       "      <th>2413</th>\n",
       "      <td>487.93</td>\n",
       "      <td>3714.91</td>\n",
       "      <td>43</td>\n",
       "      <td>5</td>\n",
       "      <td>1037</td>\n",
       "      <td>12146</td>\n",
       "      <td>347</td>\n",
       "      <td>0.950346</td>\n",
       "    </tr>\n",
       "    <tr>\n",
       "      <th>1003</th>\n",
       "      <td>4.84</td>\n",
       "      <td>0.00</td>\n",
       "      <td>53</td>\n",
       "      <td>5</td>\n",
       "      <td>305</td>\n",
       "      <td>1478</td>\n",
       "      <td>12443</td>\n",
       "      <td>0.730711</td>\n",
       "    </tr>\n",
       "  </tbody>\n",
       "</table>\n",
       "</div>"
      ],
      "text/plain": [
       "      TRAN_AMT  ACCT_PRE_TRAN_AVAIL_BAL  CUST_AGE  OPEN_ACCT_CT  WF_dvc_age  \\\n",
       "2413    487.93                  3714.91        43             5        1037   \n",
       "1003      4.84                     0.00        53             5         305   \n",
       "\n",
       "      PWD_UPDT_DAYS  PH_NUM_UPDT_DAYS      RAND  \n",
       "2413          12146               347  0.950346  \n",
       "1003           1478             12443  0.730711  "
      ]
     },
     "execution_count": 44,
     "metadata": {},
     "output_type": "execute_result"
    }
   ],
   "source": [
    "X_train1.head(2)"
   ]
  },
  {
   "cell_type": "code",
   "execution_count": null,
   "id": "8097706e",
   "metadata": {},
   "outputs": [],
   "source": []
  },
  {
   "cell_type": "code",
   "execution_count": 49,
   "id": "7332e8ef",
   "metadata": {},
   "outputs": [
    {
     "name": "stdout",
     "output_type": "stream",
     "text": [
      "[21:20:38] WARNING: /Users/travis/build/dmlc/xgboost/src/learner.cc:1095: Starting in XGBoost 1.3.0, the default evaluation metric used with the objective 'binary:logistic' was changed from 'error' to 'logloss'. Explicitly set eval_metric if you'd like to restore the old behavior.\n"
     ]
    }
   ],
   "source": [
    "lgbm = LGBMClassifier()\n",
    "rf   = RandomForestClassifier(max_depth=12)\n",
    "xgb  = XGBClassifier(max_depth=12)\n",
    "\n",
    "mods = [lgbm, rf, xgb]\n",
    "\n",
    "proba = np.zeros((X_test1.shape[0], 3))\n",
    "\n",
    "for i,mod in enumerate(mods):\n",
    "    mod.fit(X_train1, y_train1)\n",
    "    proba[:,i]=mod.predict_proba(X_test1)[:,1]"
   ]
  },
  {
   "cell_type": "code",
   "execution_count": 73,
   "id": "ef03dae8",
   "metadata": {},
   "outputs": [],
   "source": [
    "lgbm = LGBMClassifier()\n",
    "lgbm.fit(X_train1, y_train1)\n",
    "y_pred = lgbm.predict(X_test1)\n",
    "proba  = lgbm.predict_proba(X_test1)"
   ]
  },
  {
   "cell_type": "code",
   "execution_count": 77,
   "id": "7082ecda",
   "metadata": {},
   "outputs": [
    {
     "data": {
      "text/plain": [
       "0.8962088253573648"
      ]
     },
     "execution_count": 77,
     "metadata": {},
     "output_type": "execute_result"
    }
   ],
   "source": [
    "f1_score(y_test1, y_pred)"
   ]
  },
  {
   "cell_type": "code",
   "execution_count": 79,
   "id": "9cc085c0",
   "metadata": {},
   "outputs": [
    {
     "name": "stdout",
     "output_type": "stream",
     "text": [
      "Best Threshold=0.209217, G-Mean=0.931\n"
     ]
    }
   ],
   "source": [
    "fpr, tpr, thresholds = roc_curve(y_test1, proba[:,1])\n",
    "gmeans = np.sqrt(tpr * (1-fpr))\n",
    "ix = np.argmax(gmeans)\n",
    "print('Best Threshold=%f, G-Mean=%.3f' % (thresholds[ix], gmeans[ix]))"
   ]
  },
  {
   "cell_type": "code",
   "execution_count": 83,
   "id": "353a2cfd",
   "metadata": {},
   "outputs": [
    {
     "name": "stdout",
     "output_type": "stream",
     "text": [
      "0.8963376784605833\n"
     ]
    }
   ],
   "source": [
    "th_best = thresholds[ix]\n",
    "pred = (pr>0.5).astype(int) \n",
    "f1 = f1_score(pred, y_test1)\n",
    "print (f1)"
   ]
  },
  {
   "cell_type": "code",
   "execution_count": 84,
   "id": "bd2ed90a",
   "metadata": {},
   "outputs": [],
   "source": [
    "from sklearn.metrics import precision_recall_curve"
   ]
  },
  {
   "cell_type": "code",
   "execution_count": 108,
   "id": "e6e3903a",
   "metadata": {},
   "outputs": [],
   "source": [
    "precision, recall, thresholds = precision_recall_curve(y_test1, proba[:,1])"
   ]
  },
  {
   "cell_type": "code",
   "execution_count": 113,
   "id": "eeb5a9fe",
   "metadata": {},
   "outputs": [
    {
     "name": "stdout",
     "output_type": "stream",
     "text": [
      "Best Threshold=0.366618, F-Score=0.898\n"
     ]
    }
   ],
   "source": [
    "# convert to f score\n",
    "fscore = (2 * precision * recall) / (precision + recall)\n",
    "# locate the index of the largest f score\n",
    "ix = np.argmax(fscore)\n",
    "print('Best Threshold=%f, F-Score=%.3f' % (thresholds[ix], fscore[ix]))"
   ]
  },
  {
   "cell_type": "code",
   "execution_count": 114,
   "id": "cbb94dda",
   "metadata": {},
   "outputs": [
    {
     "data": {
      "text/plain": [
       "0.36661840228329057"
      ]
     },
     "execution_count": 114,
     "metadata": {},
     "output_type": "execute_result"
    }
   ],
   "source": [
    "th_best = thresholds[ix]\n",
    "th_best"
   ]
  },
  {
   "cell_type": "code",
   "execution_count": 110,
   "id": "5ba84a56",
   "metadata": {},
   "outputs": [
    {
     "data": {
      "text/plain": [
       "array([0.47115385, 0.47085456, 0.47112118, ..., 1.        , 1.        ,\n",
       "       1.        ])"
      ]
     },
     "execution_count": 110,
     "metadata": {},
     "output_type": "execute_result"
    }
   ],
   "source": [
    "precision"
   ]
  },
  {
   "cell_type": "code",
   "execution_count": 111,
   "id": "017eb221",
   "metadata": {},
   "outputs": [
    {
     "data": {
      "text/plain": [
       "array([0.64052288, 0.64      , 0.64024625, ..., 0.00479042, 0.00239808,\n",
       "       0.        ])"
      ]
     },
     "execution_count": 111,
     "metadata": {},
     "output_type": "execute_result"
    }
   ],
   "source": [
    "fscore"
   ]
  },
  {
   "cell_type": "code",
   "execution_count": 119,
   "id": "04f77f92",
   "metadata": {},
   "outputs": [
    {
     "name": "stdout",
     "output_type": "stream",
     "text": [
      "0.8970944309927361\n"
     ]
    }
   ],
   "source": [
    "pred = (proba[:,1]>th_best).astype(int) \n",
    "f1 = f1_score(y_test1, pred)\n",
    "print (f1)"
   ]
  },
  {
   "cell_type": "code",
   "execution_count": null,
   "id": "44b25c83",
   "metadata": {},
   "outputs": [],
   "source": []
  },
  {
   "cell_type": "code",
   "execution_count": 55,
   "id": "bbc50ea3",
   "metadata": {},
   "outputs": [],
   "source": [
    "pr = np.sum(proba, axis=1)/3."
   ]
  },
  {
   "cell_type": "code",
   "execution_count": 81,
   "id": "118ca79e",
   "metadata": {},
   "outputs": [
    {
     "name": "stdout",
     "output_type": "stream",
     "text": [
      "0.20921656469229497 0.8906976744186047\n",
      "0.4 0.8941896024464832\n",
      "0.45 0.8972772277227723\n",
      "0.5 0.8963376784605833\n",
      "0.55 0.89167188478397\n",
      "0.6 0.8900062853551225\n"
     ]
    }
   ],
   "source": [
    "for th in [th_best, 0.4, 0.45, 0.5, 0.55, 0.6]:\n",
    "    \n",
    "    pred = (pr>th).astype(int) \n",
    "    f1 = f1_score(pred, y_test1)\n",
    "    print (th, f1)"
   ]
  },
  {
   "cell_type": "code",
   "execution_count": 71,
   "id": "853b10dd",
   "metadata": {},
   "outputs": [],
   "source": [
    "from sklearn.metrics import roc_curve"
   ]
  },
  {
   "cell_type": "code",
   "execution_count": null,
   "id": "7979ab60",
   "metadata": {},
   "outputs": [],
   "source": [
    "fpr, tpr, thresholds = roc_curve(y_test1, y_pred)\n",
    "gmeans = sqrt(tpr * (1-fpr))\n",
    "ix = argmax(gmeans)\n",
    "print('Best Threshold=%f, G-Mean=%.3f' % (thresholds[ix], gmeans[ix]))"
   ]
  },
  {
   "cell_type": "code",
   "execution_count": null,
   "id": "81f4f947",
   "metadata": {},
   "outputs": [],
   "source": []
  },
  {
   "cell_type": "code",
   "execution_count": 45,
   "id": "a922ce12",
   "metadata": {},
   "outputs": [
    {
     "name": "stdout",
     "output_type": "stream",
     "text": [
      "Accuracy = 94.04% F1 Score= 89.62% \n",
      "Precision=92.91% Recall= 86.55%\n",
      "              precision    recall  f1-score   support\n",
      "\n",
      "           0       0.94      0.97      0.96      1967\n",
      "           1       0.93      0.87      0.90       833\n",
      "\n",
      "    accuracy                           0.94      2800\n",
      "   macro avg       0.94      0.92      0.93      2800\n",
      "weighted avg       0.94      0.94      0.94      2800\n",
      "\n"
     ]
    },
    {
     "data": {
      "image/png": "[encoded data removed]",
      "text/plain": [
       "<Figure size 576x360 with 1 Axes>"
      ]
     },
     "metadata": {
      "needs_background": "light"
     },
     "output_type": "display_data"
    },
    {
     "data": {
      "image/png": "[encoded data removed]",
      "text/plain": [
       "<Figure size 495.975x252 with 1 Axes>"
      ]
     },
     "metadata": {
      "needs_background": "light"
     },
     "output_type": "display_data"
    },
    {
     "data": {
      "image/png": "[encoded data removed]",
      "text/plain": [
       "<Figure size 432x288 with 1 Axes>"
      ]
     },
     "metadata": {
      "needs_background": "light"
     },
     "output_type": "display_data"
    }
   ],
   "source": [
    "lgbm = LGBMClassifier()\n",
    "mod = Model_training(lgbm,\n",
    "                     X_train1, y_train1, X_test1, y_test1,\n",
    "                     \"tmp\")\n",
    "\n",
    "mod_tr, _= mod.print_metrics()\n",
    "mod.feature_importance()\n",
    "mod.displot()\n",
    "mod.plot_roc_curve()"
   ]
  },
  {
   "cell_type": "code",
   "execution_count": null,
   "id": "8a31e4e3",
   "metadata": {},
   "outputs": [],
   "source": []
  },
  {
   "cell_type": "code",
   "execution_count": null,
   "id": "5ec6bf92",
   "metadata": {},
   "outputs": [],
   "source": []
  },
  {
   "cell_type": "code",
   "execution_count": 28,
   "id": "80d45715",
   "metadata": {},
   "outputs": [
    {
     "data": {
      "text/plain": [
       "['TRAN_AMT',\n",
       " 'ACCT_PRE_TRAN_AVAIL_BAL',\n",
       " 'CUST_AGE',\n",
       " 'OPEN_ACCT_CT',\n",
       " 'WF_dvc_age']"
      ]
     },
     "execution_count": 28,
     "metadata": {},
     "output_type": "execute_result"
    }
   ],
   "source": [
    "nume_cols2 = list(df_train0.select_dtypes(include=\"number\").columns)\n",
    "nume_cols2.remove('CUST_ZIP')   \n",
    "nume_cols2"
   ]
  },
  {
   "cell_type": "code",
   "execution_count": 29,
   "id": "b38bbf70",
   "metadata": {},
   "outputs": [
    {
     "data": {
      "text/plain": [
       "((11200, 5), (11200,), (2800, 5), (2800,))"
      ]
     },
     "execution_count": 29,
     "metadata": {},
     "output_type": "execute_result"
    }
   ],
   "source": [
    "X_train2, y_train2 = df1[nume_cols2], df1[\"FRAUD_NONFRAUD\"]\n",
    "X_test2,  y_test2  = df1_te[nume_cols2], df1_te[\"FRAUD_NONFRAUD\"]\n",
    "X_train2.shape, y_train2.shape, X_test2.shape, y_test2.shape"
   ]
  },
  {
   "cell_type": "code",
   "execution_count": null,
   "id": "9c36adef",
   "metadata": {},
   "outputs": [],
   "source": []
  },
  {
   "cell_type": "code",
   "execution_count": null,
   "id": "9c61a031",
   "metadata": {},
   "outputs": [],
   "source": []
  },
  {
   "cell_type": "code",
   "execution_count": 30,
   "id": "8018b3a1",
   "metadata": {},
   "outputs": [
    {
     "name": "stdout",
     "output_type": "stream",
     "text": [
      "0.9314285714285714 0.8799999999999999\n"
     ]
    }
   ],
   "source": [
    "lgbm = LGBMClassifier()\n",
    "lgbm.fit(X_train2, y_train2)\n",
    "y_pred = lgbm.predict(X_test2)\n",
    "ac = accuracy_score(y_test2, y_pred)\n",
    "f1 = f1_score(y_test2, y_pred)\n",
    "print (ac, f1)"
   ]
  },
  {
   "cell_type": "code",
   "execution_count": 27,
   "id": "a052bf4d",
   "metadata": {},
   "outputs": [
    {
     "name": "stdout",
     "output_type": "stream",
     "text": [
      "1.0 1.0\n"
     ]
    }
   ],
   "source": [
    "lgbm = LGBMClassifier()\n",
    "lgbm.fit(X_train1, y_train1)\n",
    "y_pred = lgbm.predict(X_test1)\n",
    "ac = accuracy_score(y_test1, y_pred)\n",
    "f1 = f1_score(y_test1, y_pred)\n",
    "print (ac, f1)"
   ]
  },
  {
   "cell_type": "code",
   "execution_count": 35,
   "id": "b1972de7",
   "metadata": {},
   "outputs": [
    {
     "data": {
      "text/plain": [
       "array([0.99997008, 0.99997008, 0.00001326, ..., 0.99997008, 0.00001326,\n",
       "       0.99997008])"
      ]
     },
     "execution_count": 35,
     "metadata": {},
     "output_type": "execute_result"
    }
   ],
   "source": [
    "lgbm = LGBMClassifier()\n",
    "lgbm.fit(X_train1, y_train1)\n",
    "pred = lgbm.predict(X_test1)\n",
    "proba = lgbm.predict_proba(X_test1)\n",
    "proba[:,1]"
   ]
  },
  {
   "cell_type": "code",
   "execution_count": 36,
   "id": "108cd9a1",
   "metadata": {},
   "outputs": [],
   "source": [
    "pr = lgbm.predict_proba(X_test1)\n",
    "pr_df = pd.DataFrame({'pred_0':pr[:,0], \n",
    "                      'pred_1':pr[:,1], \n",
    "                      'y': y_test1})"
   ]
  },
  {
   "cell_type": "code",
   "execution_count": 38,
   "id": "7abcf22a",
   "metadata": {},
   "outputs": [
    {
     "data": {
      "text/html": [
       "<div>\n",
       "<style scoped>\n",
       "    .dataframe tbody tr th:only-of-type {\n",
       "        vertical-align: middle;\n",
       "    }\n",
       "\n",
       "    .dataframe tbody tr th {\n",
       "        vertical-align: top;\n",
       "    }\n",
       "\n",
       "    .dataframe thead th {\n",
       "        text-align: right;\n",
       "    }\n",
       "</style>\n",
       "<table border=\"1\" class=\"dataframe\">\n",
       "  <thead>\n",
       "    <tr style=\"text-align: right;\">\n",
       "      <th></th>\n",
       "      <th>pred_0</th>\n",
       "      <th>pred_1</th>\n",
       "      <th>y</th>\n",
       "    </tr>\n",
       "  </thead>\n",
       "  <tbody>\n",
       "    <tr>\n",
       "      <th>3032</th>\n",
       "      <td>0.000030</td>\n",
       "      <td>0.999970</td>\n",
       "      <td>1</td>\n",
       "    </tr>\n",
       "    <tr>\n",
       "      <th>4838</th>\n",
       "      <td>0.000030</td>\n",
       "      <td>0.999970</td>\n",
       "      <td>1</td>\n",
       "    </tr>\n",
       "    <tr>\n",
       "      <th>7117</th>\n",
       "      <td>0.999987</td>\n",
       "      <td>0.000013</td>\n",
       "      <td>0</td>\n",
       "    </tr>\n",
       "    <tr>\n",
       "      <th>9795</th>\n",
       "      <td>0.000030</td>\n",
       "      <td>0.999970</td>\n",
       "      <td>1</td>\n",
       "    </tr>\n",
       "    <tr>\n",
       "      <th>5640</th>\n",
       "      <td>0.999987</td>\n",
       "      <td>0.000013</td>\n",
       "      <td>0</td>\n",
       "    </tr>\n",
       "    <tr>\n",
       "      <th>7216</th>\n",
       "      <td>0.999987</td>\n",
       "      <td>0.000013</td>\n",
       "      <td>0</td>\n",
       "    </tr>\n",
       "    <tr>\n",
       "      <th>7944</th>\n",
       "      <td>0.999987</td>\n",
       "      <td>0.000013</td>\n",
       "      <td>0</td>\n",
       "    </tr>\n",
       "    <tr>\n",
       "      <th>5358</th>\n",
       "      <td>0.000030</td>\n",
       "      <td>0.999970</td>\n",
       "      <td>1</td>\n",
       "    </tr>\n",
       "    <tr>\n",
       "      <th>3842</th>\n",
       "      <td>0.999987</td>\n",
       "      <td>0.000013</td>\n",
       "      <td>0</td>\n",
       "    </tr>\n",
       "    <tr>\n",
       "      <th>8635</th>\n",
       "      <td>0.999987</td>\n",
       "      <td>0.000013</td>\n",
       "      <td>0</td>\n",
       "    </tr>\n",
       "  </tbody>\n",
       "</table>\n",
       "</div>"
      ],
      "text/plain": [
       "        pred_0    pred_1  y\n",
       "3032  0.000030  0.999970  1\n",
       "4838  0.000030  0.999970  1\n",
       "7117  0.999987  0.000013  0\n",
       "9795  0.000030  0.999970  1\n",
       "5640  0.999987  0.000013  0\n",
       "7216  0.999987  0.000013  0\n",
       "7944  0.999987  0.000013  0\n",
       "5358  0.000030  0.999970  1\n",
       "3842  0.999987  0.000013  0\n",
       "8635  0.999987  0.000013  0"
      ]
     },
     "execution_count": 38,
     "metadata": {},
     "output_type": "execute_result"
    }
   ],
   "source": [
    "pr_df.head(10)"
   ]
  },
  {
   "cell_type": "code",
   "execution_count": 41,
   "id": "e38f2ce9",
   "metadata": {},
   "outputs": [
    {
     "data": {
      "image/png": "[encoded data removed]",
      "text/plain": [
       "<Figure size 402.375x360 with 1 Axes>"
      ]
     },
     "metadata": {
      "needs_background": "light"
     },
     "output_type": "display_data"
    }
   ],
   "source": [
    "ax=sns.displot(data=pr_df, \n",
    "               x='pred_1', \n",
    "               hue='y')"
   ]
  },
  {
   "cell_type": "code",
   "execution_count": null,
   "id": "fca11369",
   "metadata": {},
   "outputs": [],
   "source": []
  },
  {
   "cell_type": "code",
   "execution_count": 31,
   "id": "68fe7918",
   "metadata": {},
   "outputs": [
    {
     "name": "stdout",
     "output_type": "stream",
     "text": [
      "Accuracy = 93.14% F1 Score= 88.0% \n",
      "Precision=91.79% Recall= 84.51%\n",
      "              precision    recall  f1-score   support\n",
      "\n",
      "           0       0.94      0.97      0.95      1967\n",
      "           1       0.92      0.85      0.88       833\n",
      "\n",
      "    accuracy                           0.93      2800\n",
      "   macro avg       0.93      0.91      0.92      2800\n",
      "weighted avg       0.93      0.93      0.93      2800\n",
      "\n"
     ]
    },
    {
     "data": {
      "image/png": "[encoded data removed]",
      "text/plain": [
       "<Figure size 576x360 with 1 Axes>"
      ]
     },
     "metadata": {
      "needs_background": "light"
     },
     "output_type": "display_data"
    },
    {
     "data": {
      "image/png": "[encoded data removed]",
      "text/plain": [
       "<Figure size 495.975x252 with 1 Axes>"
      ]
     },
     "metadata": {
      "needs_background": "light"
     },
     "output_type": "display_data"
    },
    {
     "data": {
      "image/png": "[encoded data removed]",
      "text/plain": [
       "<Figure size 432x288 with 1 Axes>"
      ]
     },
     "metadata": {
      "needs_background": "light"
     },
     "output_type": "display_data"
    }
   ],
   "source": [
    "lgbm = LGBMClassifier()\n",
    "mod = Model_training(lgbm,\n",
    "                     X_train2, y_train2, X_test2, y_test2,\n",
    "                     \"tmp\")\n",
    "\n",
    "mod_tr, _= mod.print_metrics()\n",
    "mod.feature_importance()\n",
    "mod.displot()\n",
    "mod.plot_roc_curve()"
   ]
  },
  {
   "cell_type": "code",
   "execution_count": 19,
   "id": "5d15fce1",
   "metadata": {},
   "outputs": [
    {
     "name": "stdout",
     "output_type": "stream",
     "text": [
      "Accuracy = 100.0% F1 Score= 100.0% \n",
      "Precision=100.0% Recall= 100.0%\n",
      "              precision    recall  f1-score   support\n",
      "\n",
      "           0       1.00      1.00      1.00      1967\n",
      "           1       1.00      1.00      1.00       833\n",
      "\n",
      "    accuracy                           1.00      2800\n",
      "   macro avg       1.00      1.00      1.00      2800\n",
      "weighted avg       1.00      1.00      1.00      2800\n",
      "\n"
     ]
    },
    {
     "data": {
      "image/png": "[encoded data removed]",
      "text/plain": [
       "<Figure size 576x360 with 1 Axes>"
      ]
     },
     "metadata": {
      "needs_background": "light"
     },
     "output_type": "display_data"
    },
    {
     "data": {
      "image/png": "[encoded data removed]",
      "text/plain": [
       "<Figure size 495.975x252 with 1 Axes>"
      ]
     },
     "metadata": {
      "needs_background": "light"
     },
     "output_type": "display_data"
    },
    {
     "data": {
      "image/png": "[encoded data removed]",
      "text/plain": [
       "<Figure size 432x288 with 1 Axes>"
      ]
     },
     "metadata": {
      "needs_background": "light"
     },
     "output_type": "display_data"
    }
   ],
   "source": [
    "lgbm = LGBMClassifier()\n",
    "mod = Model_training(lgbm,\n",
    "                     X_train1, y_train1, X_test1, y_test1,\n",
    "                     \"tmp\")\n",
    "\n",
    "mod_tr, _= mod.print_metrics()\n",
    "mod.feature_importance()\n",
    "mod.displot()\n",
    "mod.plot_roc_curve()"
   ]
  },
  {
   "cell_type": "code",
   "execution_count": 26,
   "id": "ce559200",
   "metadata": {},
   "outputs": [
    {
     "name": "stdout",
     "output_type": "stream",
     "text": [
      "0.9787878787878788\n",
      "0.9794721407624633\n"
     ]
    }
   ],
   "source": [
    "# lightgbm for classification\n",
    "from sklearn.datasets import make_classification\n",
    "from lightgbm import LGBMClassifier\n",
    "X, y = make_classification(n_samples=1000, n_features=10,\n",
    "                           n_informative=5, n_redundant=5)\n",
    "\n",
    "X_train, X_test, y_train, y_test = train_test_split(X, y, test_size=0.33)\n",
    "\n",
    "\n",
    "model = LGBMClassifier()\n",
    "model.fit(X_train, y_train)\n",
    "y_pred = model.predict(X_test)\n",
    "print (accuracy_score(y_test, y_pred))\n",
    "print (f1_score(y_test, y_pred))"
   ]
  },
  {
   "cell_type": "code",
   "execution_count": 23,
   "id": "eb380907",
   "metadata": {},
   "outputs": [
    {
     "data": {
      "text/plain": [
       "array([[0.00200117, 0.99799883]])"
      ]
     },
     "execution_count": 23,
     "metadata": {},
     "output_type": "execute_result"
    }
   ],
   "source": [
    "#print('Prediction: %d' % yhat[0])\n",
    "model.predict_proba(row)"
   ]
  },
  {
   "cell_type": "code",
   "execution_count": null,
   "id": "8184f624",
   "metadata": {},
   "outputs": [],
   "source": []
  },
  {
   "cell_type": "code",
   "execution_count": null,
   "id": "9ab4750b",
   "metadata": {},
   "outputs": [],
   "source": [
    "rf = RandomForestClassifier(max_depth=2)\n",
    "mod = Model_training(rf,\n",
    "                     X_train1, y_train1, X_test1, y_test1,\n",
    "                     \"tmp\")\n",
    "\n",
    "mod_tr, _= mod.print_metrics()\n",
    "mod.feature_importance()"
   ]
  },
  {
   "cell_type": "code",
   "execution_count": null,
   "id": "534a3541",
   "metadata": {},
   "outputs": [],
   "source": [
    "model_rf_gs = GridSearchCV(RandomForestClassifier(),\n",
    "                           param_grid={'max_depth':[2,3]},\n",
    "                           scoring ='f1',\n",
    "                           verbose=1)\n",
    "\n",
    "mod = Model_training(model_rf_gs,\n",
    "                     X_train1, y_train1, X_test1, y_test1,\n",
    "                     \"tmp\")\n",
    "mod_tr, _= mod.print_metrics()\n",
    "print (\"Best parameters:\", mod_tr.best_params_)\n",
    "mod.displot()\n",
    "mod.plot_roc_curve()\n",
    "mod.feature_importance()"
   ]
  },
  {
   "cell_type": "code",
   "execution_count": null,
   "id": "246df9db",
   "metadata": {},
   "outputs": [],
   "source": [
    "model_rf_gs = GridSearchCV(RandomForestClassifier(),\n",
    "                           param_grid={'max_depth':[12, 13, 14, 15, 16, 17]},\n",
    "                           scoring ='f1',\n",
    "                           verbose=1)\n",
    "\n",
    "mod = Model_training(model_rf_gs,\n",
    "                     X_train1, y_train1, X_test1, y_test1,\n",
    "                     \"RF1\")\n",
    "mod_tr, _= mod.print_metrics()\n",
    "print (\"Best parameters:\", mod_tr.best_params_)\n",
    "mod.displot()\n",
    "mod.plot_roc_curve()\n",
    "mod.feature_importance()"
   ]
  },
  {
   "cell_type": "code",
   "execution_count": null,
   "id": "fc572560",
   "metadata": {},
   "outputs": [],
   "source": [
    "xgb_gs = GridSearchCV(XGBClassifier(),\n",
    "                      param_grid={'max_depth':[10, 11, 12, 13, 14],\n",
    "                                  'eval_metric' :[\"logloss\"],\n",
    "                                  'reg_alpha':[0.1, 0.5]},\n",
    "                      scoring = 'f1',\n",
    "                      verbose = 0)\n",
    "\n",
    "mod = Model_training(xgb_gs, X_train1, y_train1, X_test1, y_test1, \"xgb1\")\n",
    "mod_tr, _= mod.print_metrics()\n",
    "print (\"Best parameters:\", mod_tr.best_params_)\n",
    "mod.displot()\n",
    "mod.plot_roc_curve()\n",
    "mod.feature_importance()"
   ]
  },
  {
   "cell_type": "markdown",
   "id": "8d9560f4",
   "metadata": {},
   "source": [
    "## Modeling 2: Numerical features (Given + Engineered)"
   ]
  },
  {
   "cell_type": "code",
   "execution_count": null,
   "id": "a40699cb",
   "metadata": {},
   "outputs": [],
   "source": [
    "X_train2, y_train2 = df1[nume_cols], df1[\"FRAUD_NONFRAUD\"]\n",
    "X_test2,  y_test2  = df1_te[nume_cols], df1_te[\"FRAUD_NONFRAUD\"]\n",
    "X_train2.shape, y_train2.shape, X_test2.shape, y_test2.shape"
   ]
  },
  {
   "cell_type": "code",
   "execution_count": null,
   "id": "68acf646",
   "metadata": {},
   "outputs": [],
   "source": [
    "nume_cols.remove(\"RAND\")"
   ]
  },
  {
   "cell_type": "code",
   "execution_count": null,
   "id": "d18273d6",
   "metadata": {},
   "outputs": [],
   "source": [
    "X_train3, y_train3 = df1[nume_cols], df1[\"FRAUD_NONFRAUD\"]\n",
    "X_test3,  y_test3  = df1_te[nume_cols], df1_te[\"FRAUD_NONFRAUD\"]\n",
    "X_train3.shape, y_train3.shape, X_test3.shape, y_test3.shape"
   ]
  },
  {
   "cell_type": "code",
   "execution_count": null,
   "id": "02e59a60",
   "metadata": {},
   "outputs": [],
   "source": [
    "nume_cols"
   ]
  },
  {
   "cell_type": "code",
   "execution_count": null,
   "id": "5fff788e",
   "metadata": {},
   "outputs": [],
   "source": [
    "nume_cols2= ['TRAN_AMT', 'ACCT_PRE_TRAN_AVAIL_BAL',\n",
    "             'WF_dvc_age', 'PWD_UPDT_DAYS', 'PH_NUM_UPDT_DAYS']"
   ]
  },
  {
   "cell_type": "code",
   "execution_count": null,
   "id": "5cabaab5",
   "metadata": {},
   "outputs": [],
   "source": [
    "X_train4, y_train4 = df1[nume_cols2], df1[\"FRAUD_NONFRAUD\"]\n",
    "X_test4,  y_test4  = df1_te[nume_cols2], df1_te[\"FRAUD_NONFRAUD\"]\n",
    "X_train4.shape, y_train4.shape, X_test4.shape, y_test4.shape"
   ]
  },
  {
   "cell_type": "code",
   "execution_count": null,
   "id": "f11720bb",
   "metadata": {},
   "outputs": [],
   "source": [
    "X_train3.head(2)"
   ]
  },
  {
   "cell_type": "code",
   "execution_count": null,
   "id": "983a1619",
   "metadata": {},
   "outputs": [],
   "source": [
    "X_test3.head(2)"
   ]
  },
  {
   "cell_type": "code",
   "execution_count": null,
   "id": "98319043",
   "metadata": {},
   "outputs": [],
   "source": [
    "model_rf_gs = GridSearchCV(RandomForestClassifier(),\n",
    "                           param_grid={'max_depth':[12, 13, 14, 15, 16, 17]},\n",
    "                           scoring ='f1',\n",
    "                           verbose=1)\n",
    "\n",
    "mod = Model_training(model_rf_gs,\n",
    "                     X_train4, y_train4, X_test4, y_test4,\n",
    "                     \"RF_6\")\n",
    "mod_tr, _= mod.print_metrics()\n",
    "print (\"Grid Search Best Parameters\", mod_tr.best_params_)\n",
    "mod.displot()\n",
    "mod.plot_roc_curve()\n",
    "mod.feature_importance()"
   ]
  },
  {
   "cell_type": "code",
   "execution_count": null,
   "id": "41443039",
   "metadata": {},
   "outputs": [],
   "source": [
    "mod.model.best_score_"
   ]
  },
  {
   "cell_type": "code",
   "execution_count": null,
   "id": "a6ae898a",
   "metadata": {},
   "outputs": [],
   "source": [
    "model_rf_gs = GridSearchCV(RandomForestClassifier(),\n",
    "                           param_grid={'max_depth':[12, 13, 14, 15, 16, 17]},\n",
    "                           scoring ='f1',\n",
    "                           verbose=1)\n",
    "\n",
    "mod = Model_training(model_rf_gs,\n",
    "                     X_train3, y_train3, X_test3, y_test3,\n",
    "                     \"RF_5\")\n",
    "mod_tr, _= mod.print_metrics()\n",
    "print (\"Grid Search Best Parameters\", mod_tr.best_params_)\n",
    "mod.displot()\n",
    "mod.plot_roc_curve()\n",
    "mod.feature_importance()"
   ]
  },
  {
   "cell_type": "code",
   "execution_count": null,
   "id": "ceb684b3",
   "metadata": {
    "scrolled": false
   },
   "outputs": [],
   "source": [
    "model_rf_gs = GridSearchCV(RandomForestClassifier(),\n",
    "                           param_grid={'max_depth':[12, 13, 14, 15, 16, 17]},\n",
    "                           scoring ='f1',\n",
    "                           verbose=1)\n",
    "\n",
    "mod = Model_training(model_rf_gs,\n",
    "                      X_train2, y_train2, X_test2, y_test2,\n",
    "                      \"RF_4\")\n",
    "mod_tr, _= mod.print_metrics()\n",
    "print (\"Grid Search Best Parameters\", mod_tr.best_params_)\n",
    "mod.displot()\n",
    "mod.plot_roc_curve()\n",
    "mod.feature_importance()"
   ]
  },
  {
   "cell_type": "code",
   "execution_count": null,
   "id": "5534918f",
   "metadata": {},
   "outputs": [],
   "source": [
    "model_rf_gs = GridSearchCV(RandomForestClassifier(),\n",
    "                           param_grid={'max_depth':[12, 13, 14, 15, 16, 17]},\n",
    "                           scoring ='f1',\n",
    "                           verbose=1)\n",
    "\n",
    "mod = Model_training(model_rf_gs,\n",
    "                      X_train2, y_train2, X_test2, y_test2,\n",
    "                      \"RF_2\")\n",
    "mod_tr, _= mod.print_metrics()\n",
    "print (\"Grid Search Best Parameters\", mod_tr.best_params_)\n",
    "mod.displot()\n",
    "mod.plot_roc_curve()\n",
    "mod.feature_importance()"
   ]
  },
  {
   "cell_type": "code",
   "execution_count": null,
   "id": "acf039a7",
   "metadata": {},
   "outputs": [],
   "source": []
  },
  {
   "cell_type": "code",
   "execution_count": null,
   "id": "6a9c7d59",
   "metadata": {},
   "outputs": [],
   "source": [
    "xgb_gs = GridSearchCV(XGBClassifier(),\n",
    "                      param_grid={'max_depth':[8, 9, 10, 11, 12, 13, 14],\n",
    "                                  'eval_metric' :[\"logloss\"],\n",
    "                                  'reg_alpha':[0.1, 0.5]},\n",
    "                      scoring = 'f1',\n",
    "                      verbose = 0)\n",
    "\n",
    "mod = Model_training(xgb_gs, X_train2, y_train2, X_test2, y_test2, \"xgb2\")\n",
    "mod_tr, _= mod.print_metrics()\n",
    "print (\"Best parameters:\", mod_tr.best_params_)\n",
    "mod.displot()\n",
    "mod.plot_roc_curve()\n",
    "mod.feature_importance()"
   ]
  },
  {
   "cell_type": "code",
   "execution_count": null,
   "id": "088af791",
   "metadata": {
    "scrolled": false
   },
   "outputs": [],
   "source": [
    "xgb_gs = GridSearchCV(XGBClassifier(),\n",
    "                      param_grid={'max_depth':[8, 9, 10, 11, 12, 13, 14],\n",
    "                                  'eval_metric' :[\"logloss\"],\n",
    "                                  'reg_alpha':[0.1, 0.5]},\n",
    "                      scoring = 'f1',\n",
    "                      verbose = 0)\n",
    "\n",
    "mod = Model_training(xgb_gs, X_train2, y_train2, X_test2, y_test2, \"xgb2\")\n",
    "mod_tr, _= mod.print_metrics()\n",
    "print (\"Best parameters:\", mod_tr.best_params_)\n",
    "mod.displot()\n",
    "mod.plot_roc_curve()\n",
    "mod.feature_importance()"
   ]
  },
  {
   "cell_type": "markdown",
   "id": "fd025451",
   "metadata": {},
   "source": [
    "## Modeling 3: Numerical + Categorical features"
   ]
  },
  {
   "cell_type": "code",
   "execution_count": null,
   "id": "bc536426",
   "metadata": {},
   "outputs": [],
   "source": [
    "import category_encoders as ce"
   ]
  },
  {
   "cell_type": "code",
   "execution_count": null,
   "id": "f98a4d53",
   "metadata": {},
   "outputs": [],
   "source": [
    "df1.head(2)"
   ]
  },
  {
   "cell_type": "code",
   "execution_count": null,
   "id": "f64e858d",
   "metadata": {},
   "outputs": [],
   "source": [
    "df2 = df_train0.copy()\n",
    "df2[\"FRAUD_NONFRAUD\"] =  df2[\"FRAUD_NONFRAUD\"].map({\"Fraud\":1, \"Non-Fraud\":0})\n",
    "df2 = impute_data(df2)\n",
    "df2 = wrangle_column_data(df2)"
   ]
  },
  {
   "cell_type": "code",
   "execution_count": null,
   "id": "0b7d82ce",
   "metadata": {},
   "outputs": [],
   "source": [
    "cate_cols_to_keep = ['ALERT_TRGR_CD', \"CUST_STATE\"]"
   ]
  },
  {
   "cell_type": "code",
   "execution_count": null,
   "id": "0bf5a04e",
   "metadata": {},
   "outputs": [],
   "source": [
    "encoder = ce.OneHotEncoder()\n",
    "df2_tr_cat = encoder.fit_transform(df2[cate_cols_to_keep])\n",
    "df2_tr_join = pd.concat( [df2[nume_cols], df2_tr_cat], axis=1)\n",
    "X_train2 = df2_tr_join\n",
    "y_train2 = df2[\"FRAUD_NONFRAUD\"]"
   ]
  },
  {
   "cell_type": "code",
   "execution_count": null,
   "id": "136307da",
   "metadata": {},
   "outputs": [],
   "source": [
    "# test data\n",
    "df2_te = df_test0.copy()\n",
    "df2_te[\"FRAUD_NONFRAUD\"] = df2_te[\"FRAUD_NONFRAUD\"].map({\"Fraud\":1, \"Non-Fraud\":0})\n",
    "df2_te = impute_data(df2_te)\n",
    "df2_te = wrangle_column_data(df2_te)"
   ]
  },
  {
   "cell_type": "code",
   "execution_count": null,
   "id": "ebe5dccf",
   "metadata": {},
   "outputs": [],
   "source": [
    "df2_te_cat = encoder.transform(df2_te[cate_cols_to_keep])\n",
    "df2_te_join = pd.concat( [df2_te[nume_cols], df2_te_cat], axis=1)\n",
    "X_test2 = df2_te_join\n",
    "y_test2 = df2_te[\"FRAUD_NONFRAUD\"]"
   ]
  },
  {
   "cell_type": "code",
   "execution_count": null,
   "id": "f980de07",
   "metadata": {},
   "outputs": [],
   "source": [
    "X_train2.shape, y_train2.shape, X_test2.shape, y_test2.shape"
   ]
  },
  {
   "cell_type": "code",
   "execution_count": null,
   "id": "eb2f344e",
   "metadata": {},
   "outputs": [],
   "source": [
    "xgb = XGBClassifier(verbosity=1,\n",
    "                    max_depth=10,\n",
    "                    eval_metric = \"logloss\")\n",
    "\n",
    "mod6 = Model_training(xgb, X_train2, y_train2, X_test2, y_test2, \"XGBoost2\")\n",
    "mod_trained, _ = mod5.print_metrics()\n",
    "mod6.displot()\n",
    "mod6.plot_roc_curve()\n",
    "mod6.feature_importance()"
   ]
  },
  {
   "cell_type": "code",
   "execution_count": null,
   "id": "bcfc751f",
   "metadata": {},
   "outputs": [],
   "source": [
    "model_rf_gs = GridSearchCV(RandomForestClassifier(),\n",
    "                           param_grid={'max_depth':[10, 11, 12, 13, 14, 15]},\n",
    "                           scoring ='f1',\n",
    "                           verbose=1)\n",
    "\n",
    "mod7 = Model_training(model_rf_gs,\n",
    "                      X_train2, y_train2, X_test2, y_test2,\n",
    "                      \"Random_Forest_grid_search\")\n",
    "\n",
    "mod_tr, _= mod7.print_metrics()\n",
    "mod7.displot()\n",
    "mod7.plot_roc_curve()"
   ]
  },
  {
   "cell_type": "code",
   "execution_count": null,
   "id": "dee8ba5e",
   "metadata": {},
   "outputs": [],
   "source": [
    "mod_tr.best_params_"
   ]
  },
  {
   "cell_type": "markdown",
   "id": "c2b75126",
   "metadata": {},
   "source": [
    "remove ALERT_TRGR_CD from features"
   ]
  },
  {
   "cell_type": "code",
   "execution_count": null,
   "id": "c95b6368",
   "metadata": {},
   "outputs": [],
   "source": [
    "X_train2.head(1)"
   ]
  },
  {
   "cell_type": "code",
   "execution_count": null,
   "id": "8f674aef",
   "metadata": {},
   "outputs": [],
   "source": [
    "cols = [c for c in list(X_train2.columns) if c not in [\"ALERT_TRGR_CD_1\",\"ALERT_TRGR_CD_2\"]]\n",
    "cols"
   ]
  },
  {
   "cell_type": "code",
   "execution_count": null,
   "id": "58dee7b8",
   "metadata": {},
   "outputs": [],
   "source": [
    "X_train3 = X_train2[cols]\n",
    "X_test3  = X_test2[cols]\n",
    "y_train3 = y_train2\n",
    "y_test3  = y_test2"
   ]
  },
  {
   "cell_type": "code",
   "execution_count": null,
   "id": "28cdff79",
   "metadata": {},
   "outputs": [],
   "source": [
    "model_rf_gs = GridSearchCV(RandomForestClassifier(),\n",
    "                           param_grid={'max_depth':[11, 12, 13, 14, 15]},\n",
    "                           scoring ='f1',\n",
    "                           verbose=1)\n",
    "\n",
    "mod8 = Model_training(model_rf_gs,\n",
    "                      X_train3, y_train3, X_test3, y_test3,\n",
    "                      \"Random_Forest_grid_search\")\n",
    "\n",
    "mod_tr, _= mod8.print_metrics()\n",
    "mod8.displot()\n",
    "mod8.plot_roc_curve()"
   ]
  },
  {
   "cell_type": "code",
   "execution_count": null,
   "id": "40e4749a",
   "metadata": {},
   "outputs": [],
   "source": [
    "from sklearn.svm import SVC"
   ]
  },
  {
   "cell_type": "code",
   "execution_count": null,
   "id": "82d5fd83",
   "metadata": {
    "scrolled": false
   },
   "outputs": [],
   "source": [
    "svm = SVC(gamma='auto')\n",
    "mod = Model_training(xgb_gs, X_train1, y_train1, X_test1, y_test1)\n",
    "mod_tr, _= mod.print_metrics()\n",
    "mod.displot()"
   ]
  },
  {
   "cell_type": "code",
   "execution_count": null,
   "id": "aab9a84a",
   "metadata": {},
   "outputs": [],
   "source": [
    "def train_svm_gs():\n",
    "    svm_gs = GridSearchCV(SVC(),\n",
    "                          param_grid={'C':[0.1, 0.5, 1.0],\n",
    "                                      'kernel':['poly', 'rbf'],\n",
    "                                      'gamma': ['scale', 'auto']},\n",
    "                          scoring = 'f1',\n",
    "                          verbose = 1 )\n",
    "    \n",
    "    mod = Model_training(svm_gs, X_train1, y_train1, X_test1, y_test1)\n",
    "    mod_tr, _= mod.print_metrics()\n",
    "    mod.displot()\n",
    "    \n",
    "#this takes a little long time so think before running\n",
    "#train_svm_gs()"
   ]
  },
  {
   "cell_type": "markdown",
   "id": "77e76a46",
   "metadata": {},
   "source": [
    "## Voting Classifier"
   ]
  },
  {
   "cell_type": "code",
   "execution_count": null,
   "id": "41739cd3",
   "metadata": {},
   "outputs": [],
   "source": [
    "#clf1 = LogisticRegression(multi_class='multinomial', random_state=1)\n",
    "\n",
    "clf2 = RandomForestClassifier(max_depth=10,\n",
    "                              random_state=8848)\n",
    "\n",
    "clf3 = XGBClassifier(verbosity=1,\n",
    "                    max_depth=13,\n",
    "                    eval_metric = \"logloss\")\n",
    "\n",
    "clf_voting = VotingClassifier(\n",
    "    estimators=[('rf', clf2), ('xgb', clf3)],\n",
    "    voting='soft')"
   ]
  },
  {
   "cell_type": "code",
   "execution_count": null,
   "id": "00b51290",
   "metadata": {},
   "outputs": [],
   "source": [
    "mod8 = Model_training(clf_voting, X_train1, y_train1, X_test1, y_test1, \"Voting Classifier\")\n",
    "mod_tr, _= mod8.print_metrics()\n",
    "mod8.displot()\n",
    "mod8.plot_roc_curve()\n",
    "#mod8.feature_importance()"
   ]
  },
  {
   "cell_type": "code",
   "execution_count": null,
   "id": "8ab69868",
   "metadata": {},
   "outputs": [],
   "source": []
  },
  {
   "cell_type": "code",
   "execution_count": null,
   "id": "3838447b",
   "metadata": {},
   "outputs": [],
   "source": []
  },
  {
   "cell_type": "code",
   "execution_count": null,
   "id": "54946c2b",
   "metadata": {},
   "outputs": [],
   "source": []
  },
  {
   "cell_type": "code",
   "execution_count": null,
   "id": "881fde86",
   "metadata": {},
   "outputs": [],
   "source": []
  },
  {
   "cell_type": "code",
   "execution_count": null,
   "id": "9ee53975",
   "metadata": {},
   "outputs": [],
   "source": []
  }
 ],
 "metadata": {
  "kernelspec": {
   "display_name": "Python 3",
   "language": "python",
   "name": "python3"
  },
  "language_info": {
   "codemirror_mode": {
    "name": "ipython",
    "version": 3
   },
   "file_extension": ".py",
   "mimetype": "text/x-python",
   "name": "python",
   "nbconvert_exporter": "python",
   "pygments_lexer": "ipython3",
   "version": "3.9.5"
  }
 },
 "nbformat": 4,
 "nbformat_minor": 5
}
