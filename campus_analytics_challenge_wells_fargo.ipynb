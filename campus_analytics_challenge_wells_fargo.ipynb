{
 "cells": [
  {
   "cell_type": "markdown",
   "id": "5a5fdfb3",
   "metadata": {},
   "source": [
    "# Wells Fargo Challenge\n",
    "\n",
    "- https://www.mindsumo.com/contests/campus-analytics-challenge-2021\n",
    "\n",
    "### To Complete a Submission:\n",
    "\n",
    "Build a classification model for predicting elder fraud in the digital payments space as described in Rule 4, which:\n",
    "\n",
    "- Handles missing variables\n",
    "- Maximizes the F1 score\n",
    "- Uses the given data set\n",
    "- Includes suitable encoding schemes\n",
    "- Has the least set of feature variables\n",
    "\n",
    "### Resources\n",
    "- https://github.com/pdglenn/WellsFargoAnalyticsChallenge"
   ]
  },
  {
   "cell_type": "code",
   "execution_count": 1,
   "id": "69046927",
   "metadata": {},
   "outputs": [],
   "source": [
    "import pandas as pd\n",
    "import numpy as np\n",
    "import pylab as plt\n",
    "import seaborn as sns\n",
    "\n",
    "data_dir = \"./dataset/\"\n",
    "\n",
    "# following few lines are to supress the pandas warnings\n",
    "import warnings\n",
    "warnings.simplefilter(action='ignore', category=FutureWarning)\n",
    "warnings.simplefilter(action='ignore', category=UserWarning)\n",
    "\n",
    "pd.options.mode.chained_assignment = None \n",
    "pd.options.display.max_columns = 100\n",
    "np.set_printoptions(suppress=True) \n"
   ]
  },
  {
   "cell_type": "markdown",
   "id": "e9833041",
   "metadata": {},
   "source": [
    "## Loading the data\n",
    "\n",
    "**Note** `pd.read_excel` gave me an errow while reading the `xlsx` file so had to install `openpyxl` using `pip3 install openpyxl` and give `engine=openpyxl` as an extra arguement."
   ]
  },
  {
   "cell_type": "code",
   "execution_count": 2,
   "id": "cbcd0cab",
   "metadata": {},
   "outputs": [],
   "source": [
    "#!pip3 install openpyxl"
   ]
  },
  {
   "cell_type": "code",
   "execution_count": 3,
   "id": "8a179eb2",
   "metadata": {},
   "outputs": [
    {
     "data": {
      "text/html": [
       "<div>\n",
       "<style scoped>\n",
       "    .dataframe tbody tr th:only-of-type {\n",
       "        vertical-align: middle;\n",
       "    }\n",
       "\n",
       "    .dataframe tbody tr th {\n",
       "        vertical-align: top;\n",
       "    }\n",
       "\n",
       "    .dataframe thead th {\n",
       "        text-align: right;\n",
       "    }\n",
       "</style>\n",
       "<table border=\"1\" class=\"dataframe\">\n",
       "  <thead>\n",
       "    <tr style=\"text-align: right;\">\n",
       "      <th></th>\n",
       "      <th>TRAN_AMT</th>\n",
       "      <th>ACCT_PRE_TRAN_AVAIL_BAL</th>\n",
       "      <th>CUST_AGE</th>\n",
       "      <th>OPEN_ACCT_CT</th>\n",
       "      <th>WF_dvc_age</th>\n",
       "      <th>PWD_UPDT_TS</th>\n",
       "      <th>CARR_NAME</th>\n",
       "      <th>RGN_NAME</th>\n",
       "      <th>STATE_PRVNC_TXT</th>\n",
       "      <th>ALERT_TRGR_CD</th>\n",
       "      <th>DVC_TYPE_TXT</th>\n",
       "      <th>AUTHC_PRIM_TYPE_CD</th>\n",
       "      <th>AUTHC_SCNDRY_STAT_TXT</th>\n",
       "      <th>CUST_ZIP</th>\n",
       "      <th>CUST_STATE</th>\n",
       "      <th>PH_NUM_UPDT_TS</th>\n",
       "      <th>CUST_SINCE_DT</th>\n",
       "      <th>TRAN_TS</th>\n",
       "      <th>TRAN_DT</th>\n",
       "      <th>ACTN_CD</th>\n",
       "      <th>ACTN_INTNL_TXT</th>\n",
       "      <th>TRAN_TYPE_CD</th>\n",
       "      <th>ACTVY_DT</th>\n",
       "      <th>FRAUD_NONFRAUD</th>\n",
       "    </tr>\n",
       "  </thead>\n",
       "  <tbody>\n",
       "    <tr>\n",
       "      <th>0</th>\n",
       "      <td>5.38</td>\n",
       "      <td>23619.91</td>\n",
       "      <td>47</td>\n",
       "      <td>4</td>\n",
       "      <td>2777</td>\n",
       "      <td>1/16/2018 11:3:58</td>\n",
       "      <td>cox communications inc.</td>\n",
       "      <td>southwest</td>\n",
       "      <td>nevada</td>\n",
       "      <td>MOBL</td>\n",
       "      <td>NaN</td>\n",
       "      <td>UN_PWD</td>\n",
       "      <td>ALLOW</td>\n",
       "      <td>89002</td>\n",
       "      <td>NV</td>\n",
       "      <td>2/24/2021 15:55:10</td>\n",
       "      <td>1993-01-06</td>\n",
       "      <td>5/3/2021 18:3:58</td>\n",
       "      <td>5/3/2021</td>\n",
       "      <td>SCHPMT</td>\n",
       "      <td>P2P_COMMIT</td>\n",
       "      <td>P2P</td>\n",
       "      <td>5/3/2021</td>\n",
       "      <td>Non-Fraud</td>\n",
       "    </tr>\n",
       "    <tr>\n",
       "      <th>1</th>\n",
       "      <td>65.19</td>\n",
       "      <td>0.00</td>\n",
       "      <td>45</td>\n",
       "      <td>5</td>\n",
       "      <td>2721</td>\n",
       "      <td>NaN</td>\n",
       "      <td>charter communications</td>\n",
       "      <td>southwest</td>\n",
       "      <td>california</td>\n",
       "      <td>MOBL</td>\n",
       "      <td>NaN</td>\n",
       "      <td>FACE_ID</td>\n",
       "      <td>ALLOW</td>\n",
       "      <td>94541</td>\n",
       "      <td>CA</td>\n",
       "      <td>NaN</td>\n",
       "      <td>1971-01-07</td>\n",
       "      <td>1/13/2021 19:19:37</td>\n",
       "      <td>1/13/2021</td>\n",
       "      <td>SCHPMT</td>\n",
       "      <td>P2P_COMMIT</td>\n",
       "      <td>P2P</td>\n",
       "      <td>1/13/2021</td>\n",
       "      <td>Non-Fraud</td>\n",
       "    </tr>\n",
       "  </tbody>\n",
       "</table>\n",
       "</div>"
      ],
      "text/plain": [
       "   TRAN_AMT  ACCT_PRE_TRAN_AVAIL_BAL  CUST_AGE  OPEN_ACCT_CT  WF_dvc_age  \\\n",
       "0      5.38                 23619.91        47             4        2777   \n",
       "1     65.19                     0.00        45             5        2721   \n",
       "\n",
       "         PWD_UPDT_TS                CARR_NAME   RGN_NAME STATE_PRVNC_TXT  \\\n",
       "0  1/16/2018 11:3:58  cox communications inc.  southwest          nevada   \n",
       "1                NaN   charter communications  southwest      california   \n",
       "\n",
       "  ALERT_TRGR_CD DVC_TYPE_TXT AUTHC_PRIM_TYPE_CD AUTHC_SCNDRY_STAT_TXT  \\\n",
       "0          MOBL          NaN             UN_PWD                 ALLOW   \n",
       "1          MOBL          NaN            FACE_ID                 ALLOW   \n",
       "\n",
       "   CUST_ZIP CUST_STATE      PH_NUM_UPDT_TS CUST_SINCE_DT             TRAN_TS  \\\n",
       "0     89002         NV  2/24/2021 15:55:10    1993-01-06    5/3/2021 18:3:58   \n",
       "1     94541         CA                 NaN    1971-01-07  1/13/2021 19:19:37   \n",
       "\n",
       "     TRAN_DT ACTN_CD ACTN_INTNL_TXT TRAN_TYPE_CD   ACTVY_DT FRAUD_NONFRAUD  \n",
       "0   5/3/2021  SCHPMT     P2P_COMMIT          P2P   5/3/2021      Non-Fraud  \n",
       "1  1/13/2021  SCHPMT     P2P_COMMIT          P2P  1/13/2021      Non-Fraud  "
      ]
     },
     "execution_count": 3,
     "metadata": {},
     "output_type": "execute_result"
    }
   ],
   "source": [
    "# load the file\n",
    "df_orig = pd.read_excel(data_dir+\"trainset.xlsx\", engine='openpyxl')\n",
    "df_orig.head(2)"
   ]
  },
  {
   "cell_type": "code",
   "execution_count": 4,
   "id": "878d2fec",
   "metadata": {},
   "outputs": [
    {
     "name": "stdout",
     "output_type": "stream",
     "text": [
      "Original data shape: (14000, 24)\n"
     ]
    }
   ],
   "source": [
    "print (\"Original data shape:\", df_orig.shape)"
   ]
  },
  {
   "cell_type": "code",
   "execution_count": 5,
   "id": "0f00fc73",
   "metadata": {
    "scrolled": false
   },
   "outputs": [
    {
     "name": "stdout",
     "output_type": "stream",
     "text": [
      "<class 'pandas.core.frame.DataFrame'>\n",
      "RangeIndex: 14000 entries, 0 to 13999\n",
      "Data columns (total 24 columns):\n",
      " #   Column                   Non-Null Count  Dtype         \n",
      "---  ------                   --------------  -----         \n",
      " 0   TRAN_AMT                 14000 non-null  float64       \n",
      " 1   ACCT_PRE_TRAN_AVAIL_BAL  14000 non-null  float64       \n",
      " 2   CUST_AGE                 14000 non-null  int64         \n",
      " 3   OPEN_ACCT_CT             14000 non-null  int64         \n",
      " 4   WF_dvc_age               14000 non-null  int64         \n",
      " 5   PWD_UPDT_TS              10875 non-null  object        \n",
      " 6   CARR_NAME                11291 non-null  object        \n",
      " 7   RGN_NAME                 11291 non-null  object        \n",
      " 8   STATE_PRVNC_TXT          11291 non-null  object        \n",
      " 9   ALERT_TRGR_CD            14000 non-null  object        \n",
      " 10  DVC_TYPE_TXT             12239 non-null  object        \n",
      " 11  AUTHC_PRIM_TYPE_CD       14000 non-null  object        \n",
      " 12  AUTHC_SCNDRY_STAT_TXT    13926 non-null  object        \n",
      " 13  CUST_ZIP                 14000 non-null  int64         \n",
      " 14  CUST_STATE               13964 non-null  object        \n",
      " 15  PH_NUM_UPDT_TS           6939 non-null   object        \n",
      " 16  CUST_SINCE_DT            14000 non-null  datetime64[ns]\n",
      " 17  TRAN_TS                  14000 non-null  object        \n",
      " 18  TRAN_DT                  14000 non-null  object        \n",
      " 19  ACTN_CD                  14000 non-null  object        \n",
      " 20  ACTN_INTNL_TXT           14000 non-null  object        \n",
      " 21  TRAN_TYPE_CD             14000 non-null  object        \n",
      " 22  ACTVY_DT                 14000 non-null  object        \n",
      " 23  FRAUD_NONFRAUD           14000 non-null  object        \n",
      "dtypes: datetime64[ns](1), float64(2), int64(4), object(17)\n",
      "memory usage: 2.6+ MB\n"
     ]
    }
   ],
   "source": [
    "#information of the dataset\n",
    "df_orig.info()"
   ]
  },
  {
   "cell_type": "code",
   "execution_count": 6,
   "id": "c0c13d07",
   "metadata": {},
   "outputs": [
    {
     "data": {
      "text/plain": [
       "array(['Non-Fraud', 'Fraud'], dtype=object)"
      ]
     },
     "execution_count": 6,
     "metadata": {},
     "output_type": "execute_result"
    }
   ],
   "source": [
    "# check the target classes\n",
    "df_orig[\"FRAUD_NONFRAUD\"].unique()"
   ]
  },
  {
   "cell_type": "markdown",
   "id": "e5c34a9f",
   "metadata": {},
   "source": [
    "## Train test split\n",
    "\n",
    "Before doing any data visualization let's set some test data aside and use them to score the model later on."
   ]
  },
  {
   "cell_type": "code",
   "execution_count": 7,
   "id": "b8681d93",
   "metadata": {},
   "outputs": [],
   "source": [
    "from sklearn.model_selection import train_test_split\n",
    "from sklearn.preprocessing import StandardScaler\n",
    "\n",
    "# stratify the target column so that the distribution look similar in the train and test data\n",
    "df_train0, df_test0 = train_test_split(df_orig,\n",
    "                               test_size = .2,\n",
    "                               random_state = 8848,\n",
    "                               shuffle = True,\n",
    "                               stratify = df_orig[\"FRAUD_NONFRAUD\"])"
   ]
  },
  {
   "cell_type": "code",
   "execution_count": 8,
   "id": "a1a5ee18",
   "metadata": {},
   "outputs": [],
   "source": [
    "df = df_train0.copy()"
   ]
  },
  {
   "cell_type": "code",
   "execution_count": 9,
   "id": "187e2b92",
   "metadata": {},
   "outputs": [
    {
     "data": {
      "text/html": [
       "<div>\n",
       "<style scoped>\n",
       "    .dataframe tbody tr th:only-of-type {\n",
       "        vertical-align: middle;\n",
       "    }\n",
       "\n",
       "    .dataframe tbody tr th {\n",
       "        vertical-align: top;\n",
       "    }\n",
       "\n",
       "    .dataframe thead th {\n",
       "        text-align: right;\n",
       "    }\n",
       "</style>\n",
       "<table border=\"1\" class=\"dataframe\">\n",
       "  <thead>\n",
       "    <tr style=\"text-align: right;\">\n",
       "      <th></th>\n",
       "      <th>TRAN_AMT</th>\n",
       "      <th>ACCT_PRE_TRAN_AVAIL_BAL</th>\n",
       "      <th>CUST_AGE</th>\n",
       "      <th>OPEN_ACCT_CT</th>\n",
       "      <th>WF_dvc_age</th>\n",
       "      <th>PWD_UPDT_TS</th>\n",
       "      <th>CARR_NAME</th>\n",
       "      <th>RGN_NAME</th>\n",
       "      <th>STATE_PRVNC_TXT</th>\n",
       "      <th>ALERT_TRGR_CD</th>\n",
       "      <th>DVC_TYPE_TXT</th>\n",
       "      <th>AUTHC_PRIM_TYPE_CD</th>\n",
       "      <th>AUTHC_SCNDRY_STAT_TXT</th>\n",
       "      <th>CUST_ZIP</th>\n",
       "      <th>CUST_STATE</th>\n",
       "      <th>PH_NUM_UPDT_TS</th>\n",
       "      <th>CUST_SINCE_DT</th>\n",
       "      <th>TRAN_TS</th>\n",
       "      <th>TRAN_DT</th>\n",
       "      <th>ACTN_CD</th>\n",
       "      <th>ACTN_INTNL_TXT</th>\n",
       "      <th>TRAN_TYPE_CD</th>\n",
       "      <th>ACTVY_DT</th>\n",
       "      <th>FRAUD_NONFRAUD</th>\n",
       "    </tr>\n",
       "  </thead>\n",
       "  <tbody>\n",
       "    <tr>\n",
       "      <th>2413</th>\n",
       "      <td>487.93</td>\n",
       "      <td>3714.91</td>\n",
       "      <td>43</td>\n",
       "      <td>5</td>\n",
       "      <td>1037</td>\n",
       "      <td>NaN</td>\n",
       "      <td>NaN</td>\n",
       "      <td>NaN</td>\n",
       "      <td>NaN</td>\n",
       "      <td>MOBL</td>\n",
       "      <td>NaN</td>\n",
       "      <td>UN_PWD</td>\n",
       "      <td>ALLOW</td>\n",
       "      <td>80234</td>\n",
       "      <td>CO</td>\n",
       "      <td>5/0/2020 12:33:41</td>\n",
       "      <td>1988-01-11</td>\n",
       "      <td>4/13/2021 5:2:29</td>\n",
       "      <td>4/13/2021</td>\n",
       "      <td>SCHPMT</td>\n",
       "      <td>P2P_COMMIT</td>\n",
       "      <td>P2P</td>\n",
       "      <td>4/13/2021</td>\n",
       "      <td>Fraud</td>\n",
       "    </tr>\n",
       "    <tr>\n",
       "      <th>1003</th>\n",
       "      <td>4.84</td>\n",
       "      <td>0.00</td>\n",
       "      <td>53</td>\n",
       "      <td>5</td>\n",
       "      <td>305</td>\n",
       "      <td>4/12/2017 15:54:53</td>\n",
       "      <td>NaN</td>\n",
       "      <td>NaN</td>\n",
       "      <td>NaN</td>\n",
       "      <td>MOBL</td>\n",
       "      <td>MOBILE</td>\n",
       "      <td>AFA_PL</td>\n",
       "      <td>ALLOW</td>\n",
       "      <td>75232</td>\n",
       "      <td>TX</td>\n",
       "      <td>NaN</td>\n",
       "      <td>1987-04-05</td>\n",
       "      <td>4/29/2021 22:54:53</td>\n",
       "      <td>4/29/2021</td>\n",
       "      <td>SCHPMT</td>\n",
       "      <td>P2P_COMMIT</td>\n",
       "      <td>P2P</td>\n",
       "      <td>4/29/2021</td>\n",
       "      <td>Non-Fraud</td>\n",
       "    </tr>\n",
       "  </tbody>\n",
       "</table>\n",
       "</div>"
      ],
      "text/plain": [
       "      TRAN_AMT  ACCT_PRE_TRAN_AVAIL_BAL  CUST_AGE  OPEN_ACCT_CT  WF_dvc_age  \\\n",
       "2413    487.93                  3714.91        43             5        1037   \n",
       "1003      4.84                     0.00        53             5         305   \n",
       "\n",
       "             PWD_UPDT_TS CARR_NAME RGN_NAME STATE_PRVNC_TXT ALERT_TRGR_CD  \\\n",
       "2413                 NaN       NaN      NaN             NaN          MOBL   \n",
       "1003  4/12/2017 15:54:53       NaN      NaN             NaN          MOBL   \n",
       "\n",
       "     DVC_TYPE_TXT AUTHC_PRIM_TYPE_CD AUTHC_SCNDRY_STAT_TXT  CUST_ZIP  \\\n",
       "2413          NaN             UN_PWD                 ALLOW     80234   \n",
       "1003       MOBILE             AFA_PL                 ALLOW     75232   \n",
       "\n",
       "     CUST_STATE     PH_NUM_UPDT_TS CUST_SINCE_DT             TRAN_TS  \\\n",
       "2413         CO  5/0/2020 12:33:41    1988-01-11    4/13/2021 5:2:29   \n",
       "1003         TX                NaN    1987-04-05  4/29/2021 22:54:53   \n",
       "\n",
       "        TRAN_DT ACTN_CD ACTN_INTNL_TXT TRAN_TYPE_CD   ACTVY_DT FRAUD_NONFRAUD  \n",
       "2413  4/13/2021  SCHPMT     P2P_COMMIT          P2P  4/13/2021          Fraud  \n",
       "1003  4/29/2021  SCHPMT     P2P_COMMIT          P2P  4/29/2021      Non-Fraud  "
      ]
     },
     "execution_count": 9,
     "metadata": {},
     "output_type": "execute_result"
    }
   ],
   "source": [
    "df.head(2)"
   ]
  },
  {
   "cell_type": "code",
   "execution_count": 10,
   "id": "433af641",
   "metadata": {},
   "outputs": [
    {
     "name": "stdout",
     "output_type": "stream",
     "text": [
      "<class 'pandas.core.frame.DataFrame'>\n",
      "Int64Index: 11200 entries, 2413 to 114\n",
      "Data columns (total 24 columns):\n",
      " #   Column                   Non-Null Count  Dtype         \n",
      "---  ------                   --------------  -----         \n",
      " 0   TRAN_AMT                 11200 non-null  float64       \n",
      " 1   ACCT_PRE_TRAN_AVAIL_BAL  11200 non-null  float64       \n",
      " 2   CUST_AGE                 11200 non-null  int64         \n",
      " 3   OPEN_ACCT_CT             11200 non-null  int64         \n",
      " 4   WF_dvc_age               11200 non-null  int64         \n",
      " 5   PWD_UPDT_TS              8684 non-null   object        \n",
      " 6   CARR_NAME                9022 non-null   object        \n",
      " 7   RGN_NAME                 9022 non-null   object        \n",
      " 8   STATE_PRVNC_TXT          9022 non-null   object        \n",
      " 9   ALERT_TRGR_CD            11200 non-null  object        \n",
      " 10  DVC_TYPE_TXT             9805 non-null   object        \n",
      " 11  AUTHC_PRIM_TYPE_CD       11200 non-null  object        \n",
      " 12  AUTHC_SCNDRY_STAT_TXT    11140 non-null  object        \n",
      " 13  CUST_ZIP                 11200 non-null  int64         \n",
      " 14  CUST_STATE               11172 non-null  object        \n",
      " 15  PH_NUM_UPDT_TS           5579 non-null   object        \n",
      " 16  CUST_SINCE_DT            11200 non-null  datetime64[ns]\n",
      " 17  TRAN_TS                  11200 non-null  object        \n",
      " 18  TRAN_DT                  11200 non-null  object        \n",
      " 19  ACTN_CD                  11200 non-null  object        \n",
      " 20  ACTN_INTNL_TXT           11200 non-null  object        \n",
      " 21  TRAN_TYPE_CD             11200 non-null  object        \n",
      " 22  ACTVY_DT                 11200 non-null  object        \n",
      " 23  FRAUD_NONFRAUD           11200 non-null  object        \n",
      "dtypes: datetime64[ns](1), float64(2), int64(4), object(17)\n",
      "memory usage: 2.1+ MB\n"
     ]
    }
   ],
   "source": [
    "df.info()"
   ]
  },
  {
   "cell_type": "code",
   "execution_count": 11,
   "id": "63c553b8",
   "metadata": {},
   "outputs": [
    {
     "data": {
      "text/plain": [
       "(11200, 24)"
      ]
     },
     "execution_count": 11,
     "metadata": {},
     "output_type": "execute_result"
    }
   ],
   "source": [
    "df.shape"
   ]
  },
  {
   "cell_type": "code",
   "execution_count": 12,
   "id": "403f3288",
   "metadata": {},
   "outputs": [],
   "source": [
    "# find numerical and categorical columns\n",
    "nume_cols = list(df.select_dtypes(include=\"number\").columns)\n",
    "cate_cols = list(df.select_dtypes(exclude=\"number\").columns)\n",
    "cate_cols.remove('FRAUD_NONFRAUD')"
   ]
  },
  {
   "cell_type": "code",
   "execution_count": 13,
   "id": "6090d649",
   "metadata": {},
   "outputs": [
    {
     "name": "stdout",
     "output_type": "stream",
     "text": [
      "Numeric Columns:\n",
      " ['TRAN_AMT', 'ACCT_PRE_TRAN_AVAIL_BAL', 'CUST_AGE', 'OPEN_ACCT_CT', 'WF_dvc_age', 'CUST_ZIP']\n",
      "\n",
      "Categorical Columns:\n",
      " ['PWD_UPDT_TS', 'CARR_NAME', 'RGN_NAME', 'STATE_PRVNC_TXT', 'ALERT_TRGR_CD', 'DVC_TYPE_TXT', 'AUTHC_PRIM_TYPE_CD', 'AUTHC_SCNDRY_STAT_TXT', 'CUST_STATE', 'PH_NUM_UPDT_TS', 'CUST_SINCE_DT', 'TRAN_TS', 'TRAN_DT', 'ACTN_CD', 'ACTN_INTNL_TXT', 'TRAN_TYPE_CD', 'ACTVY_DT']\n"
     ]
    }
   ],
   "source": [
    "print (\"Numeric Columns:\\n\", nume_cols)\n",
    "print (\"\")\n",
    "print (\"Categorical Columns:\\n\", cate_cols)"
   ]
  },
  {
   "cell_type": "code",
   "execution_count": 14,
   "id": "389fd007",
   "metadata": {},
   "outputs": [
    {
     "data": {
      "text/html": [
       "<div>\n",
       "<style scoped>\n",
       "    .dataframe tbody tr th:only-of-type {\n",
       "        vertical-align: middle;\n",
       "    }\n",
       "\n",
       "    .dataframe tbody tr th {\n",
       "        vertical-align: top;\n",
       "    }\n",
       "\n",
       "    .dataframe thead th {\n",
       "        text-align: right;\n",
       "    }\n",
       "</style>\n",
       "<table border=\"1\" class=\"dataframe\">\n",
       "  <thead>\n",
       "    <tr style=\"text-align: right;\">\n",
       "      <th></th>\n",
       "      <th>TRAN_AMT</th>\n",
       "      <th>ACCT_PRE_TRAN_AVAIL_BAL</th>\n",
       "      <th>CUST_AGE</th>\n",
       "      <th>OPEN_ACCT_CT</th>\n",
       "      <th>WF_dvc_age</th>\n",
       "      <th>CUST_ZIP</th>\n",
       "    </tr>\n",
       "  </thead>\n",
       "  <tbody>\n",
       "    <tr>\n",
       "      <th>2413</th>\n",
       "      <td>487.93</td>\n",
       "      <td>3714.91</td>\n",
       "      <td>43</td>\n",
       "      <td>5</td>\n",
       "      <td>1037</td>\n",
       "      <td>80234</td>\n",
       "    </tr>\n",
       "    <tr>\n",
       "      <th>1003</th>\n",
       "      <td>4.84</td>\n",
       "      <td>0.00</td>\n",
       "      <td>53</td>\n",
       "      <td>5</td>\n",
       "      <td>305</td>\n",
       "      <td>75232</td>\n",
       "    </tr>\n",
       "  </tbody>\n",
       "</table>\n",
       "</div>"
      ],
      "text/plain": [
       "      TRAN_AMT  ACCT_PRE_TRAN_AVAIL_BAL  CUST_AGE  OPEN_ACCT_CT  WF_dvc_age  \\\n",
       "2413    487.93                  3714.91        43             5        1037   \n",
       "1003      4.84                     0.00        53             5         305   \n",
       "\n",
       "      CUST_ZIP  \n",
       "2413     80234  \n",
       "1003     75232  "
      ]
     },
     "execution_count": 14,
     "metadata": {},
     "output_type": "execute_result"
    }
   ],
   "source": [
    "df[nume_cols].head(2)"
   ]
  },
  {
   "cell_type": "code",
   "execution_count": 15,
   "id": "54bac5e7",
   "metadata": {},
   "outputs": [
    {
     "name": "stdout",
     "output_type": "stream",
     "text": [
      "TRAN_AMT 6765\n",
      "ACCT_PRE_TRAN_AVAIL_BAL 8213\n",
      "CUST_AGE 90\n",
      "OPEN_ACCT_CT 50\n",
      "WF_dvc_age 1976\n",
      "CUST_ZIP 3750\n"
     ]
    }
   ],
   "source": [
    "# check if there are any categorical features among numerical columns\n",
    "for col in nume_cols:\n",
    "    print (col, len(df[col].unique()))"
   ]
  },
  {
   "cell_type": "markdown",
   "id": "577aca76",
   "metadata": {},
   "source": [
    "Turns out there are few numerical columns which look like categorical in nature: `CUST_AGE`, `OPEN_ACCT_CT`, `CUST_ZIP`"
   ]
  },
  {
   "cell_type": "code",
   "execution_count": 16,
   "id": "e887242b",
   "metadata": {},
   "outputs": [],
   "source": [
    "# move the following columns from numerical to categorical list\n",
    "cols_to_regroup=['CUST_AGE', 'OPEN_ACCT_CT', 'CUST_ZIP']\n",
    "\n",
    "nume_cols = [col for col in nume_cols if col not in cols_to_regroup]\n",
    "cate_cols = cate_cols + cols_to_regroup\n"
   ]
  },
  {
   "cell_type": "code",
   "execution_count": 17,
   "id": "4a7dc478",
   "metadata": {},
   "outputs": [
    {
     "name": "stdout",
     "output_type": "stream",
     "text": [
      "Numeric Columns:\n",
      " ['TRAN_AMT', 'ACCT_PRE_TRAN_AVAIL_BAL', 'WF_dvc_age']\n",
      "\n",
      "Categorical Columns:\n",
      " ['PWD_UPDT_TS', 'CARR_NAME', 'RGN_NAME', 'STATE_PRVNC_TXT', 'ALERT_TRGR_CD', 'DVC_TYPE_TXT', 'AUTHC_PRIM_TYPE_CD', 'AUTHC_SCNDRY_STAT_TXT', 'CUST_STATE', 'PH_NUM_UPDT_TS', 'CUST_SINCE_DT', 'TRAN_TS', 'TRAN_DT', 'ACTN_CD', 'ACTN_INTNL_TXT', 'TRAN_TYPE_CD', 'ACTVY_DT', 'CUST_AGE', 'OPEN_ACCT_CT', 'CUST_ZIP']\n"
     ]
    }
   ],
   "source": [
    "print (\"Numeric Columns:\\n\", nume_cols)\n",
    "print (\"\")\n",
    "print (\"Categorical Columns:\\n\", cate_cols)"
   ]
  },
  {
   "cell_type": "code",
   "execution_count": 18,
   "id": "0c5b3198",
   "metadata": {},
   "outputs": [
    {
     "data": {
      "text/html": [
       "<div>\n",
       "<style scoped>\n",
       "    .dataframe tbody tr th:only-of-type {\n",
       "        vertical-align: middle;\n",
       "    }\n",
       "\n",
       "    .dataframe tbody tr th {\n",
       "        vertical-align: top;\n",
       "    }\n",
       "\n",
       "    .dataframe thead th {\n",
       "        text-align: right;\n",
       "    }\n",
       "</style>\n",
       "<table border=\"1\" class=\"dataframe\">\n",
       "  <thead>\n",
       "    <tr style=\"text-align: right;\">\n",
       "      <th></th>\n",
       "      <th>TRAN_AMT</th>\n",
       "      <th>ACCT_PRE_TRAN_AVAIL_BAL</th>\n",
       "      <th>WF_dvc_age</th>\n",
       "    </tr>\n",
       "  </thead>\n",
       "  <tbody>\n",
       "    <tr>\n",
       "      <th>2413</th>\n",
       "      <td>487.93</td>\n",
       "      <td>3714.91</td>\n",
       "      <td>1037</td>\n",
       "    </tr>\n",
       "    <tr>\n",
       "      <th>1003</th>\n",
       "      <td>4.84</td>\n",
       "      <td>0.00</td>\n",
       "      <td>305</td>\n",
       "    </tr>\n",
       "    <tr>\n",
       "      <th>8660</th>\n",
       "      <td>494.94</td>\n",
       "      <td>2525.50</td>\n",
       "      <td>583</td>\n",
       "    </tr>\n",
       "    <tr>\n",
       "      <th>6349</th>\n",
       "      <td>0.01</td>\n",
       "      <td>0.00</td>\n",
       "      <td>467</td>\n",
       "    </tr>\n",
       "    <tr>\n",
       "      <th>1860</th>\n",
       "      <td>488.36</td>\n",
       "      <td>4344.55</td>\n",
       "      <td>0</td>\n",
       "    </tr>\n",
       "  </tbody>\n",
       "</table>\n",
       "</div>"
      ],
      "text/plain": [
       "      TRAN_AMT  ACCT_PRE_TRAN_AVAIL_BAL  WF_dvc_age\n",
       "2413    487.93                  3714.91        1037\n",
       "1003      4.84                     0.00         305\n",
       "8660    494.94                  2525.50         583\n",
       "6349      0.01                     0.00         467\n",
       "1860    488.36                  4344.55           0"
      ]
     },
     "execution_count": 18,
     "metadata": {},
     "output_type": "execute_result"
    }
   ],
   "source": [
    "df[nume_cols].head(5)"
   ]
  },
  {
   "cell_type": "markdown",
   "id": "8d444c0f",
   "metadata": {},
   "source": [
    "## Class Distribution"
   ]
  },
  {
   "cell_type": "code",
   "execution_count": 19,
   "id": "cbdf9e7a",
   "metadata": {},
   "outputs": [
    {
     "data": {
      "image/png": "[encoded data removed]",
      "text/plain": [
       "<Figure size 432x288 with 1 Axes>"
      ]
     },
     "metadata": {
      "needs_background": "light"
     },
     "output_type": "display_data"
    }
   ],
   "source": [
    "dfs=df.groupby(\"FRAUD_NONFRAUD\")[\"CUST_ZIP\"].count()\n",
    "dfs.plot(kind='bar', color=\"C2\")\n",
    "plt.grid(axis='y')\n",
    "plt.xticks(rotation=0, fontsize=18);\n",
    "plt.xlabel(\"Fraud Status\", fontsize=18);\n",
    "plt.ylabel(\"Total Counts\", fontsize=18);\n",
    "plt.yticks( fontsize=16);\n",
    "plt.title(\"Class Distribution in Training Data\", fontsize=18);\n",
    "pcts = np.round(100*dfs.values/df.shape[0], 1)\n",
    "plt.text(0-0.15, 3800, str(pcts[0])+\"%\", fontsize=20, color=\"C1\");\n",
    "plt.text(1-0.15, 8300, str(pcts[1])+\"%\", fontsize=20, color=\"C1\");\n",
    "plt.ylim([0, 10000]);"
   ]
  },
  {
   "cell_type": "markdown",
   "id": "1938dfe7",
   "metadata": {},
   "source": [
    "## Handling missing variables"
   ]
  },
  {
   "cell_type": "code",
   "execution_count": 20,
   "id": "5b0e1202",
   "metadata": {},
   "outputs": [
    {
     "data": {
      "text/plain": [
       "TRAN_AMT                      0\n",
       "ACCT_PRE_TRAN_AVAIL_BAL       0\n",
       "CUST_AGE                      0\n",
       "OPEN_ACCT_CT                  0\n",
       "WF_dvc_age                    0\n",
       "PWD_UPDT_TS                2516\n",
       "CARR_NAME                  2178\n",
       "RGN_NAME                   2178\n",
       "STATE_PRVNC_TXT            2178\n",
       "ALERT_TRGR_CD                 0\n",
       "DVC_TYPE_TXT               1395\n",
       "AUTHC_PRIM_TYPE_CD            0\n",
       "AUTHC_SCNDRY_STAT_TXT        60\n",
       "CUST_ZIP                      0\n",
       "CUST_STATE                   28\n",
       "PH_NUM_UPDT_TS             5621\n",
       "CUST_SINCE_DT                 0\n",
       "TRAN_TS                       0\n",
       "TRAN_DT                       0\n",
       "ACTN_CD                       0\n",
       "ACTN_INTNL_TXT                0\n",
       "TRAN_TYPE_CD                  0\n",
       "ACTVY_DT                      0\n",
       "FRAUD_NONFRAUD                0\n",
       "dtype: int64"
      ]
     },
     "execution_count": 20,
     "metadata": {},
     "output_type": "execute_result"
    }
   ],
   "source": [
    "df.isnull().sum()"
   ]
  },
  {
   "cell_type": "code",
   "execution_count": 21,
   "id": "841a98d0",
   "metadata": {},
   "outputs": [
    {
     "data": {
      "image/png": "[encoded data removed]",
      "text/plain": [
       "<Figure size 576x432 with 1 Axes>"
      ]
     },
     "metadata": {
      "needs_background": "light"
     },
     "output_type": "display_data"
    }
   ],
   "source": [
    "dfnull=df.isnull().sum()[df.isnull().sum()>0].sort_values(ascending=True)\n",
    "\n",
    "dfnull.plot(kind='barh', color=\"C2\", figsize=(8,6))\n",
    "plt.grid(axis='x')\n",
    "plt.yticks(rotation=0, fontsize=16);\n",
    "#plt.ylabel(\"Features with Missing values\", fontsize=18);\n",
    "plt.xlabel(\"Total Counts\", fontsize=18);\n",
    "plt.xticks( fontsize=18);\n",
    "plt.title(\"Features with Missing Data in Training Dataset\\nAnd the Missing Fraction\",\n",
    "          fontsize=18);\n",
    "pcts = np.round(100*dfnull.values/df.shape[0], 1)\n",
    "vals = dfnull.values\n",
    "\n",
    "for i in range(len(pcts)):\n",
    "    plt.text(vals[i]*1, i-0.15, str(pcts[i])+\"%\", fontsize=20, color=\"C1\");\n",
    "\n",
    "plt.xlim([0, 7000]);"
   ]
  },
  {
   "cell_type": "markdown",
   "id": "3dbd231b",
   "metadata": {},
   "source": [
    "\n",
    "- From the above figure, we can see that 5 features: `PH_NUM_UPDT_TS`, `PWD_UPDT_TS`, `CARR_NAME`, `RGN_NAME`, `STATE_PRVNC_TXT` have almost one fifth of their total training data missing. Imputing these features is doable but the model might not be able to learn much from these features, so I believe dropping these features from the model is a good idea.\n",
    "\n",
    "- There are 3 features: `DVC_TYPE_TXT`, `AUTHC_SCNDRY_STAT_TXT`, `CUST_STATE` which have less than one fifth missing data. In particular `AUTHC_SCNDRY_STAT_TXT`, `CUST_STATE` have less than 1 % of the missing data, which is completely normal in real world data. And we are going to impute the missing values in these three features.\n",
    "\n",
    "- In order to impute the missing data we are using following two methods:\n",
    "    - If the feature is `numerical`, we are going to impute the values by the `median` of the entire feature values.\n",
    "    - If the feature is `categorical`, we are going to impute the values by the `mode` of the entire feature values.\n",
    "    \n",
    "## Case when real-world data has missing data in a new features\n",
    "\n",
    "- This can totally happen when the model is deployed for production. To avoid our model from failing we have to make sure our code has a way to impute the missing data for any features that the model uses.\n",
    "\n",
    "- Create a dictionary with all the column names as keys and the imputation value as the value."
   ]
  },
  {
   "cell_type": "code",
   "execution_count": 22,
   "id": "a5f03de5",
   "metadata": {},
   "outputs": [],
   "source": [
    "cols_to_drop   = ['PH_NUM_UPDT_TS', 'PWD_UPDT_TS', 'CARR_NAME', 'RGN_NAME', 'STATE_PRVNC_TXT']\n",
    "nume_cols      = [c for c in nume_cols if c not in cols_to_drop]\n",
    "cate_cols      = [c for c in cate_cols if c not in cols_to_drop]"
   ]
  },
  {
   "cell_type": "code",
   "execution_count": 23,
   "id": "3223c9bc",
   "metadata": {},
   "outputs": [],
   "source": [
    "def update_cols_to_drop(cols_to_drop, cols):\n",
    "    return list(set(cols_to_drop+cols))"
   ]
  },
  {
   "cell_type": "code",
   "execution_count": 24,
   "id": "8b11c3c8",
   "metadata": {},
   "outputs": [
    {
     "data": {
      "text/plain": [
       "{'TRAN_AMT': 162.07,\n",
       " 'ACCT_PRE_TRAN_AVAIL_BAL': 2396.1549999999997,\n",
       " 'CUST_AGE': 61,\n",
       " 'OPEN_ACCT_CT': 3,\n",
       " 'WF_dvc_age': 366.5,\n",
       " 'ALERT_TRGR_CD': 'MOBL',\n",
       " 'DVC_TYPE_TXT': 'MOBILE',\n",
       " 'AUTHC_PRIM_TYPE_CD': 'UN_PWD',\n",
       " 'AUTHC_SCNDRY_STAT_TXT': 'ALLOW',\n",
       " 'CUST_ZIP': 77459,\n",
       " 'CUST_STATE': 'CA',\n",
       " 'CUST_SINCE_DT': Timestamp('1997-08-01 00:00:00'),\n",
       " 'TRAN_TS': datetime.datetime(2021, 10, 1, 0, 0),\n",
       " 'TRAN_DT': '2/28/2021',\n",
       " 'ACTN_CD': 'SCHPMT',\n",
       " 'ACTN_INTNL_TXT': 'P2P_COMMIT',\n",
       " 'TRAN_TYPE_CD': 'P2P',\n",
       " 'ACTVY_DT': '2/28/2021'}"
      ]
     },
     "execution_count": 24,
     "metadata": {},
     "output_type": "execute_result"
    }
   ],
   "source": [
    "impute_vals={}\n",
    "\n",
    "for col in df.columns:\n",
    "    if col in nume_cols:\n",
    "        impute_vals[col] = df[col].median()\n",
    "    elif col in cate_cols:\n",
    "        impute_vals[col] = df[col].mode()[0]\n",
    "        \n",
    "impute_vals"
   ]
  },
  {
   "cell_type": "code",
   "execution_count": 25,
   "id": "2384ab89",
   "metadata": {},
   "outputs": [],
   "source": [
    "def impute_data(df, impute_dict=impute_vals):\n",
    "    \"\"\"\n",
    "    this function takes in a dataframe and list of columns which have missing values\n",
    "    then imputes those columns using the precomputed values.\n",
    "    \"\"\"\n",
    "    for col in list(impute_dict.keys()):\n",
    "        df[col] = df[col].fillna(impute_dict[col])\n",
    "    return df"
   ]
  },
  {
   "cell_type": "code",
   "execution_count": 26,
   "id": "2d9a7e19",
   "metadata": {},
   "outputs": [],
   "source": [
    "# impute the columns : cols_to_impute\n",
    "df=impute_data(df)"
   ]
  },
  {
   "cell_type": "code",
   "execution_count": 27,
   "id": "6638c391",
   "metadata": {},
   "outputs": [
    {
     "data": {
      "text/plain": [
       "TRAN_AMT                      0\n",
       "ACCT_PRE_TRAN_AVAIL_BAL       0\n",
       "CUST_AGE                      0\n",
       "OPEN_ACCT_CT                  0\n",
       "WF_dvc_age                    0\n",
       "PWD_UPDT_TS                2516\n",
       "CARR_NAME                  2178\n",
       "RGN_NAME                   2178\n",
       "STATE_PRVNC_TXT            2178\n",
       "ALERT_TRGR_CD                 0\n",
       "DVC_TYPE_TXT                  0\n",
       "AUTHC_PRIM_TYPE_CD            0\n",
       "AUTHC_SCNDRY_STAT_TXT         0\n",
       "CUST_ZIP                      0\n",
       "CUST_STATE                    0\n",
       "PH_NUM_UPDT_TS             5621\n",
       "CUST_SINCE_DT                 0\n",
       "TRAN_TS                       0\n",
       "TRAN_DT                       0\n",
       "ACTN_CD                       0\n",
       "ACTN_INTNL_TXT                0\n",
       "TRAN_TYPE_CD                  0\n",
       "ACTVY_DT                      0\n",
       "FRAUD_NONFRAUD                0\n",
       "dtype: int64"
      ]
     },
     "execution_count": 27,
     "metadata": {},
     "output_type": "execute_result"
    }
   ],
   "source": [
    "df.isnull().sum()"
   ]
  },
  {
   "cell_type": "code",
   "execution_count": 28,
   "id": "b2118945",
   "metadata": {},
   "outputs": [
    {
     "data": {
      "text/html": [
       "<div>\n",
       "<style scoped>\n",
       "    .dataframe tbody tr th:only-of-type {\n",
       "        vertical-align: middle;\n",
       "    }\n",
       "\n",
       "    .dataframe tbody tr th {\n",
       "        vertical-align: top;\n",
       "    }\n",
       "\n",
       "    .dataframe thead th {\n",
       "        text-align: right;\n",
       "    }\n",
       "</style>\n",
       "<table border=\"1\" class=\"dataframe\">\n",
       "  <thead>\n",
       "    <tr style=\"text-align: right;\">\n",
       "      <th></th>\n",
       "      <th>TRAN_AMT</th>\n",
       "      <th>ACCT_PRE_TRAN_AVAIL_BAL</th>\n",
       "      <th>CUST_AGE</th>\n",
       "      <th>OPEN_ACCT_CT</th>\n",
       "      <th>WF_dvc_age</th>\n",
       "      <th>PWD_UPDT_TS</th>\n",
       "      <th>CARR_NAME</th>\n",
       "      <th>RGN_NAME</th>\n",
       "      <th>STATE_PRVNC_TXT</th>\n",
       "      <th>ALERT_TRGR_CD</th>\n",
       "      <th>DVC_TYPE_TXT</th>\n",
       "      <th>AUTHC_PRIM_TYPE_CD</th>\n",
       "      <th>AUTHC_SCNDRY_STAT_TXT</th>\n",
       "      <th>CUST_ZIP</th>\n",
       "      <th>CUST_STATE</th>\n",
       "      <th>PH_NUM_UPDT_TS</th>\n",
       "      <th>CUST_SINCE_DT</th>\n",
       "      <th>TRAN_TS</th>\n",
       "      <th>TRAN_DT</th>\n",
       "      <th>ACTN_CD</th>\n",
       "      <th>ACTN_INTNL_TXT</th>\n",
       "      <th>TRAN_TYPE_CD</th>\n",
       "      <th>ACTVY_DT</th>\n",
       "      <th>FRAUD_NONFRAUD</th>\n",
       "    </tr>\n",
       "  </thead>\n",
       "  <tbody>\n",
       "    <tr>\n",
       "      <th>2413</th>\n",
       "      <td>487.93</td>\n",
       "      <td>3714.91</td>\n",
       "      <td>43</td>\n",
       "      <td>5</td>\n",
       "      <td>1037</td>\n",
       "      <td>NaN</td>\n",
       "      <td>NaN</td>\n",
       "      <td>NaN</td>\n",
       "      <td>NaN</td>\n",
       "      <td>MOBL</td>\n",
       "      <td>MOBILE</td>\n",
       "      <td>UN_PWD</td>\n",
       "      <td>ALLOW</td>\n",
       "      <td>80234</td>\n",
       "      <td>CO</td>\n",
       "      <td>5/0/2020 12:33:41</td>\n",
       "      <td>1988-01-11</td>\n",
       "      <td>4/13/2021 5:2:29</td>\n",
       "      <td>4/13/2021</td>\n",
       "      <td>SCHPMT</td>\n",
       "      <td>P2P_COMMIT</td>\n",
       "      <td>P2P</td>\n",
       "      <td>4/13/2021</td>\n",
       "      <td>Fraud</td>\n",
       "    </tr>\n",
       "    <tr>\n",
       "      <th>1003</th>\n",
       "      <td>4.84</td>\n",
       "      <td>0.00</td>\n",
       "      <td>53</td>\n",
       "      <td>5</td>\n",
       "      <td>305</td>\n",
       "      <td>4/12/2017 15:54:53</td>\n",
       "      <td>NaN</td>\n",
       "      <td>NaN</td>\n",
       "      <td>NaN</td>\n",
       "      <td>MOBL</td>\n",
       "      <td>MOBILE</td>\n",
       "      <td>AFA_PL</td>\n",
       "      <td>ALLOW</td>\n",
       "      <td>75232</td>\n",
       "      <td>TX</td>\n",
       "      <td>NaN</td>\n",
       "      <td>1987-04-05</td>\n",
       "      <td>4/29/2021 22:54:53</td>\n",
       "      <td>4/29/2021</td>\n",
       "      <td>SCHPMT</td>\n",
       "      <td>P2P_COMMIT</td>\n",
       "      <td>P2P</td>\n",
       "      <td>4/29/2021</td>\n",
       "      <td>Non-Fraud</td>\n",
       "    </tr>\n",
       "  </tbody>\n",
       "</table>\n",
       "</div>"
      ],
      "text/plain": [
       "      TRAN_AMT  ACCT_PRE_TRAN_AVAIL_BAL  CUST_AGE  OPEN_ACCT_CT  WF_dvc_age  \\\n",
       "2413    487.93                  3714.91        43             5        1037   \n",
       "1003      4.84                     0.00        53             5         305   \n",
       "\n",
       "             PWD_UPDT_TS CARR_NAME RGN_NAME STATE_PRVNC_TXT ALERT_TRGR_CD  \\\n",
       "2413                 NaN       NaN      NaN             NaN          MOBL   \n",
       "1003  4/12/2017 15:54:53       NaN      NaN             NaN          MOBL   \n",
       "\n",
       "     DVC_TYPE_TXT AUTHC_PRIM_TYPE_CD AUTHC_SCNDRY_STAT_TXT  CUST_ZIP  \\\n",
       "2413       MOBILE             UN_PWD                 ALLOW     80234   \n",
       "1003       MOBILE             AFA_PL                 ALLOW     75232   \n",
       "\n",
       "     CUST_STATE     PH_NUM_UPDT_TS CUST_SINCE_DT             TRAN_TS  \\\n",
       "2413         CO  5/0/2020 12:33:41    1988-01-11    4/13/2021 5:2:29   \n",
       "1003         TX                NaN    1987-04-05  4/29/2021 22:54:53   \n",
       "\n",
       "        TRAN_DT ACTN_CD ACTN_INTNL_TXT TRAN_TYPE_CD   ACTVY_DT FRAUD_NONFRAUD  \n",
       "2413  4/13/2021  SCHPMT     P2P_COMMIT          P2P  4/13/2021          Fraud  \n",
       "1003  4/29/2021  SCHPMT     P2P_COMMIT          P2P  4/29/2021      Non-Fraud  "
      ]
     },
     "execution_count": 28,
     "metadata": {},
     "output_type": "execute_result"
    }
   ],
   "source": [
    "df.head(2)"
   ]
  },
  {
   "cell_type": "code",
   "execution_count": 29,
   "id": "43dfd2fd",
   "metadata": {},
   "outputs": [
    {
     "data": {
      "text/html": [
       "<div>\n",
       "<style scoped>\n",
       "    .dataframe tbody tr th:only-of-type {\n",
       "        vertical-align: middle;\n",
       "    }\n",
       "\n",
       "    .dataframe tbody tr th {\n",
       "        vertical-align: top;\n",
       "    }\n",
       "\n",
       "    .dataframe thead th {\n",
       "        text-align: right;\n",
       "    }\n",
       "</style>\n",
       "<table border=\"1\" class=\"dataframe\">\n",
       "  <thead>\n",
       "    <tr style=\"text-align: right;\">\n",
       "      <th></th>\n",
       "      <th>TRAN_AMT</th>\n",
       "      <th>ACCT_PRE_TRAN_AVAIL_BAL</th>\n",
       "      <th>WF_dvc_age</th>\n",
       "    </tr>\n",
       "  </thead>\n",
       "  <tbody>\n",
       "    <tr>\n",
       "      <th>2413</th>\n",
       "      <td>487.93</td>\n",
       "      <td>3714.91</td>\n",
       "      <td>1037</td>\n",
       "    </tr>\n",
       "    <tr>\n",
       "      <th>1003</th>\n",
       "      <td>4.84</td>\n",
       "      <td>0.00</td>\n",
       "      <td>305</td>\n",
       "    </tr>\n",
       "  </tbody>\n",
       "</table>\n",
       "</div>"
      ],
      "text/plain": [
       "      TRAN_AMT  ACCT_PRE_TRAN_AVAIL_BAL  WF_dvc_age\n",
       "2413    487.93                  3714.91        1037\n",
       "1003      4.84                     0.00         305"
      ]
     },
     "execution_count": 29,
     "metadata": {},
     "output_type": "execute_result"
    }
   ],
   "source": [
    "df[nume_cols].head(2)"
   ]
  },
  {
   "cell_type": "code",
   "execution_count": 30,
   "id": "b2370182",
   "metadata": {},
   "outputs": [
    {
     "data": {
      "image/png": "[encoded data removed]",
      "text/plain": [
       "<Figure size 968.25x288 with 1 Axes>"
      ]
     },
     "metadata": {
      "needs_background": "light"
     },
     "output_type": "display_data"
    }
   ],
   "source": [
    "sns.displot(data=df,\n",
    "            x=\"TRAN_AMT\",\n",
    "            alpha=0.3,\n",
    "            hue=\"FRAUD_NONFRAUD\",\n",
    "            height=4,\n",
    "            aspect=3,\n",
    "            kde=True,\n",
    "            palette=\"bright\", \n",
    "            bins=100\n",
    "           )\n",
    "plt.yticks(rotation=0, fontsize=16);\n",
    "plt.ylabel(\"Count\", fontsize=18);\n",
    "plt.xlabel(\"Transaction Amount\", fontsize=18);\n",
    "plt.xticks( fontsize=18);\n",
    "plt.title(\"Distribution of Transaction Amount among Fraud/Non-Fraud class\",fontsize=20);\n",
    "plt.xlim([0, 700]);"
   ]
  },
  {
   "cell_type": "markdown",
   "id": "b7080136",
   "metadata": {},
   "source": [
    "- This plot shows that most of the Fraudulent transactions have been around $500.\n",
    "- So this clearly is an important feature in the model."
   ]
  },
  {
   "cell_type": "code",
   "execution_count": 31,
   "id": "2ad1f1e4",
   "metadata": {},
   "outputs": [
    {
     "data": {
      "image/png": "[encoded data removed]",
      "text/plain": [
       "<Figure size 968.25x288 with 1 Axes>"
      ]
     },
     "metadata": {
      "needs_background": "light"
     },
     "output_type": "display_data"
    }
   ],
   "source": [
    "sns.displot(data=df,\n",
    "            x=\"ACCT_PRE_TRAN_AVAIL_BAL\",\n",
    "            alpha=0.3,\n",
    "            hue=\"FRAUD_NONFRAUD\",\n",
    "            height=4,\n",
    "            aspect=3,\n",
    "            kde=False,\n",
    "            palette=\"bright\", \n",
    "            bins=1000\n",
    "           )\n",
    "plt.yticks(rotation=0, fontsize=16);\n",
    "plt.ylabel(\"Count\", fontsize=18);\n",
    "plt.xlabel(\"Pre-Transaction Available Balance\", fontsize=18);\n",
    "plt.xticks( fontsize=18);\n",
    "plt.title(\"Distribution of Account pre-transaction available balance \\n among Fraud/Non-Fraud class\",fontsize=20);\n",
    "plt.xlim([0, 8000]);"
   ]
  },
  {
   "cell_type": "markdown",
   "id": "7eaac0cf",
   "metadata": {},
   "source": [
    "- This plot shows us that there is a clear peak of distribution for fraudalant transaction in the range 2000-4000, compared to non-fraudalant class which peaks near $100.\n",
    "\n",
    "- So, this feature is an important one for the model."
   ]
  },
  {
   "cell_type": "code",
   "execution_count": 32,
   "id": "7d774d3e",
   "metadata": {},
   "outputs": [
    {
     "data": {
      "text/plain": [
       "(0.0, 2000.0)"
      ]
     },
     "execution_count": 32,
     "metadata": {},
     "output_type": "execute_result"
    },
    {
     "data": {
      "image/png": "[encoded data removed]",
      "text/plain": [
       "<Figure size 968.25x288 with 1 Axes>"
      ]
     },
     "metadata": {
      "needs_background": "light"
     },
     "output_type": "display_data"
    }
   ],
   "source": [
    "sns.displot(data=df,\n",
    "            x=\"WF_dvc_age\",\n",
    "            alpha=0.3,\n",
    "            hue=\"FRAUD_NONFRAUD\",\n",
    "            height=4,\n",
    "            aspect=3,\n",
    "            kde=False,\n",
    "            palette=\"bright\", \n",
    "            bins=50\n",
    "           )\n",
    "plt.yticks(rotation=0, fontsize=16);\n",
    "plt.ylabel(\"Count\", fontsize=18);\n",
    "plt.xlabel(\"WF_dvc_age\", fontsize=18);\n",
    "plt.xticks( fontsize=18);\n",
    "plt.title(\"Distribution of WF_dvc_age among Fraud/Non-Fraud class\",fontsize=20);\n",
    "plt.xlim(0,2000)"
   ]
  },
  {
   "cell_type": "markdown",
   "id": "d5805ec0",
   "metadata": {},
   "source": [
    "- Unlike the previous features, this plot doesn't tell us much about the distinction between fraud vs non-fraud class.\n",
    "\n",
    "- So, this feature may not be greatly important but we should still keep this features as there is some distribution in the range [0,500]"
   ]
  },
  {
   "cell_type": "markdown",
   "id": "8d9560f4",
   "metadata": {},
   "source": [
    "## Build a model with only Numerical features\n",
    "\n",
    "### Prepare test data before building model"
   ]
  },
  {
   "cell_type": "code",
   "execution_count": 33,
   "id": "26fa984e",
   "metadata": {},
   "outputs": [],
   "source": [
    "# map Fraud to 1 and Non-Fraud to 0 in the dataframe for both train and test data\n",
    "df[\"FRAUD_NONFRAUD\"] = df[\"FRAUD_NONFRAUD\"].map({\"Fraud\":1, \"Non-Fraud\":0})"
   ]
  },
  {
   "cell_type": "code",
   "execution_count": 34,
   "id": "be67f722",
   "metadata": {},
   "outputs": [],
   "source": [
    "X_train1, y_train1 = df[nume_cols], df[\"FRAUD_NONFRAUD\"]"
   ]
  },
  {
   "cell_type": "code",
   "execution_count": 35,
   "id": "cb0a1992",
   "metadata": {},
   "outputs": [
    {
     "name": "stdout",
     "output_type": "stream",
     "text": [
      "missing values in test data:\n",
      " TRAN_AMT                   0\n",
      "ACCT_PRE_TRAN_AVAIL_BAL    0\n",
      "WF_dvc_age                 0\n",
      "dtype: int64\n"
     ]
    }
   ],
   "source": [
    "# prepare test data\n",
    "df_test = df_test0.copy()\n",
    "print (\"missing values in test data:\\n\", df_test[nume_cols].isnull().sum() )\n",
    "df_test[\"FRAUD_NONFRAUD\"] = df_test[\"FRAUD_NONFRAUD\"].map({\"Fraud\":1,\"Non-Fraud\":0})\n",
    "X_test1,  y_test1  = df_test[nume_cols], df_test[\"FRAUD_NONFRAUD\"]"
   ]
  },
  {
   "cell_type": "code",
   "execution_count": 36,
   "id": "cd05be2e",
   "metadata": {},
   "outputs": [
    {
     "data": {
      "text/plain": [
       "((11200, 3), (11200,), (2800, 3), (2800,))"
      ]
     },
     "execution_count": 36,
     "metadata": {},
     "output_type": "execute_result"
    }
   ],
   "source": [
    "X_train1.shape, y_train1.shape, X_test1.shape, y_test1.shape"
   ]
  },
  {
   "cell_type": "markdown",
   "id": "bf131bc3",
   "metadata": {},
   "source": [
    "### Base Model: Logistic Regression, Random Forest, XGBoost"
   ]
  },
  {
   "cell_type": "code",
   "execution_count": 37,
   "id": "5534918f",
   "metadata": {},
   "outputs": [],
   "source": [
    "from sklearn.linear_model import LogisticRegression\n",
    "from sklearn.model_selection import GridSearchCV\n",
    "from sklearn.ensemble import RandomForestClassifier\n",
    "from xgboost import XGBClassifier\n",
    "from sklearn.metrics import accuracy_score, f1_score, precision_score, recall_score\n",
    "from sklearn.metrics import classification_report\n",
    "from sklearn.metrics import roc_auc_score"
   ]
  },
  {
   "cell_type": "code",
   "execution_count": 156,
   "id": "f94662ce",
   "metadata": {},
   "outputs": [],
   "source": [
    "class Model_training:\n",
    "    def __init__(self, model, X_train, y_train, X_test, y_test):\n",
    "        self.model = model\n",
    "        self.X_train = X_train\n",
    "        self.y_train = y_train\n",
    "        self.X_test  = X_test\n",
    "        self.y_test  = y_test\n",
    "        \n",
    "        self.model.fit(self.X_train, self.y_train)\n",
    "    \n",
    "    def print_metrics(self):\n",
    "        round_to_pct = lambda x: np.round(100*x, 2)\n",
    "        y_pred = self.model.predict(self.X_test)\n",
    "        ac = round_to_pct(accuracy_score(self.y_test, y_pred))\n",
    "        f1 = round_to_pct(f1_score(self.y_test, y_pred))\n",
    "        pr = round_to_pct(precision_score(self.y_test, y_pred))\n",
    "        re = round_to_pct(recall_score(self.y_test, y_pred))\n",
    "        print (f\"Accuracy = {ac}% F1 Score= {f1}% \\nPrecision={pr}% Recall= {re}%\")\n",
    "        print (classification_report(self.y_test, y_pred))\n",
    "        return (self.model, (ac, f1, pr, re))\n",
    "        \n",
    "    def displot(self):\n",
    "        pr=self.model.predict_proba(self.X_test)        \n",
    "        roc_auc = np.round(roc_auc_score(self.y_test,\n",
    "                                         self.model.predict_proba(self.X_test)[:, 1]), 2)\n",
    "\n",
    "        pr_df = pd.DataFrame({'pred_0':pr[:,0], \n",
    "                              'pred_1':pr[:,1], \n",
    "                              'y': self.y_test})\n",
    "\n",
    "        ax=sns.displot(data=pr_df, \n",
    "                       x='pred_1', \n",
    "                       hue='y', \n",
    "                       alpha=0.8, \n",
    "                       kind=\"kde\",\n",
    "                       height = 3.5, \n",
    "                       aspect=1.8);\n",
    "        \n",
    "        plt.xlabel(\"Prob. Positive Predictions\", fontsize=16)\n",
    "        plt.text(0.2, 2, \"ROC_AUC=\"+str(roc_auc), fontsize=16)\n",
    "        plt.ylabel(\"Density\", fontsize=16)\n",
    "        \n",
    "        plt.yticks(fontsize=16);\n",
    "        plt.xticks(fontsize=16);\n",
    "\n",
    "    def feature_importance(self):\n",
    "\n",
    "        df_imp = pd.DataFrame({\"Feature\":self.X_train.columns, \n",
    "                               \"Importance\":self.model.feature_importances_})\n",
    "        \n",
    "        df_imp = df_imp.sort_values(by=['Importance'],\n",
    "                                    axis=0,\n",
    "                                    ascending=True)\n",
    "        \n",
    "        df_imp.plot(kind='barh',\n",
    "                    x='Feature', y='Importance',\n",
    "                    color=\"C2\", figsize=(8,5));\n",
    "        \n",
    "        plt.grid(axis='x')\n",
    "        plt.yticks(fontsize=16);\n",
    "        plt.ylabel('');\n",
    "        plt.xticks(fontsize=16);\n",
    "        plt.legend(loc='best',fontsize=16);"
   ]
  },
  {
   "cell_type": "code",
   "execution_count": 39,
   "id": "8184846a",
   "metadata": {},
   "outputs": [
    {
     "name": "stdout",
     "output_type": "stream",
     "text": [
      "Accuracy = 93.43% F1 Score= 88.47% \n",
      "Precision=92.53% Recall= 84.75%\n",
      "              precision    recall  f1-score   support\n",
      "\n",
      "           0       0.94      0.97      0.95      1967\n",
      "           1       0.93      0.85      0.88       833\n",
      "\n",
      "    accuracy                           0.93      2800\n",
      "   macro avg       0.93      0.91      0.92      2800\n",
      "weighted avg       0.93      0.93      0.93      2800\n",
      "\n"
     ]
    },
    {
     "data": {
      "image/png": "[encoded data removed]",
      "text/plain": [
       "<Figure size 301.575x216 with 1 Axes>"
      ]
     },
     "metadata": {
      "needs_background": "light"
     },
     "output_type": "display_data"
    }
   ],
   "source": [
    "model_rf = RandomForestClassifier(max_depth=5,\n",
    "                                  random_state=8848)\n",
    "\n",
    "mod = Model_training(model_rf, X_train1, y_train1, X_test1, y_test1)\n",
    "mod_tr, _= mod.print_metrics()\n",
    "mod.displot()"
   ]
  },
  {
   "cell_type": "markdown",
   "id": "6cb1816c",
   "metadata": {},
   "source": [
    "For a base model: F1 score  ~ 88% is a great result."
   ]
  },
  {
   "cell_type": "code",
   "execution_count": 40,
   "id": "5f39e4e1",
   "metadata": {},
   "outputs": [
    {
     "name": "stdout",
     "output_type": "stream",
     "text": [
      "Fitting 5 folds for each of 4 candidates, totalling 20 fits\n"
     ]
    },
    {
     "name": "stderr",
     "output_type": "stream",
     "text": [
      "[Parallel(n_jobs=1)]: Using backend SequentialBackend with 1 concurrent workers.\n",
      "[Parallel(n_jobs=1)]: Done  20 out of  20 | elapsed:   16.2s finished\n"
     ]
    },
    {
     "name": "stdout",
     "output_type": "stream",
     "text": [
      "Accuracy = 93.75% F1 Score= 89.03% \n",
      "Precision=93.18% Recall= 85.23%\n",
      "              precision    recall  f1-score   support\n",
      "\n",
      "           0       0.94      0.97      0.96      1967\n",
      "           1       0.93      0.85      0.89       833\n",
      "\n",
      "    accuracy                           0.94      2800\n",
      "   macro avg       0.94      0.91      0.92      2800\n",
      "weighted avg       0.94      0.94      0.94      2800\n",
      "\n"
     ]
    },
    {
     "data": {
      "image/png": "[encoded data removed]",
      "text/plain": [
       "<Figure size 301.575x216 with 1 Axes>"
      ]
     },
     "metadata": {
      "needs_background": "light"
     },
     "output_type": "display_data"
    }
   ],
   "source": [
    "model_rf_gs = GridSearchCV(RandomForestClassifier(),\n",
    "                           param_grid={'max_depth':[6, 8, 10, 12]},\n",
    "                           scoring ='f1',verbose=1 )\n",
    "\n",
    "mod2 = Model_training(model_rf_gs, X_train1, y_train1, X_test1, y_test1)\n",
    "mod_tr, _= mod2.print_metrics()\n",
    "mod2.displot()"
   ]
  },
  {
   "cell_type": "code",
   "execution_count": 41,
   "id": "ea85b05b",
   "metadata": {},
   "outputs": [
    {
     "data": {
      "text/plain": [
       "{'max_depth': 10}"
      ]
     },
     "execution_count": 41,
     "metadata": {},
     "output_type": "execute_result"
    }
   ],
   "source": [
    "mod_tr.best_params_"
   ]
  },
  {
   "cell_type": "code",
   "execution_count": 42,
   "id": "681e0542",
   "metadata": {},
   "outputs": [
    {
     "name": "stdout",
     "output_type": "stream",
     "text": [
      "Accuracy = 74.75% F1 Score= 55.84% \n",
      "Precision=58.2% Recall= 53.66%\n",
      "              precision    recall  f1-score   support\n",
      "\n",
      "           0       0.81      0.84      0.82      1967\n",
      "           1       0.58      0.54      0.56       833\n",
      "\n",
      "    accuracy                           0.75      2800\n",
      "   macro avg       0.70      0.69      0.69      2800\n",
      "weighted avg       0.74      0.75      0.74      2800\n",
      "\n"
     ]
    },
    {
     "data": {
      "image/png": "[encoded data removed]",
      "text/plain": [
       "<Figure size 301.575x216 with 1 Axes>"
      ]
     },
     "metadata": {
      "needs_background": "light"
     },
     "output_type": "display_data"
    }
   ],
   "source": [
    "model_lr = LogisticRegression(max_iter=5000)\n",
    "\n",
    "mod3 = Model_training(model_lr, X_train1, y_train1, X_test1, y_test1)\n",
    "mod_tr, _= mod3.print_metrics()\n",
    "mod3.displot()"
   ]
  },
  {
   "cell_type": "code",
   "execution_count": 43,
   "id": "4a52e305",
   "metadata": {},
   "outputs": [
    {
     "name": "stdout",
     "output_type": "stream",
     "text": [
      "Accuracy = 92.89% F1 Score= 87.72% \n",
      "Precision=90.23% Recall= 85.35%\n",
      "              precision    recall  f1-score   support\n",
      "\n",
      "           0       0.94      0.96      0.95      1967\n",
      "           1       0.90      0.85      0.88       833\n",
      "\n",
      "    accuracy                           0.93      2800\n",
      "   macro avg       0.92      0.91      0.91      2800\n",
      "weighted avg       0.93      0.93      0.93      2800\n",
      "\n"
     ]
    },
    {
     "data": {
      "image/png": "[encoded data removed]",
      "text/plain": [
       "<Figure size 301.575x216 with 1 Axes>"
      ]
     },
     "metadata": {
      "needs_background": "light"
     },
     "output_type": "display_data"
    }
   ],
   "source": [
    "xgb = XGBClassifier(verbosity=1,\n",
    "                    use_label_encoder=False, \n",
    "                    max_depth=10, \n",
    "                    eval_metric = \"logloss\")\n",
    "\n",
    "mod4 = Model_training(xgb, X_train1, y_train1, X_test1, y_test1)\n",
    "mod_tr, _= mod4.print_metrics()\n",
    "mod4.displot()"
   ]
  },
  {
   "cell_type": "code",
   "execution_count": 44,
   "id": "088af791",
   "metadata": {},
   "outputs": [
    {
     "name": "stdout",
     "output_type": "stream",
     "text": [
      "Accuracy = 92.89% F1 Score= 87.72% \n",
      "Precision=90.23% Recall= 85.35%\n",
      "              precision    recall  f1-score   support\n",
      "\n",
      "           0       0.94      0.96      0.95      1967\n",
      "           1       0.90      0.85      0.88       833\n",
      "\n",
      "    accuracy                           0.93      2800\n",
      "   macro avg       0.92      0.91      0.91      2800\n",
      "weighted avg       0.93      0.93      0.93      2800\n",
      "\n"
     ]
    },
    {
     "data": {
      "image/png": "[encoded data removed]",
      "text/plain": [
       "<Figure size 301.575x216 with 1 Axes>"
      ]
     },
     "metadata": {
      "needs_background": "light"
     },
     "output_type": "display_data"
    }
   ],
   "source": [
    "xgb_gs = GridSearchCV(XGBClassifier(),\n",
    "                           param_grid={'max_depth':[8, 10, 12, 14],\n",
    "                                       'eval_metric' :[\"logloss\"]},\n",
    "                           scoring = 'f1',\n",
    "                           verbose = 0 )\n",
    "\n",
    "mod5 = Model_training(xgb_gs, X_train1, y_train1, X_test1, y_test1)\n",
    "mod_tr, _= mod5.print_metrics()\n",
    "mod5.displot()"
   ]
  },
  {
   "cell_type": "code",
   "execution_count": 45,
   "id": "8fd275ca",
   "metadata": {},
   "outputs": [
    {
     "data": {
      "text/plain": [
       "{'eval_metric': 'logloss', 'max_depth': 10}"
      ]
     },
     "execution_count": 45,
     "metadata": {},
     "output_type": "execute_result"
    }
   ],
   "source": [
    "mod_tr.best_params_"
   ]
  },
  {
   "cell_type": "code",
   "execution_count": null,
   "id": "d8f6e29d",
   "metadata": {},
   "outputs": [],
   "source": []
  },
  {
   "cell_type": "code",
   "execution_count": null,
   "id": "873d4e25",
   "metadata": {},
   "outputs": [],
   "source": []
  },
  {
   "cell_type": "code",
   "execution_count": null,
   "id": "d24ce91c",
   "metadata": {},
   "outputs": [],
   "source": []
  },
  {
   "cell_type": "code",
   "execution_count": null,
   "id": "505af5ec",
   "metadata": {},
   "outputs": [],
   "source": []
  },
  {
   "cell_type": "markdown",
   "id": "6eec6adc",
   "metadata": {},
   "source": [
    "## Deep learning models"
   ]
  },
  {
   "cell_type": "code",
   "execution_count": 46,
   "id": "801508c9",
   "metadata": {},
   "outputs": [],
   "source": [
    "from tensorflow.keras.models import Sequential\n",
    "from tensorflow.keras.optimizers import Adam\n",
    "from tensorflow.keras.layers import Dense, Dropout, Flatten\n",
    "from tensorflow.keras.layers import Conv1D, MaxPooling1D, GlobalMaxPool1D, BatchNormalization\n",
    "from tensorflow.keras import backend as K"
   ]
  },
  {
   "cell_type": "code",
   "execution_count": 47,
   "id": "e473d737",
   "metadata": {},
   "outputs": [],
   "source": [
    "# this piece of code copied from \n",
    "#https://neptune.ai/blog/implementing-the-macro-f1-score-in-keras\n",
    "def custom_f1(y_true, y_pred):    \n",
    "    def recall_m(y_true, y_pred):\n",
    "        TP = K.sum(K.round(K.clip(y_true * y_pred, 0, 1)))\n",
    "        Positives = K.sum(K.round(K.clip(y_true, 0, 1)))\n",
    "        \n",
    "        recall = TP / (Positives+K.epsilon())    \n",
    "        return recall \n",
    "    \n",
    "    \n",
    "    def precision_m(y_true, y_pred):\n",
    "        TP = K.sum(K.round(K.clip(y_true * y_pred, 0, 1)))\n",
    "        Pred_Positives = K.sum(K.round(K.clip(y_pred, 0, 1)))\n",
    "    \n",
    "        precision = TP / (Pred_Positives+K.epsilon())\n",
    "        return precision \n",
    "    \n",
    "    precision, recall = precision_m(y_true, y_pred), recall_m(y_true, y_pred)\n",
    "    \n",
    "    return 2*((precision*recall)/(precision+recall+K.epsilon()))"
   ]
  },
  {
   "cell_type": "code",
   "execution_count": 48,
   "id": "710c258d",
   "metadata": {},
   "outputs": [],
   "source": [
    "def make_model_dense(X_train, y_train):\n",
    "    model = Sequential()\n",
    "    model.add(Dense(1, input_shape=(X_train.shape[1],), activation='relu'))\n",
    "    model.add(Dropout(0.25))\n",
    "    model.add(Dense(1, activation='relu'))\n",
    "    opt = Adam(learning_rate=0.001)\n",
    "    model.compile(loss='binary_crossentropy',\n",
    "                  optimizer=opt,\n",
    "                  metrics=custom_f1)\n",
    "    return model"
   ]
  },
  {
   "cell_type": "code",
   "execution_count": 50,
   "id": "664f883b",
   "metadata": {},
   "outputs": [
    {
     "name": "stdout",
     "output_type": "stream",
     "text": [
      "Model: \"sequential\"\n",
      "_________________________________________________________________\n",
      "Layer (type)                 Output Shape              Param #   \n",
      "=================================================================\n",
      "dense (Dense)                (None, 1)                 4         \n",
      "_________________________________________________________________\n",
      "dropout (Dropout)            (None, 1)                 0         \n",
      "_________________________________________________________________\n",
      "dense_1 (Dense)              (None, 1)                 2         \n",
      "=================================================================\n",
      "Total params: 6\n",
      "Trainable params: 6\n",
      "Non-trainable params: 0\n",
      "_________________________________________________________________\n"
     ]
    }
   ],
   "source": [
    "model_dnn = make_model_dense(X_train1, y_train1)\n",
    "model_dnn.summary()"
   ]
  },
  {
   "cell_type": "code",
   "execution_count": 52,
   "id": "6d23ff8e",
   "metadata": {},
   "outputs": [],
   "source": [
    "history_dnn = model_dnn.fit(X_train1, y_train1,\n",
    "                            validation_data=(X_test1, y_test1),\n",
    "                            epochs=20,\n",
    "                            batch_size=32,\n",
    "                            verbose=0)"
   ]
  },
  {
   "cell_type": "code",
   "execution_count": 53,
   "id": "c45b9cc5",
   "metadata": {},
   "outputs": [
    {
     "data": {
      "text/plain": [
       "[<matplotlib.lines.Line2D at 0x15b570880>]"
      ]
     },
     "execution_count": 53,
     "metadata": {},
     "output_type": "execute_result"
    },
    {
     "data": {
      "image/png": "[encoded data removed]",
      "text/plain": [
       "<Figure size 432x288 with 1 Axes>"
      ]
     },
     "metadata": {
      "needs_background": "light"
     },
     "output_type": "display_data"
    }
   ],
   "source": [
    "plt.plot(history_dnn.history['val_custom_f1'])\n",
    "plt.plot(history_dnn.history['val_loss'])"
   ]
  },
  {
   "cell_type": "markdown",
   "id": "acba589a",
   "metadata": {},
   "source": [
    "## Categorical variables"
   ]
  },
  {
   "cell_type": "code",
   "execution_count": 54,
   "id": "570564c4",
   "metadata": {},
   "outputs": [
    {
     "name": "stdout",
     "output_type": "stream",
     "text": [
      "ALERT_TRGR_CD \t# of Unique values:\t 2\n",
      "DVC_TYPE_TXT \t# of Unique values:\t 4\n",
      "AUTHC_PRIM_TYPE_CD \t# of Unique values:\t 5\n",
      "AUTHC_SCNDRY_STAT_TXT \t# of Unique values:\t 3\n",
      "CUST_STATE \t# of Unique values:\t 48\n",
      "CUST_SINCE_DT \t# of Unique values:\t 7431\n",
      "TRAN_TS \t# of Unique values:\t 10871\n",
      "TRAN_DT \t# of Unique values:\t 333\n",
      "ACTN_CD \t# of Unique values:\t 1\n",
      "ACTN_INTNL_TXT \t# of Unique values:\t 1\n",
      "TRAN_TYPE_CD \t# of Unique values:\t 1\n",
      "ACTVY_DT \t# of Unique values:\t 333\n",
      "CUST_AGE \t# of Unique values:\t 90\n",
      "OPEN_ACCT_CT \t# of Unique values:\t 50\n",
      "CUST_ZIP \t# of Unique values:\t 3750\n"
     ]
    }
   ],
   "source": [
    "# find # of unique features in all categorical features\n",
    "for col in cate_cols:\n",
    "    print (col, \"\\t# of Unique values:\\t\",df[col].nunique() )"
   ]
  },
  {
   "cell_type": "code",
   "execution_count": 55,
   "id": "9e9c2652",
   "metadata": {},
   "outputs": [
    {
     "name": "stdout",
     "output_type": "stream",
     "text": [
      "Features with unique value in the range [1,10]:\n",
      " {'ALERT_TRGR_CD': 2, 'DVC_TYPE_TXT': 4, 'AUTHC_PRIM_TYPE_CD': 5, 'AUTHC_SCNDRY_STAT_TXT': 3, 'ACTN_CD': 1, 'ACTN_INTNL_TXT': 1, 'TRAN_TYPE_CD': 1}\n",
      "\n",
      "Features with unique value in the range [10,100]:\n",
      " {'CUST_STATE': 48, 'CUST_AGE': 90, 'OPEN_ACCT_CT': 50}\n",
      "\n",
      "Features with unique value in the range [100,10000]:\n",
      " {'CUST_SINCE_DT': 7431, 'TRAN_TS': 10871, 'TRAN_DT': 333, 'ACTVY_DT': 333, 'CUST_ZIP': 3750}\n"
     ]
    }
   ],
   "source": [
    "# find # of unique features in all categorical features\n",
    "d0={c:df[c].nunique() for c in cate_cols if (df[c].nunique()<=10) }\n",
    "d1={c:df[c].nunique() for c in cate_cols if (df[c].nunique()>10) & (df[c].nunique()<=100) }\n",
    "d2={c:df[c].nunique() for c in cate_cols if (df[c].nunique()>100) }\n",
    "\n",
    "print (\"Features with unique value in the range [1,10]:\\n\",d0)\n",
    "print (\"\\nFeatures with unique value in the range [10,100]:\\n\",d1)\n",
    "print (\"\\nFeatures with unique value in the range [100,10000]:\\n\",d2)"
   ]
  },
  {
   "cell_type": "markdown",
   "id": "1644ea13",
   "metadata": {},
   "source": [
    "**Observations**\n",
    "Broaddly we can group the categorical features into 3 categories.\n",
    "\n",
    "**Features that have #unique values [1,10]** \n",
    "- 'ALERT_TRGR_CD'  :\t 2 \n",
    "- 'DVC_TYPE_TXT'  :4\n",
    "- 'AUTHC_PRIM_TYPE_CD' : 5\n",
    "- 'AUTHC_SCNDRY_STAT_TXT' : 3\n",
    "- 'ACTN_CD'    : 1\n",
    "- 'ACTN_INTNL_TXT' : 1\n",
    "- 'TRAN_TYPE_CD'   : 1\n",
    "\n",
    "We can safely delete features `ACTN_CD`, `ACTN_INTNL_TXT`,`TRAN_TYPE_CD` as they have constant value all across.\n",
    "\n",
    "For others do some analysis on the distribution.\n",
    "\n",
    "\n",
    "**Features that have #unique values [10,100]** \n",
    "- 'CUST_STATE'  48\n",
    "- 'CUST_AGE'  90\n",
    "- 'OPEN_ACCT_CT' 50\n",
    "\n",
    "We can't use all of these unique values so find a way to cut these sort\n",
    "\n",
    "\n",
    "**Features that have #unique values > 100** \n",
    "\n",
    "- 'CUST_SINCE_DT' 7431\n",
    "- 'TRAN_TS' 10871\n",
    "- 'TRAN_DT' 333\n",
    "- 'ACTVY_DT' 333\n",
    "- 'CUST_ZIP' 3750\n",
    "\n",
    "For these the `TRAN_DT` and `ACTVY_DT` have same unique numbers so they must be same value. Remove one. For the date, it may not tell much to use all of it so may be break it up into year/month/day/time and so on.\n",
    "\n",
    "For `CUST_ZIP` do some distribution analysis and see how it's distributed.\n",
    "\n",
    "For `CUST_SINCE_DT` we might break up the date into year only. as month might not matter much.\n",
    "\n",
    "For `TRAN_TS`, do more analysis as in why it's ogt so may unique values."
   ]
  },
  {
   "cell_type": "code",
   "execution_count": 56,
   "id": "143baef2",
   "metadata": {},
   "outputs": [
    {
     "data": {
      "text/plain": [
       "{'ALERT_TRGR_CD': 2,\n",
       " 'DVC_TYPE_TXT': 4,\n",
       " 'AUTHC_PRIM_TYPE_CD': 5,\n",
       " 'AUTHC_SCNDRY_STAT_TXT': 3,\n",
       " 'ACTN_CD': 1,\n",
       " 'ACTN_INTNL_TXT': 1,\n",
       " 'TRAN_TYPE_CD': 1}"
      ]
     },
     "execution_count": 56,
     "metadata": {},
     "output_type": "execute_result"
    }
   ],
   "source": [
    "d0"
   ]
  },
  {
   "cell_type": "code",
   "execution_count": 57,
   "id": "7063f61e",
   "metadata": {},
   "outputs": [
    {
     "data": {
      "image/png": "[encoded data removed]",
      "text/plain": [
       "<Figure size 1440x720 with 4 Axes>"
      ]
     },
     "metadata": {
      "needs_background": "light"
     },
     "output_type": "display_data"
    }
   ],
   "source": [
    "fig, ax = plt.subplots(2,2, figsize=(20,10))\n",
    "feats = [c for c in list(d0.keys()) if d0[c]>1]\n",
    "for ic, col in enumerate(feats):\n",
    "    axi=ax[ic//2, ic%2]\n",
    "    sns.countplot(x=col, hue=\"FRAUD_NONFRAUD\", data=df, ax=axi)\n",
    "    axi.set_title(col, fontsize=20)\n",
    "    axi.grid(axis='y')\n",
    "    plt.subplots_adjust(wspace=.2, hspace=.4)\n",
    "    axi.tick_params(axis='both', labelsize=18)\n",
    "    \n",
    "    axi.set_xlabel(None, fontsize=18);\n",
    "    axi.set_ylabel(\"Count\", fontsize=18);"
   ]
  },
  {
   "cell_type": "markdown",
   "id": "68ca5633",
   "metadata": {},
   "source": [
    "From these plots we can drop a few more columns `DVC_TYPE_TXT`, `AUTHC_PRIM_TYPE_CD`, `AUTHC_SCNDRY_STAT_TXT` as there is a very small number of data for categories other than one particular category."
   ]
  },
  {
   "cell_type": "code",
   "execution_count": 58,
   "id": "445b6e88",
   "metadata": {},
   "outputs": [
    {
     "data": {
      "text/plain": [
       "{'CUST_STATE': 48, 'CUST_AGE': 90, 'OPEN_ACCT_CT': 50}"
      ]
     },
     "execution_count": 58,
     "metadata": {},
     "output_type": "execute_result"
    }
   ],
   "source": [
    "d1"
   ]
  },
  {
   "cell_type": "code",
   "execution_count": 59,
   "id": "f8801399",
   "metadata": {},
   "outputs": [],
   "source": [
    "def plot_count_plot(col, df=df ):\n",
    "    \n",
    "    fig, axi = plt.subplots(1,1, figsize=(20,5))\n",
    "    sns.countplot(x=col, hue=\"FRAUD_NONFRAUD\",\n",
    "                  data=df, ax=axi, \n",
    "                  order = df[col].value_counts().index,\n",
    "                  #order =  df[col].value_counts().sort_index(ascending=False).keys()\n",
    "                  #df[xcol].value_counts().sort_index().keys()\n",
    "                  #df[xcol].value_counts().sort_index(ascending=False)\n",
    "                 )\n",
    "    axi.set_title(col, fontsize=20)\n",
    "    axi.grid(axis='y')\n",
    "    plt.subplots_adjust(wspace=.2, hspace=.4)\n",
    "    axi.tick_params(axis='both', labelsize=18)\n",
    "    axi.set_xticklabels(labels=df[col].unique(), rotation=90)\n",
    "    axi.set_xlabel(None, fontsize=18);\n",
    "    axi.set_ylabel(\"Count\", fontsize=18);\n",
    "    axi.legend(loc='upper center', fontsize=18);"
   ]
  },
  {
   "cell_type": "code",
   "execution_count": 60,
   "id": "515062f5",
   "metadata": {},
   "outputs": [
    {
     "data": {
      "image/png": "[encoded data removed]",
      "text/plain": [
       "<Figure size 1440x360 with 1 Axes>"
      ]
     },
     "metadata": {
      "needs_background": "light"
     },
     "output_type": "display_data"
    }
   ],
   "source": [
    "xcol=\"CUST_STATE\"\n",
    "plot_count_plot(xcol, df=df )\n",
    "plt.xlim([-.5,14.5]);"
   ]
  },
  {
   "cell_type": "markdown",
   "id": "43c76d9f",
   "metadata": {},
   "source": [
    "for this feature keep only a few states: `CO`, `TX`, `MN`, `AZ` and convert rest into `OTHER`"
   ]
  },
  {
   "cell_type": "code",
   "execution_count": 61,
   "id": "4c3b5ddb",
   "metadata": {},
   "outputs": [
    {
     "data": {
      "text/plain": [
       "(-0.5, 60.0)"
      ]
     },
     "execution_count": 61,
     "metadata": {},
     "output_type": "execute_result"
    },
    {
     "data": {
      "image/png": "[encoded data removed]",
      "text/plain": [
       "<Figure size 1440x360 with 1 Axes>"
      ]
     },
     "metadata": {
      "needs_background": "light"
     },
     "output_type": "display_data"
    }
   ],
   "source": [
    "xcol=\"CUST_AGE\"\n",
    "plot_count_plot(xcol, df=df )\n",
    "plt.xlim([-.5,60])"
   ]
  },
  {
   "cell_type": "markdown",
   "id": "fb24187c",
   "metadata": {},
   "source": [
    "Since there is almost no distribution, remove this feature altogether."
   ]
  },
  {
   "cell_type": "code",
   "execution_count": 62,
   "id": "7ab00a3b",
   "metadata": {},
   "outputs": [
    {
     "data": {
      "image/png": "[encoded data removed]",
      "text/plain": [
       "<Figure size 1440x360 with 1 Axes>"
      ]
     },
     "metadata": {
      "needs_background": "light"
     },
     "output_type": "display_data"
    }
   ],
   "source": [
    "xcol=\"OPEN_ACCT_CT\"\n",
    "plot_count_plot(xcol, df=df )"
   ]
  },
  {
   "cell_type": "markdown",
   "id": "8ddb1118",
   "metadata": {},
   "source": [
    "From this keep only the [1,12] `OPEN_ACCT_CT` and convert others to `13`"
   ]
  },
  {
   "cell_type": "code",
   "execution_count": 63,
   "id": "069179b4",
   "metadata": {},
   "outputs": [
    {
     "data": {
      "text/plain": [
       "{'CUST_SINCE_DT': 7431,\n",
       " 'TRAN_TS': 10871,\n",
       " 'TRAN_DT': 333,\n",
       " 'ACTVY_DT': 333,\n",
       " 'CUST_ZIP': 3750}"
      ]
     },
     "execution_count": 63,
     "metadata": {},
     "output_type": "execute_result"
    }
   ],
   "source": [
    "# categories with more than 100 unique values\n",
    "d2"
   ]
  },
  {
   "cell_type": "code",
   "execution_count": 64,
   "id": "b535ace5",
   "metadata": {},
   "outputs": [
    {
     "data": {
      "text/plain": [
       "1.0"
      ]
     },
     "execution_count": 64,
     "metadata": {},
     "output_type": "execute_result"
    }
   ],
   "source": [
    "# check whether 'TRAN_DT' and 'ACTVY_DT' are same columns\n",
    "(df['TRAN_DT']==df['ACTVY_DT']).sum()/df.shape[0]"
   ]
  },
  {
   "cell_type": "code",
   "execution_count": 65,
   "id": "35e72598",
   "metadata": {},
   "outputs": [],
   "source": [
    "from datetime import datetime"
   ]
  },
  {
   "cell_type": "code",
   "execution_count": null,
   "id": "afd4fe9e",
   "metadata": {},
   "outputs": [],
   "source": [
    "df['ACTVY_DT']"
   ]
  },
  {
   "cell_type": "code",
   "execution_count": null,
   "id": "7e27abe3",
   "metadata": {},
   "outputs": [],
   "source": [
    "df['ACTVY_DT'] = pd.to_datetime(df['ACTVY_DT'].str.strip())\n",
    "df['ACTVY_DT_DAY'] = df['ACTVY_DT'].apply(lambda x: x.day)\n",
    "df['ACTVY_DT_MONTH'] = df['ACTVY_DT'].apply(lambda x: x.month)\n",
    "df['ACTVY_DT_YEAR'] = df['ACTVY_DT'].apply(lambda x: x.year)"
   ]
  },
  {
   "cell_type": "code",
   "execution_count": null,
   "id": "fd0ebec3",
   "metadata": {},
   "outputs": [],
   "source": [
    "d2"
   ]
  },
  {
   "cell_type": "code",
   "execution_count": null,
   "id": "02575267",
   "metadata": {},
   "outputs": [],
   "source": [
    "df[\"CUST_SINCE_DT_YEAR\"]=df[\"CUST_SINCE_DT\"].apply(lambda x: x.year)\n",
    "df[\"CUST_SINCE_DT_MONTH\"] = df[\"CUST_SINCE_DT\"].apply(lambda x: x.month)"
   ]
  },
  {
   "cell_type": "code",
   "execution_count": null,
   "id": "0aca2bb0",
   "metadata": {},
   "outputs": [],
   "source": [
    "xcol=\"CUST_SINCE_DT_MONTH\"\n",
    "plot_count_plot(xcol, df=df )"
   ]
  },
  {
   "cell_type": "code",
   "execution_count": null,
   "id": "1b83a1cd",
   "metadata": {},
   "outputs": [],
   "source": [
    "xcol=\"CUST_SINCE_DT_YEAR\"\n",
    "plot_count_plot(xcol, df=df )"
   ]
  },
  {
   "cell_type": "markdown",
   "id": "b28d659f",
   "metadata": {},
   "source": [
    "## Data Wrangling\n",
    "\n",
    "- Convert the categorical featurs into small number of categories when possible"
   ]
  },
  {
   "cell_type": "code",
   "execution_count": 66,
   "id": "a36c9dff",
   "metadata": {},
   "outputs": [],
   "source": [
    "def wrangle_column_data(df):\n",
    "    #CUST_STATE\n",
    "    # keep only CO, TX, MN, AZ and convert rest into OTHER\n",
    "    df[\"CUST_STATE\"] = df[\"CUST_STATE\"].apply(lambda x: x if x in [\"CO\", \"TX\", \"MN\", \"AZ\"] else \"OTHER\")\n",
    "    #OPEN_ACCT_CT\n",
    "    #keep only the [2,9] and convert others to 10\n",
    "    df[\"OPEN_ACCT_CT\"] = df[\"OPEN_ACCT_CT\"].apply(lambda x: x if x in range(1,13) else 13)\n",
    "    return df"
   ]
  },
  {
   "cell_type": "code",
   "execution_count": 67,
   "id": "8f08d747",
   "metadata": {},
   "outputs": [],
   "source": [
    "df=wrangle_column_data(df)"
   ]
  },
  {
   "cell_type": "code",
   "execution_count": 68,
   "id": "4f7d8aa1",
   "metadata": {},
   "outputs": [],
   "source": [
    "cate_cols_to_keep = ['ALERT_TRGR_CD', \"CUST_STATE\", \"OPEN_ACCT_CT\"]"
   ]
  },
  {
   "cell_type": "code",
   "execution_count": 69,
   "id": "140ebf82",
   "metadata": {},
   "outputs": [
    {
     "data": {
      "text/html": [
       "<div>\n",
       "<style scoped>\n",
       "    .dataframe tbody tr th:only-of-type {\n",
       "        vertical-align: middle;\n",
       "    }\n",
       "\n",
       "    .dataframe tbody tr th {\n",
       "        vertical-align: top;\n",
       "    }\n",
       "\n",
       "    .dataframe thead th {\n",
       "        text-align: right;\n",
       "    }\n",
       "</style>\n",
       "<table border=\"1\" class=\"dataframe\">\n",
       "  <thead>\n",
       "    <tr style=\"text-align: right;\">\n",
       "      <th></th>\n",
       "      <th>ALERT_TRGR_CD</th>\n",
       "      <th>CUST_STATE</th>\n",
       "      <th>OPEN_ACCT_CT</th>\n",
       "    </tr>\n",
       "  </thead>\n",
       "  <tbody>\n",
       "    <tr>\n",
       "      <th>2413</th>\n",
       "      <td>MOBL</td>\n",
       "      <td>CO</td>\n",
       "      <td>5</td>\n",
       "    </tr>\n",
       "    <tr>\n",
       "      <th>1003</th>\n",
       "      <td>MOBL</td>\n",
       "      <td>TX</td>\n",
       "      <td>5</td>\n",
       "    </tr>\n",
       "    <tr>\n",
       "      <th>8660</th>\n",
       "      <td>MOBL</td>\n",
       "      <td>TX</td>\n",
       "      <td>9</td>\n",
       "    </tr>\n",
       "    <tr>\n",
       "      <th>6349</th>\n",
       "      <td>ONLN</td>\n",
       "      <td>MN</td>\n",
       "      <td>6</td>\n",
       "    </tr>\n",
       "    <tr>\n",
       "      <th>1860</th>\n",
       "      <td>MOBL</td>\n",
       "      <td>AZ</td>\n",
       "      <td>4</td>\n",
       "    </tr>\n",
       "  </tbody>\n",
       "</table>\n",
       "</div>"
      ],
      "text/plain": [
       "     ALERT_TRGR_CD CUST_STATE  OPEN_ACCT_CT\n",
       "2413          MOBL         CO             5\n",
       "1003          MOBL         TX             5\n",
       "8660          MOBL         TX             9\n",
       "6349          ONLN         MN             6\n",
       "1860          MOBL         AZ             4"
      ]
     },
     "execution_count": 69,
     "metadata": {},
     "output_type": "execute_result"
    }
   ],
   "source": [
    "df[cate_cols_to_keep].head()"
   ]
  },
  {
   "cell_type": "markdown",
   "id": "fd025451",
   "metadata": {},
   "source": [
    "## One Hot encoding the Categorical features"
   ]
  },
  {
   "cell_type": "code",
   "execution_count": 70,
   "id": "bc536426",
   "metadata": {},
   "outputs": [],
   "source": [
    "import category_encoders as ce"
   ]
  },
  {
   "cell_type": "code",
   "execution_count": 71,
   "id": "f64e858d",
   "metadata": {},
   "outputs": [],
   "source": [
    "df2 = df_train0.copy()\n",
    "df2[\"FRAUD_NONFRAUD\"] =  df2[\"FRAUD_NONFRAUD\"].map({\"Fraud\":1, \"Non-Fraud\":0})\n",
    "df2 = impute_data(df2)\n",
    "df2 = wrangle_column_data(df2)"
   ]
  },
  {
   "cell_type": "code",
   "execution_count": 72,
   "id": "0bf5a04e",
   "metadata": {},
   "outputs": [],
   "source": [
    "encoder = ce.OneHotEncoder()\n",
    "df2_tr_cat = encoder.fit_transform(df[cate_cols_to_keep])\n",
    "df2_tr_join = pd.concat( [df2[nume_cols], df2_tr_cat], axis=1)\n",
    "X_train2 = df2_tr_join.values\n",
    "y_train2 = df2[\"FRAUD_NONFRAUD\"].values"
   ]
  },
  {
   "cell_type": "code",
   "execution_count": 73,
   "id": "136307da",
   "metadata": {},
   "outputs": [],
   "source": [
    "# test data\n",
    "\n",
    "df2_te = df_test0.copy()\n",
    "df2_te[\"FRAUD_NONFRAUD\"] = df2_te[\"FRAUD_NONFRAUD\"].map({\"Fraud\":1, \"Non-Fraud\":0})\n",
    "df2_te = impute_data(df2_te)\n",
    "df2_te = wrangle_column_data(df2_te)"
   ]
  },
  {
   "cell_type": "code",
   "execution_count": 74,
   "id": "ebe5dccf",
   "metadata": {},
   "outputs": [],
   "source": [
    "df2_te_cat = encoder.transform(df2_te[cate_cols_to_keep])\n",
    "df2_te_join = pd.concat( [df2_te[nume_cols], df2_te_cat], axis=1)\n",
    "X_test2 = df2_te_join.values\n",
    "y_test2 = df2_te[\"FRAUD_NONFRAUD\"].values"
   ]
  },
  {
   "cell_type": "code",
   "execution_count": 75,
   "id": "f980de07",
   "metadata": {},
   "outputs": [
    {
     "data": {
      "text/plain": [
       "((11200, 11), (11200,), (2800, 11), (2800,))"
      ]
     },
     "execution_count": 75,
     "metadata": {},
     "output_type": "execute_result"
    }
   ],
   "source": [
    "X_train2.shape, y_train2.shape, X_test2.shape, y_test2.shape"
   ]
  },
  {
   "cell_type": "code",
   "execution_count": 78,
   "id": "eb2f344e",
   "metadata": {},
   "outputs": [
    {
     "name": "stdout",
     "output_type": "stream",
     "text": [
      "Accuracy = 92.89% F1 Score= 87.72% \n",
      "Precision=90.23% Recall= 85.35%\n",
      "              precision    recall  f1-score   support\n",
      "\n",
      "           0       0.94      0.96      0.95      1967\n",
      "           1       0.90      0.85      0.88       833\n",
      "\n",
      "    accuracy                           0.93      2800\n",
      "   macro avg       0.92      0.91      0.91      2800\n",
      "weighted avg       0.93      0.93      0.93      2800\n",
      "\n"
     ]
    },
    {
     "data": {
      "image/png": "[encoded data removed]",
      "text/plain": [
       "<Figure size 387.975x216 with 1 Axes>"
      ]
     },
     "metadata": {
      "needs_background": "light"
     },
     "output_type": "display_data"
    }
   ],
   "source": [
    "xgb = XGBClassifier(verbosity=1,\n",
    "                    max_depth=10,\n",
    "                    eval_metric = \"logloss\")\n",
    "\n",
    "mod6 = Model_training(xgb, X_train2, y_train2, X_test2, y_test2)\n",
    "mod_trained, _ = mod5.print_metrics()\n",
    "mod6.displot()"
   ]
  },
  {
   "cell_type": "markdown",
   "id": "12fa52d8",
   "metadata": {},
   "source": [
    "## Different type of Encoding \n",
    "- Ordinal labeling for `OPEN_ACCT_CT` features"
   ]
  },
  {
   "cell_type": "code",
   "execution_count": 79,
   "id": "4e131324",
   "metadata": {},
   "outputs": [],
   "source": [
    "df3 = df_train0.copy()\n",
    "df3[\"FRAUD_NONFRAUD\"] = df3[\"FRAUD_NONFRAUD\"].map({\"Fraud\":1, \"Non-Fraud\":0})\n",
    "df3 = impute_data(df3)\n",
    "df3 = wrangle_column_data(df3)"
   ]
  },
  {
   "cell_type": "code",
   "execution_count": 80,
   "id": "8b4d33de",
   "metadata": {},
   "outputs": [],
   "source": [
    "enc_cols = [\"ALERT_TRGR_CD\", \"CUST_STATE\"]\n",
    "df3_num1 = pd.concat( [df3[nume_cols], df3['OPEN_ACCT_CT']], axis=1)\n",
    "encoder  = ce.OneHotEncoder()\n",
    "df3_cat  = encoder.fit_transform(df3[enc_cols])\n",
    "df3_join = pd.concat( [df3_num1, df3_cat], axis=1)\n",
    "X_train3 = df3_join\n",
    "y_train3 = df3[\"FRAUD_NONFRAUD\"]"
   ]
  },
  {
   "cell_type": "code",
   "execution_count": 81,
   "id": "46ba1d84",
   "metadata": {},
   "outputs": [],
   "source": [
    "df3_te = df_test0.copy()\n",
    "df3_te[\"FRAUD_NONFRAUD\"] = df3_te[\"FRAUD_NONFRAUD\"].map({\"Fraud\":1, \"Non-Fraud\":0})\n",
    "df3_te = impute_data(df3_te)\n",
    "df3_te = wrangle_column_data(df3_te)"
   ]
  },
  {
   "cell_type": "code",
   "execution_count": 82,
   "id": "2cf5b9a8",
   "metadata": {},
   "outputs": [],
   "source": [
    "enc_cols = [\"ALERT_TRGR_CD\", \"CUST_STATE\"]\n",
    "df3_te_num1 = pd.concat( [df3_te[nume_cols], df3_te['OPEN_ACCT_CT']], axis=1)\n",
    "df3_te_cat  = encoder.transform(df3_te[enc_cols])\n",
    "df3_te_join = pd.concat( [df3_te_num1, df3_te_cat], axis=1)\n",
    "X_test3 = df3_te_join\n",
    "y_test3 = df3_te[\"FRAUD_NONFRAUD\"]"
   ]
  },
  {
   "cell_type": "code",
   "execution_count": 83,
   "id": "b932fcbc",
   "metadata": {},
   "outputs": [
    {
     "data": {
      "text/plain": [
       "((11200, 11), (11200,), (2800, 11), (2800,))"
      ]
     },
     "execution_count": 83,
     "metadata": {},
     "output_type": "execute_result"
    }
   ],
   "source": [
    "X_train3.shape, y_train3.shape, X_test3.shape, y_test3.shape"
   ]
  },
  {
   "cell_type": "code",
   "execution_count": 84,
   "id": "3f0db55f",
   "metadata": {},
   "outputs": [
    {
     "data": {
      "text/plain": [
       "((11200, 11), (11200,))"
      ]
     },
     "execution_count": 84,
     "metadata": {},
     "output_type": "execute_result"
    }
   ],
   "source": [
    "X_train3.shape, y_train3.shape, "
   ]
  },
  {
   "cell_type": "code",
   "execution_count": 157,
   "id": "57999ce7",
   "metadata": {},
   "outputs": [
    {
     "name": "stdout",
     "output_type": "stream",
     "text": [
      "Accuracy = 93.21% F1 Score= 88.27% \n",
      "Precision=90.85% Recall= 85.83%\n",
      "              precision    recall  f1-score   support\n",
      "\n",
      "           0       0.94      0.96      0.95      1967\n",
      "           1       0.91      0.86      0.88       833\n",
      "\n",
      "    accuracy                           0.93      2800\n",
      "   macro avg       0.92      0.91      0.92      2800\n",
      "weighted avg       0.93      0.93      0.93      2800\n",
      "\n"
     ]
    },
    {
     "data": {
      "image/png": "[encoded data removed]",
      "text/plain": [
       "<Figure size 495.975x252 with 1 Axes>"
      ]
     },
     "metadata": {
      "needs_background": "light"
     },
     "output_type": "display_data"
    },
    {
     "data": {
      "image/png": "[encoded data removed]",
      "text/plain": [
       "<Figure size 576x360 with 1 Axes>"
      ]
     },
     "metadata": {
      "needs_background": "light"
     },
     "output_type": "display_data"
    }
   ],
   "source": [
    "xgb = XGBClassifier(verbosity=1,\n",
    "                    use_label_encoder=False, \n",
    "                    max_depth=10, \n",
    "                    eval_metric = \"logloss\")\n",
    "\n",
    "mod7 = Model_training(xgb, X_train3, y_train3, X_test3, y_test3)\n",
    "mod_trained, _ = mod7.print_metrics()\n",
    "mod7.displot()\n",
    "mod7.feature_importance()"
   ]
  },
  {
   "cell_type": "code",
   "execution_count": 166,
   "id": "faaed6ba",
   "metadata": {},
   "outputs": [
    {
     "name": "stdout",
     "output_type": "stream",
     "text": [
      "Accuracy = 93.21% F1 Score= 88.21% \n",
      "Precision=91.27% Recall= 85.35%\n",
      "              precision    recall  f1-score   support\n",
      "\n",
      "           0       0.94      0.97      0.95      1967\n",
      "           1       0.91      0.85      0.88       833\n",
      "\n",
      "    accuracy                           0.93      2800\n",
      "   macro avg       0.93      0.91      0.92      2800\n",
      "weighted avg       0.93      0.93      0.93      2800\n",
      "\n"
     ]
    },
    {
     "data": {
      "image/png": "[encoded data removed]",
      "text/plain": [
       "<Figure size 495.975x252 with 1 Axes>"
      ]
     },
     "metadata": {
      "needs_background": "light"
     },
     "output_type": "display_data"
    },
    {
     "data": {
      "image/png": "[encoded data removed]",
      "text/plain": [
       "<Figure size 576x360 with 1 Axes>"
      ]
     },
     "metadata": {
      "needs_background": "light"
     },
     "output_type": "display_data"
    }
   ],
   "source": [
    "xgb = XGBClassifier(verbosity=1,\n",
    "                    use_label_encoder=False, \n",
    "                    max_depth=10, \n",
    "                    n_estimators=40,\n",
    "                    eval_metric = \"logloss\")\n",
    "\n",
    "mod7 = Model_training(xgb, X_train1, y_train1, X_test1, y_test1)\n",
    "mod_trained, _ = mod7.print_metrics()\n",
    "mod7.displot()\n",
    "mod7.feature_importance()"
   ]
  },
  {
   "cell_type": "code",
   "execution_count": 171,
   "id": "fa33b3e6",
   "metadata": {},
   "outputs": [
    {
     "name": "stdout",
     "output_type": "stream",
     "text": [
      "Accuracy = 93.21% F1 Score= 88.21% \n",
      "Precision=91.27% Recall= 85.35%\n",
      "              precision    recall  f1-score   support\n",
      "\n",
      "           0       0.94      0.97      0.95      1967\n",
      "           1       0.91      0.85      0.88       833\n",
      "\n",
      "    accuracy                           0.93      2800\n",
      "   macro avg       0.93      0.91      0.92      2800\n",
      "weighted avg       0.93      0.93      0.93      2800\n",
      "\n"
     ]
    },
    {
     "data": {
      "image/png": "[encoded data removed]",
      "text/plain": [
       "<Figure size 495.975x252 with 1 Axes>"
      ]
     },
     "metadata": {
      "needs_background": "light"
     },
     "output_type": "display_data"
    }
   ],
   "source": [
    "xgb_gs = GridSearchCV(XGBClassifier(),\n",
    "                           param_grid={'max_depth':[8, 10],\n",
    "                                       'n_estimators':[10,20,30],\n",
    "                                       'learning_rate':[0.01, 0.02, 0.05, 0.1],\n",
    "                                       'eval_metric' :[\"logloss\"]\n",
    "                                      },\n",
    "                           scoring = 'f1',\n",
    "                           verbose = 0 )\n",
    "\n",
    "mod5 = Model_training(xgb_gs, X_train1, y_train1, X_test1, y_test1)\n",
    "mod_tr, _= mod5.print_metrics()\n",
    "mod5.displot()"
   ]
  },
  {
   "cell_type": "code",
   "execution_count": 168,
   "id": "5b5020b8",
   "metadata": {},
   "outputs": [
    {
     "data": {
      "text/plain": [
       "{'eval_metric': 'logloss', 'max_depth': 8, 'n_estimators': 20}"
      ]
     },
     "execution_count": 168,
     "metadata": {},
     "output_type": "execute_result"
    }
   ],
   "source": [
    "mod_tr.best_params_"
   ]
  },
  {
   "cell_type": "code",
   "execution_count": 172,
   "id": "40e4749a",
   "metadata": {},
   "outputs": [],
   "source": [
    "# SVM\n",
    "from sklearn.svm import SVC"
   ]
  },
  {
   "cell_type": "code",
   "execution_count": 173,
   "id": "82d5fd83",
   "metadata": {},
   "outputs": [
    {
     "name": "stdout",
     "output_type": "stream",
     "text": [
      "Accuracy = 93.21% F1 Score= 88.21% \n",
      "Precision=91.27% Recall= 85.35%\n",
      "              precision    recall  f1-score   support\n",
      "\n",
      "           0       0.94      0.97      0.95      1967\n",
      "           1       0.91      0.85      0.88       833\n",
      "\n",
      "    accuracy                           0.93      2800\n",
      "   macro avg       0.93      0.91      0.92      2800\n",
      "weighted avg       0.93      0.93      0.93      2800\n",
      "\n"
     ]
    },
    {
     "data": {
      "image/png": "[encoded data removed]",
      "text/plain": [
       "<Figure size 495.975x252 with 1 Axes>"
      ]
     },
     "metadata": {
      "needs_background": "light"
     },
     "output_type": "display_data"
    }
   ],
   "source": [
    "svm = SVC(gamma='auto')\n",
    "mod = Model_training(xgb_gs, X_train1, y_train1, X_test1, y_test1)\n",
    "mod_tr, _= mod.print_metrics()\n",
    "mod.displot()"
   ]
  },
  {
   "cell_type": "code",
   "execution_count": null,
   "id": "aab9a84a",
   "metadata": {},
   "outputs": [],
   "source": [
    "svm_gs = GridSearchCV(SVC(),\n",
    "                       param_grid={'C':[0.1, 0.5, 1.0],\n",
    "                                   'kernel':['poly', 'rbf'],\n",
    "                                   'gamma': ['scale', 'auto']},\n",
    "                       scoring = 'f1',\n",
    "                       verbose = 1 )\n",
    "\n",
    "mod = Model_training(svm_gs, X_train1, y_train1, X_test1, y_test1)\n",
    "mod_tr, _= mod.print_metrics()\n",
    "mod.displot()"
   ]
  },
  {
   "cell_type": "code",
   "execution_count": null,
   "id": "01c6dca1",
   "metadata": {},
   "outputs": [],
   "source": [
    "svm_gs = GridSearchCV(SVC(),\n",
    "                       param_grid={'C':[0.1, 0.5, 1.0],\n",
    "                                   'kernel':['poly', 'rbf'],\n",
    "                                   'gamma': ['scale', 'auto']},\n",
    "                       scoring = 'f1',\n",
    "                       verbose = 1 )\n",
    "\n",
    "mod = Model_training(svm_gs, X_train1, y_train1, X_test1, y_test1)\n",
    "mod_tr, _= mod.print_metrics()\n",
    "mod.displot()"
   ]
  },
  {
   "cell_type": "code",
   "execution_count": null,
   "id": "39b795d9",
   "metadata": {},
   "outputs": [],
   "source": []
  },
  {
   "cell_type": "code",
   "execution_count": null,
   "id": "41739cd3",
   "metadata": {},
   "outputs": [],
   "source": []
  },
  {
   "cell_type": "code",
   "execution_count": null,
   "id": "80a3c79d",
   "metadata": {},
   "outputs": [],
   "source": [
    "if BUILD96:\n",
    "    oof = np.zeros(len(X_train))\n",
    "    preds = np.zeros(len(X_test))\n",
    "\n",
    "    skf = GroupKFold(n_splits=6)\n",
    "    for i, (idxT, idxV) in enumerate( skf.split(X_train, y_train, groups=X_train['DT_M']) ):\n",
    "        month = X_train.iloc[idxV]['DT_M'].iloc[0]\n",
    "        print('Fold',i,'withholding month',month)\n",
    "        print(' rows of train =',len(idxT),'rows of holdout =',len(idxV))\n",
    "        clf = xgb.XGBClassifier(\n",
    "            n_estimators=5000,\n",
    "            max_depth=12,\n",
    "            learning_rate=0.02,\n",
    "            subsample=0.8,\n",
    "            colsample_bytree=0.4,\n",
    "            missing=-1,\n",
    "            eval_metric='auc',\n",
    "            # USE CPU\n",
    "            #nthread=4,\n",
    "            #tree_method='hist'\n",
    "            # USE GPU\n",
    "            tree_method='gpu_hist' \n",
    "        )        \n",
    "        h = clf.fit(X_train[cols].iloc[idxT], y_train.iloc[idxT], \n",
    "                eval_set=[(X_train[cols].iloc[idxV],y_train.iloc[idxV])],\n",
    "                verbose=100, early_stopping_rounds=200)\n",
    "    \n",
    "        oof[idxV] += clf.predict_proba(X_train[cols].iloc[idxV])[:,1]\n",
    "        preds += clf.predict_proba(X_test[cols])[:,1]/skf.n_splits\n",
    "        del h, clf\n",
    "        x=gc.collect()\n",
    "    print('#'*20)\n",
    "    print ('XGB96 OOF CV=',roc_auc_score(y_train,oof))\n"
   ]
  }
 ],
 "metadata": {
  "kernelspec": {
   "display_name": "Python 3",
   "language": "python",
   "name": "python3"
  },
  "language_info": {
   "codemirror_mode": {
    "name": "ipython",
    "version": 3
   },
   "file_extension": ".py",
   "mimetype": "text/x-python",
   "name": "python",
   "nbconvert_exporter": "python",
   "pygments_lexer": "ipython3",
   "version": "3.9.5"
  }
 },
 "nbformat": 4,
 "nbformat_minor": 5
}
